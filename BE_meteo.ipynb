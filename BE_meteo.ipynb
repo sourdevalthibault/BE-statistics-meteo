{
 "cells": [
  {
   "cell_type": "markdown",
   "id": "8c96d803",
   "metadata": {
    "vscode": {
     "languageId": "r"
    }
   },
   "source": [
    "\n",
    "# BE Meteo \n",
    "## HERVIOUX, SOURDEVAL, MANCIET, DUC-MARTIN, LEFAUCONNIER"
   ]
  },
  {
   "cell_type": "code",
   "execution_count": 18,
   "id": "6cc8c114",
   "metadata": {
    "vscode": {
     "languageId": "r"
    }
   },
   "outputs": [
    {
     "name": "stderr",
     "output_type": "stream",
     "text": [
      "Warning message in readLines(\"path.txt\"):\n",
      "“incomplete final line found on 'path.txt'”\n"
     ]
    },
    {
     "data": {
      "text/html": [
       "'/mnt/c/Users/Thibault/Downloads/donnees-synop-essentielles-omm.csv'"
      ],
      "text/latex": [
       "'/mnt/c/Users/Thibault/Downloads/donnees-synop-essentielles-omm.csv'"
      ],
      "text/markdown": [
       "'/mnt/c/Users/Thibault/Downloads/donnees-synop-essentielles-omm.csv'"
      ],
      "text/plain": [
       "[1] \"/mnt/c/Users/Thibault/Downloads/donnees-synop-essentielles-omm.csv\""
      ]
     },
     "metadata": {},
     "output_type": "display_data"
    }
   ],
   "source": [
    "path_data <- paste(readLines(\"path.txt\"), collapse = \"\\n\")\n",
    "path_data"
   ]
  },
  {
   "cell_type": "code",
   "execution_count": 19,
   "id": "2de76bc5",
   "metadata": {
    "vscode": {
     "languageId": "r"
    }
   },
   "outputs": [
    {
     "data": {
      "text/html": [
       "<table class=\"dataframe\">\n",
       "<caption>A data.table: 6 × 82</caption>\n",
       "<thead>\n",
       "\t<tr><th scope=col>ID OMM station</th><th scope=col>Date</th><th scope=col>Pression au niveau mer</th><th scope=col>Variation de pression en 3 heures</th><th scope=col>Type de tendance barométrique</th><th scope=col>Direction du vent moyen 10 mn</th><th scope=col>Vitesse du vent moyen 10 mn</th><th scope=col>Température</th><th scope=col>Point de rosée</th><th scope=col>Humidité</th><th scope=col>⋯</th><th scope=col>Altitude</th><th scope=col>communes (name)</th><th scope=col>communes (code)</th><th scope=col>EPCI (name)</th><th scope=col>EPCI (code)</th><th scope=col>department (name)</th><th scope=col>department (code)</th><th scope=col>region (name)</th><th scope=col>region (code)</th><th scope=col>mois_de_l_annee</th></tr>\n",
       "\t<tr><th scope=col>&lt;int&gt;</th><th scope=col>&lt;dttm&gt;</th><th scope=col>&lt;int&gt;</th><th scope=col>&lt;dbl&gt;</th><th scope=col>&lt;int&gt;</th><th scope=col>&lt;int&gt;</th><th scope=col>&lt;dbl&gt;</th><th scope=col>&lt;dbl&gt;</th><th scope=col>&lt;dbl&gt;</th><th scope=col>&lt;int&gt;</th><th scope=col>⋯</th><th scope=col>&lt;int&gt;</th><th scope=col>&lt;chr&gt;</th><th scope=col>&lt;chr&gt;</th><th scope=col>&lt;chr&gt;</th><th scope=col>&lt;int&gt;</th><th scope=col>&lt;chr&gt;</th><th scope=col>&lt;chr&gt;</th><th scope=col>&lt;chr&gt;</th><th scope=col>&lt;int&gt;</th><th scope=col>&lt;int&gt;</th></tr>\n",
       "</thead>\n",
       "<tbody>\n",
       "\t<tr><td>78925</td><td>2018-04-04 03:00:00</td><td>101420</td><td>  60</td><td>1</td><td>100</td><td>3.6</td><td>298.45</td><td>295.15</td><td>82</td><td>⋯</td><td>  3</td><td>Le Lamentin</td><td>97213</td><td>CA du Centre de la Martinique</td><td>249720061</td><td>Martinique     </td><td>972</td><td>Martinique                </td><td> 2</td><td>4</td></tr>\n",
       "\t<tr><td>61998</td><td>2018-04-05 03:00:00</td><td>101190</td><td>  40</td><td>1</td><td>290</td><td>5.1</td><td>278.15</td><td>272.75</td><td>68</td><td>⋯</td><td> 29</td><td>           </td><td>     </td><td>                             </td><td>       NA</td><td>               </td><td>   </td><td>                          </td><td>NA</td><td>4</td></tr>\n",
       "\t<tr><td> 7690</td><td>2018-04-05 06:00:00</td><td>101240</td><td> -20</td><td>5</td><td>320</td><td>1.6</td><td>284.25</td><td>280.15</td><td>76</td><td>⋯</td><td>  2</td><td>Nice       </td><td>06088</td><td>Métropole Nice Côte d'Azur   </td><td>200030195</td><td>Alpes-Maritimes</td><td>06 </td><td>Provence-Alpes-Côte d'Azur</td><td>93</td><td>4</td></tr>\n",
       "\t<tr><td> 7149</td><td>2018-04-08 03:00:00</td><td>100730</td><td> -20</td><td>5</td><td> 30</td><td>2.3</td><td>285.55</td><td>283.25</td><td>86</td><td>⋯</td><td> 89</td><td>Athis-Mons </td><td>91027</td><td>Métropole du Grand Paris     </td><td>200054781</td><td>Essonne        </td><td>91 </td><td>Île-de-France             </td><td>11</td><td>4</td></tr>\n",
       "\t<tr><td> 7139</td><td>2018-04-10 03:00:00</td><td> 99720</td><td>-150</td><td>6</td><td>170</td><td>2.8</td><td>283.25</td><td>282.05</td><td>92</td><td>⋯</td><td>143</td><td>Cerisé     </td><td>61077</td><td>CU d'Alençon                 </td><td>246100663</td><td>Orne           </td><td>61 </td><td>Normandie                 </td><td>28</td><td>4</td></tr>\n",
       "\t<tr><td> 7790</td><td>2018-04-15 09:00:00</td><td>100890</td><td> -50</td><td>5</td><td>310</td><td>4.4</td><td>293.95</td><td>282.85</td><td>49</td><td>⋯</td><td> 10</td><td>Lucciana   </td><td>2b148</td><td>CC de Marana-Golo            </td><td>200036499</td><td>Haute-Corse    </td><td>2b </td><td>Corse                     </td><td>94</td><td>4</td></tr>\n",
       "</tbody>\n",
       "</table>\n"
      ],
      "text/latex": [
       "A data.table: 6 × 82\n",
       "\\begin{tabular}{lllllllllllllllllllll}\n",
       " ID OMM station & Date & Pression au niveau mer & Variation de pression en 3 heures & Type de tendance barométrique & Direction du vent moyen 10 mn & Vitesse du vent moyen 10 mn & Température & Point de rosée & Humidité & ⋯ & Altitude & communes (name) & communes (code) & EPCI (name) & EPCI (code) & department (name) & department (code) & region (name) & region (code) & mois\\_de\\_l\\_annee\\\\\n",
       " <int> & <dttm> & <int> & <dbl> & <int> & <int> & <dbl> & <dbl> & <dbl> & <int> & ⋯ & <int> & <chr> & <chr> & <chr> & <int> & <chr> & <chr> & <chr> & <int> & <int>\\\\\n",
       "\\hline\n",
       "\t 78925 & 2018-04-04 03:00:00 & 101420 &   60 & 1 & 100 & 3.6 & 298.45 & 295.15 & 82 & ⋯ &   3 & Le Lamentin & 97213 & CA du Centre de la Martinique & 249720061 & Martinique      & 972 & Martinique                 &  2 & 4\\\\\n",
       "\t 61998 & 2018-04-05 03:00:00 & 101190 &   40 & 1 & 290 & 5.1 & 278.15 & 272.75 & 68 & ⋯ &  29 &             &       &                               &        NA &                 &     &                            & NA & 4\\\\\n",
       "\t  7690 & 2018-04-05 06:00:00 & 101240 &  -20 & 5 & 320 & 1.6 & 284.25 & 280.15 & 76 & ⋯ &   2 & Nice        & 06088 & Métropole Nice Côte d'Azur    & 200030195 & Alpes-Maritimes & 06  & Provence-Alpes-Côte d'Azur & 93 & 4\\\\\n",
       "\t  7149 & 2018-04-08 03:00:00 & 100730 &  -20 & 5 &  30 & 2.3 & 285.55 & 283.25 & 86 & ⋯ &  89 & Athis-Mons  & 91027 & Métropole du Grand Paris      & 200054781 & Essonne         & 91  & Île-de-France              & 11 & 4\\\\\n",
       "\t  7139 & 2018-04-10 03:00:00 &  99720 & -150 & 6 & 170 & 2.8 & 283.25 & 282.05 & 92 & ⋯ & 143 & Cerisé      & 61077 & CU d'Alençon                  & 246100663 & Orne            & 61  & Normandie                  & 28 & 4\\\\\n",
       "\t  7790 & 2018-04-15 09:00:00 & 100890 &  -50 & 5 & 310 & 4.4 & 293.95 & 282.85 & 49 & ⋯ &  10 & Lucciana    & 2b148 & CC de Marana-Golo             & 200036499 & Haute-Corse     & 2b  & Corse                      & 94 & 4\\\\\n",
       "\\end{tabular}\n"
      ],
      "text/markdown": [
       "\n",
       "A data.table: 6 × 82\n",
       "\n",
       "| ID OMM station &lt;int&gt; | Date &lt;dttm&gt; | Pression au niveau mer &lt;int&gt; | Variation de pression en 3 heures &lt;dbl&gt; | Type de tendance barométrique &lt;int&gt; | Direction du vent moyen 10 mn &lt;int&gt; | Vitesse du vent moyen 10 mn &lt;dbl&gt; | Température &lt;dbl&gt; | Point de rosée &lt;dbl&gt; | Humidité &lt;int&gt; | ⋯ ⋯ | Altitude &lt;int&gt; | communes (name) &lt;chr&gt; | communes (code) &lt;chr&gt; | EPCI (name) &lt;chr&gt; | EPCI (code) &lt;int&gt; | department (name) &lt;chr&gt; | department (code) &lt;chr&gt; | region (name) &lt;chr&gt; | region (code) &lt;int&gt; | mois_de_l_annee &lt;int&gt; |\n",
       "|---|---|---|---|---|---|---|---|---|---|---|---|---|---|---|---|---|---|---|---|---|\n",
       "| 78925 | 2018-04-04 03:00:00 | 101420 |   60 | 1 | 100 | 3.6 | 298.45 | 295.15 | 82 | ⋯ |   3 | Le Lamentin | 97213 | CA du Centre de la Martinique | 249720061 | Martinique      | 972 | Martinique                 |  2 | 4 |\n",
       "| 61998 | 2018-04-05 03:00:00 | 101190 |   40 | 1 | 290 | 5.1 | 278.15 | 272.75 | 68 | ⋯ |  29 | <!----> | <!----> | <!----> |        NA | <!----> | <!----> | <!----> | NA | 4 |\n",
       "|  7690 | 2018-04-05 06:00:00 | 101240 |  -20 | 5 | 320 | 1.6 | 284.25 | 280.15 | 76 | ⋯ |   2 | Nice        | 06088 | Métropole Nice Côte d'Azur    | 200030195 | Alpes-Maritimes | 06  | Provence-Alpes-Côte d'Azur | 93 | 4 |\n",
       "|  7149 | 2018-04-08 03:00:00 | 100730 |  -20 | 5 |  30 | 2.3 | 285.55 | 283.25 | 86 | ⋯ |  89 | Athis-Mons  | 91027 | Métropole du Grand Paris      | 200054781 | Essonne         | 91  | Île-de-France              | 11 | 4 |\n",
       "|  7139 | 2018-04-10 03:00:00 |  99720 | -150 | 6 | 170 | 2.8 | 283.25 | 282.05 | 92 | ⋯ | 143 | Cerisé      | 61077 | CU d'Alençon                  | 246100663 | Orne            | 61  | Normandie                  | 28 | 4 |\n",
       "|  7790 | 2018-04-15 09:00:00 | 100890 |  -50 | 5 | 310 | 4.4 | 293.95 | 282.85 | 49 | ⋯ |  10 | Lucciana    | 2b148 | CC de Marana-Golo             | 200036499 | Haute-Corse     | 2b  | Corse                      | 94 | 4 |\n",
       "\n"
      ],
      "text/plain": [
       "  ID OMM station Date                Pression au niveau mer\n",
       "1 78925          2018-04-04 03:00:00 101420                \n",
       "2 61998          2018-04-05 03:00:00 101190                \n",
       "3  7690          2018-04-05 06:00:00 101240                \n",
       "4  7149          2018-04-08 03:00:00 100730                \n",
       "5  7139          2018-04-10 03:00:00  99720                \n",
       "6  7790          2018-04-15 09:00:00 100890                \n",
       "  Variation de pression en 3 heures Type de tendance barométrique\n",
       "1   60                              1                            \n",
       "2   40                              1                            \n",
       "3  -20                              5                            \n",
       "4  -20                              5                            \n",
       "5 -150                              6                            \n",
       "6  -50                              5                            \n",
       "  Direction du vent moyen 10 mn Vitesse du vent moyen 10 mn Température\n",
       "1 100                           3.6                         298.45     \n",
       "2 290                           5.1                         278.15     \n",
       "3 320                           1.6                         284.25     \n",
       "4  30                           2.3                         285.55     \n",
       "5 170                           2.8                         283.25     \n",
       "6 310                           4.4                         293.95     \n",
       "  Point de rosée Humidité ⋯ Altitude communes (name) communes (code)\n",
       "1 295.15         82       ⋯   3      Le Lamentin     97213          \n",
       "2 272.75         68       ⋯  29                                     \n",
       "3 280.15         76       ⋯   2      Nice            06088          \n",
       "4 283.25         86       ⋯  89      Athis-Mons      91027          \n",
       "5 282.05         92       ⋯ 143      Cerisé          61077          \n",
       "6 282.85         49       ⋯  10      Lucciana        2b148          \n",
       "  EPCI (name)                   EPCI (code) department (name) department (code)\n",
       "1 CA du Centre de la Martinique 249720061   Martinique        972              \n",
       "2                                      NA                                      \n",
       "3 Métropole Nice Côte d'Azur    200030195   Alpes-Maritimes   06               \n",
       "4 Métropole du Grand Paris      200054781   Essonne           91               \n",
       "5 CU d'Alençon                  246100663   Orne              61               \n",
       "6 CC de Marana-Golo             200036499   Haute-Corse       2b               \n",
       "  region (name)              region (code) mois_de_l_annee\n",
       "1 Martinique                  2            4              \n",
       "2                            NA            4              \n",
       "3 Provence-Alpes-Côte d'Azur 93            4              \n",
       "4 Île-de-France              11            4              \n",
       "5 Normandie                  28            4              \n",
       "6 Corse                      94            4              "
      ]
     },
     "metadata": {},
     "output_type": "display_data"
    }
   ],
   "source": [
    "#install.packages(\"data.table\")\n",
    "library(data.table)\n",
    "dataset_meteo <- fread(path_data)\n",
    "head(dataset_meteo)"
   ]
  },
  {
   "cell_type": "markdown",
   "id": "e3d43fc9",
   "metadata": {},
   "source": [
    "# 1 - Rappels de statistiques descripte et de représentation graphique.\n",
    "   \n"
   ]
  },
  {
   "cell_type": "markdown",
   "id": "60061740",
   "metadata": {},
   "source": [
    "# 2 - Principaux résultats probabilites utile pour l'estimation.\n"
   ]
  },
  {
   "cell_type": "markdown",
   "id": "4359c0b8",
   "metadata": {},
   "source": [
    "# 3 -     Tests statistiques : méthodes et tests classiques.\n"
   ]
  },
  {
   "cell_type": "markdown",
   "id": "b3ad7c65",
   "metadata": {},
   "source": [
    "# 4 - Modélisation aléatoire.\n"
   ]
  },
  {
   "cell_type": "markdown",
   "id": "ab6ef6aa",
   "metadata": {},
   "source": [
    "# 5 -     Regression linéaire et validation de modèle.\n"
   ]
  },
  {
   "cell_type": "markdown",
   "id": "4956d56f",
   "metadata": {},
   "source": [
    "# 6 -     Analyse en composantes principales et application à la réduction de dimension.\n"
   ]
  },
  {
   "cell_type": "markdown",
   "id": "4463f689",
   "metadata": {},
   "source": [
    "# 7 -     Introduction au clustering."
   ]
  }
 ],
 "metadata": {
  "kernelspec": {
   "display_name": "R",
   "language": "R",
   "name": "ir"
  },
  "language_info": {
   "codemirror_mode": "r",
   "file_extension": ".r",
   "mimetype": "text/x-r-source",
   "name": "R",
   "pygments_lexer": "r",
   "version": "4.5.1"
  }
 },
 "nbformat": 4,
 "nbformat_minor": 5
}
