{
 "cells": [
  {
   "cell_type": "markdown",
   "id": "8c96d803",
   "metadata": {
    "vscode": {
     "languageId": "r"
    }
   },
   "source": [
    "\n",
    "# BE Meteo \n",
    "## HERVIOU, SOURDEVAL, MANCIET, DUC-MARTIN, LEFAUCONNIER"
   ]
  },
  {
   "cell_type": "code",
   "execution_count": 50,
   "id": "6cc8c114",
   "metadata": {
    "vscode": {
     "languageId": "r"
    }
   },
   "outputs": [],
   "source": [
    "# On load les données grâce à un fichier txt qui contient le chemin vers le fichier csv contenant les données\n",
    "path_data <- paste(readLines(\"path.txt\"), collapse = \"\\n\")"
   ]
  },
  {
   "cell_type": "code",
   "execution_count": 51,
   "id": "2de76bc5",
   "metadata": {
    "vscode": {
     "languageId": "r"
    }
   },
   "outputs": [
    {
     "data": {
      "text/html": [
       "<table class=\"dataframe\">\n",
       "<caption>A data.table: 6 × 82</caption>\n",
       "<thead>\n",
       "\t<tr><th scope=col>ID OMM station</th><th scope=col>Date</th><th scope=col>Pression au niveau mer</th><th scope=col>Variation de pression en 3 heures</th><th scope=col>Type de tendance barométrique</th><th scope=col>Direction du vent moyen 10 mn</th><th scope=col>Vitesse du vent moyen 10 mn</th><th scope=col>Température</th><th scope=col>Point de rosée</th><th scope=col>Humidité</th><th scope=col>⋯</th><th scope=col>Altitude</th><th scope=col>communes (name)</th><th scope=col>communes (code)</th><th scope=col>EPCI (name)</th><th scope=col>EPCI (code)</th><th scope=col>department (name)</th><th scope=col>department (code)</th><th scope=col>region (name)</th><th scope=col>region (code)</th><th scope=col>mois_de_l_annee</th></tr>\n",
       "\t<tr><th scope=col>&lt;int&gt;</th><th scope=col>&lt;dttm&gt;</th><th scope=col>&lt;int&gt;</th><th scope=col>&lt;dbl&gt;</th><th scope=col>&lt;int&gt;</th><th scope=col>&lt;int&gt;</th><th scope=col>&lt;dbl&gt;</th><th scope=col>&lt;dbl&gt;</th><th scope=col>&lt;dbl&gt;</th><th scope=col>&lt;int&gt;</th><th scope=col>⋯</th><th scope=col>&lt;int&gt;</th><th scope=col>&lt;chr&gt;</th><th scope=col>&lt;chr&gt;</th><th scope=col>&lt;chr&gt;</th><th scope=col>&lt;int&gt;</th><th scope=col>&lt;chr&gt;</th><th scope=col>&lt;chr&gt;</th><th scope=col>&lt;chr&gt;</th><th scope=col>&lt;int&gt;</th><th scope=col>&lt;int&gt;</th></tr>\n",
       "</thead>\n",
       "<tbody>\n",
       "\t<tr><td> 7690</td><td>2017-04-05 09:00:00</td><td>101580</td><td> 100</td><td>2</td><td> 90</td><td> 1.3</td><td>289.95</td><td>285.25</td><td>74</td><td>⋯</td><td> 2</td><td>Nice       </td><td>06088</td><td>Métropole Nice Côte d'Azur   </td><td>200030195</td><td>Alpes-Maritimes</td><td>06 </td><td>Provence-Alpes-Côte d'Azur</td><td>93</td><td>4</td></tr>\n",
       "\t<tr><td>61998</td><td>2017-04-05 09:00:00</td><td>102720</td><td>-200</td><td>8</td><td>320</td><td>20.1</td><td>285.65</td><td>281.95</td><td>78</td><td>⋯</td><td>29</td><td>           </td><td>     </td><td>                             </td><td>       NA</td><td>               </td><td>   </td><td>                          </td><td>NA</td><td>4</td></tr>\n",
       "\t<tr><td>78925</td><td>2018-04-04 03:00:00</td><td>101420</td><td>  60</td><td>1</td><td>100</td><td> 3.6</td><td>298.45</td><td>295.15</td><td>82</td><td>⋯</td><td> 3</td><td>Le Lamentin</td><td>97213</td><td>CA du Centre de la Martinique</td><td>249720061</td><td>Martinique     </td><td>972</td><td>Martinique                </td><td> 2</td><td>4</td></tr>\n",
       "\t<tr><td>61998</td><td>2018-04-05 03:00:00</td><td>101190</td><td>  40</td><td>1</td><td>290</td><td> 5.1</td><td>278.15</td><td>272.75</td><td>68</td><td>⋯</td><td>29</td><td>           </td><td>     </td><td>                             </td><td>       NA</td><td>               </td><td>   </td><td>                          </td><td>NA</td><td>4</td></tr>\n",
       "\t<tr><td> 7690</td><td>2018-04-05 06:00:00</td><td>101240</td><td> -20</td><td>5</td><td>320</td><td> 1.6</td><td>284.25</td><td>280.15</td><td>76</td><td>⋯</td><td> 2</td><td>Nice       </td><td>06088</td><td>Métropole Nice Côte d'Azur   </td><td>200030195</td><td>Alpes-Maritimes</td><td>06 </td><td>Provence-Alpes-Côte d'Azur</td><td>93</td><td>4</td></tr>\n",
       "\t<tr><td> 7149</td><td>2018-04-08 03:00:00</td><td>100730</td><td> -20</td><td>5</td><td> 30</td><td> 2.3</td><td>285.55</td><td>283.25</td><td>86</td><td>⋯</td><td>89</td><td>Athis-Mons </td><td>91027</td><td>Métropole du Grand Paris     </td><td>200054781</td><td>Essonne        </td><td>91 </td><td>Île-de-France             </td><td>11</td><td>4</td></tr>\n",
       "</tbody>\n",
       "</table>\n"
      ],
      "text/latex": [
       "A data.table: 6 × 82\n",
       "\\begin{tabular}{lllllllllllllllllllll}\n",
       " ID OMM station & Date & Pression au niveau mer & Variation de pression en 3 heures & Type de tendance barométrique & Direction du vent moyen 10 mn & Vitesse du vent moyen 10 mn & Température & Point de rosée & Humidité & ⋯ & Altitude & communes (name) & communes (code) & EPCI (name) & EPCI (code) & department (name) & department (code) & region (name) & region (code) & mois\\_de\\_l\\_annee\\\\\n",
       " <int> & <dttm> & <int> & <dbl> & <int> & <int> & <dbl> & <dbl> & <dbl> & <int> & ⋯ & <int> & <chr> & <chr> & <chr> & <int> & <chr> & <chr> & <chr> & <int> & <int>\\\\\n",
       "\\hline\n",
       "\t  7690 & 2017-04-05 09:00:00 & 101580 &  100 & 2 &  90 &  1.3 & 289.95 & 285.25 & 74 & ⋯ &  2 & Nice        & 06088 & Métropole Nice Côte d'Azur    & 200030195 & Alpes-Maritimes & 06  & Provence-Alpes-Côte d'Azur & 93 & 4\\\\\n",
       "\t 61998 & 2017-04-05 09:00:00 & 102720 & -200 & 8 & 320 & 20.1 & 285.65 & 281.95 & 78 & ⋯ & 29 &             &       &                               &        NA &                 &     &                            & NA & 4\\\\\n",
       "\t 78925 & 2018-04-04 03:00:00 & 101420 &   60 & 1 & 100 &  3.6 & 298.45 & 295.15 & 82 & ⋯ &  3 & Le Lamentin & 97213 & CA du Centre de la Martinique & 249720061 & Martinique      & 972 & Martinique                 &  2 & 4\\\\\n",
       "\t 61998 & 2018-04-05 03:00:00 & 101190 &   40 & 1 & 290 &  5.1 & 278.15 & 272.75 & 68 & ⋯ & 29 &             &       &                               &        NA &                 &     &                            & NA & 4\\\\\n",
       "\t  7690 & 2018-04-05 06:00:00 & 101240 &  -20 & 5 & 320 &  1.6 & 284.25 & 280.15 & 76 & ⋯ &  2 & Nice        & 06088 & Métropole Nice Côte d'Azur    & 200030195 & Alpes-Maritimes & 06  & Provence-Alpes-Côte d'Azur & 93 & 4\\\\\n",
       "\t  7149 & 2018-04-08 03:00:00 & 100730 &  -20 & 5 &  30 &  2.3 & 285.55 & 283.25 & 86 & ⋯ & 89 & Athis-Mons  & 91027 & Métropole du Grand Paris      & 200054781 & Essonne         & 91  & Île-de-France              & 11 & 4\\\\\n",
       "\\end{tabular}\n"
      ],
      "text/markdown": [
       "\n",
       "A data.table: 6 × 82\n",
       "\n",
       "| ID OMM station &lt;int&gt; | Date &lt;dttm&gt; | Pression au niveau mer &lt;int&gt; | Variation de pression en 3 heures &lt;dbl&gt; | Type de tendance barométrique &lt;int&gt; | Direction du vent moyen 10 mn &lt;int&gt; | Vitesse du vent moyen 10 mn &lt;dbl&gt; | Température &lt;dbl&gt; | Point de rosée &lt;dbl&gt; | Humidité &lt;int&gt; | ⋯ ⋯ | Altitude &lt;int&gt; | communes (name) &lt;chr&gt; | communes (code) &lt;chr&gt; | EPCI (name) &lt;chr&gt; | EPCI (code) &lt;int&gt; | department (name) &lt;chr&gt; | department (code) &lt;chr&gt; | region (name) &lt;chr&gt; | region (code) &lt;int&gt; | mois_de_l_annee &lt;int&gt; |\n",
       "|---|---|---|---|---|---|---|---|---|---|---|---|---|---|---|---|---|---|---|---|---|\n",
       "|  7690 | 2017-04-05 09:00:00 | 101580 |  100 | 2 |  90 |  1.3 | 289.95 | 285.25 | 74 | ⋯ |  2 | Nice        | 06088 | Métropole Nice Côte d'Azur    | 200030195 | Alpes-Maritimes | 06  | Provence-Alpes-Côte d'Azur | 93 | 4 |\n",
       "| 61998 | 2017-04-05 09:00:00 | 102720 | -200 | 8 | 320 | 20.1 | 285.65 | 281.95 | 78 | ⋯ | 29 | <!----> | <!----> | <!----> |        NA | <!----> | <!----> | <!----> | NA | 4 |\n",
       "| 78925 | 2018-04-04 03:00:00 | 101420 |   60 | 1 | 100 |  3.6 | 298.45 | 295.15 | 82 | ⋯ |  3 | Le Lamentin | 97213 | CA du Centre de la Martinique | 249720061 | Martinique      | 972 | Martinique                 |  2 | 4 |\n",
       "| 61998 | 2018-04-05 03:00:00 | 101190 |   40 | 1 | 290 |  5.1 | 278.15 | 272.75 | 68 | ⋯ | 29 | <!----> | <!----> | <!----> |        NA | <!----> | <!----> | <!----> | NA | 4 |\n",
       "|  7690 | 2018-04-05 06:00:00 | 101240 |  -20 | 5 | 320 |  1.6 | 284.25 | 280.15 | 76 | ⋯ |  2 | Nice        | 06088 | Métropole Nice Côte d'Azur    | 200030195 | Alpes-Maritimes | 06  | Provence-Alpes-Côte d'Azur | 93 | 4 |\n",
       "|  7149 | 2018-04-08 03:00:00 | 100730 |  -20 | 5 |  30 |  2.3 | 285.55 | 283.25 | 86 | ⋯ | 89 | Athis-Mons  | 91027 | Métropole du Grand Paris      | 200054781 | Essonne         | 91  | Île-de-France              | 11 | 4 |\n",
       "\n"
      ],
      "text/plain": [
       "  ID OMM station Date                Pression au niveau mer\n",
       "1  7690          2017-04-05 09:00:00 101580                \n",
       "2 61998          2017-04-05 09:00:00 102720                \n",
       "3 78925          2018-04-04 03:00:00 101420                \n",
       "4 61998          2018-04-05 03:00:00 101190                \n",
       "5  7690          2018-04-05 06:00:00 101240                \n",
       "6  7149          2018-04-08 03:00:00 100730                \n",
       "  Variation de pression en 3 heures Type de tendance barométrique\n",
       "1  100                              2                            \n",
       "2 -200                              8                            \n",
       "3   60                              1                            \n",
       "4   40                              1                            \n",
       "5  -20                              5                            \n",
       "6  -20                              5                            \n",
       "  Direction du vent moyen 10 mn Vitesse du vent moyen 10 mn Température\n",
       "1  90                            1.3                        289.95     \n",
       "2 320                           20.1                        285.65     \n",
       "3 100                            3.6                        298.45     \n",
       "4 290                            5.1                        278.15     \n",
       "5 320                            1.6                        284.25     \n",
       "6  30                            2.3                        285.55     \n",
       "  Point de rosée Humidité ⋯ Altitude communes (name) communes (code)\n",
       "1 285.25         74       ⋯  2       Nice            06088          \n",
       "2 281.95         78       ⋯ 29                                      \n",
       "3 295.15         82       ⋯  3       Le Lamentin     97213          \n",
       "4 272.75         68       ⋯ 29                                      \n",
       "5 280.15         76       ⋯  2       Nice            06088          \n",
       "6 283.25         86       ⋯ 89       Athis-Mons      91027          \n",
       "  EPCI (name)                   EPCI (code) department (name) department (code)\n",
       "1 Métropole Nice Côte d'Azur    200030195   Alpes-Maritimes   06               \n",
       "2                                      NA                                      \n",
       "3 CA du Centre de la Martinique 249720061   Martinique        972              \n",
       "4                                      NA                                      \n",
       "5 Métropole Nice Côte d'Azur    200030195   Alpes-Maritimes   06               \n",
       "6 Métropole du Grand Paris      200054781   Essonne           91               \n",
       "  region (name)              region (code) mois_de_l_annee\n",
       "1 Provence-Alpes-Côte d'Azur 93            4              \n",
       "2                            NA            4              \n",
       "3 Martinique                  2            4              \n",
       "4                            NA            4              \n",
       "5 Provence-Alpes-Côte d'Azur 93            4              \n",
       "6 Île-de-France              11            4              "
      ]
     },
     "metadata": {},
     "output_type": "display_data"
    }
   ],
   "source": [
    "#install.packages(\"data.table\")\n",
    "library(data.table)\n",
    "dataset_meteo <- fread(path_data)\n",
    "head(dataset_meteo)"
   ]
  },
  {
   "cell_type": "markdown",
   "id": "e3d43fc9",
   "metadata": {},
   "source": [
    "# 1 - Description des données"
   ]
  },
  {
   "cell_type": "markdown",
   "id": "2a8908a1",
   "metadata": {},
   "source": [
    "### 1.1 - Organisation des données par ordre chronologique"
   ]
  },
  {
   "cell_type": "code",
   "execution_count": null,
   "id": "4aab6e4a",
   "metadata": {
    "vscode": {
     "languageId": "r"
    }
   },
   "outputs": [],
   "source": [
    "df_meteo <- data.frame(dataset_meteo)\n",
    "df_meteo <- df_meteo[order(df_meteo$Date), ] # Trier les valeurs par ordre chronologique\n",
    "head(df_meteo)"
   ]
  },
  {
   "cell_type": "markdown",
   "id": "fea97a5f",
   "metadata": {},
   "source": [
    "### 1.2 - Description des paramètres"
   ]
  },
  {
   "cell_type": "code",
   "execution_count": null,
   "id": "79c3a70b",
   "metadata": {
    "vscode": {
     "languageId": "r"
    }
   },
   "outputs": [],
   "source": [
    "cat(\"Nombre de lignes de données :\", nrow(df_meteo), \"\\n\")\n",
    "cat(\"Nombre de paramètres :\", ncol(df_meteo), \"\\n\")\n",
    "cat(\"\\tdont 14 paramètres décrivant l'emplacement de la station météo\\n\")\n",
    "cat(\"\\tdont 19 paramètres relatifs aux nuages/à la nébulosité (+ 4 hauteurs de bases)\\n\")\n",
    "cat(\"\\tdont 14 paramètres relatifs à la température\\n\")\n",
    "cat(\"\\tdont 7 paramètres relatifs à la pression/barométrie\\n\")\n",
    "cat(\"\\tdont 5 paramètres relatifs au vent/rafales\\n\")\n",
    "cat(\"\\tdont 5 paramètres relatifs à la pluie (précipitations)\\n\")\n",
    "cat(\"\\tdont 3 paramètres relatifs à la neige\\n\")\n",
    "cat(\"\\tdont 2 paramètres relatifs à l'humidité/rosée\\n\")\n",
    "cat(\"\\t + Date, mois_de_l_annee, Visibilité.horizontale, Temps.présent, Temps.passé.1, Temps.passé.2, Géopotentiel, Etat.du.sol, Phénomène.spécial.1, Phénomène.spécial.2, Phénomène.spécial.3, Phénomène.spécial.4, Temps.passé.1.1, Temps.présent.1\")"
   ]
  },
  {
   "cell_type": "markdown",
   "id": "a0a1bd70",
   "metadata": {},
   "source": [
    "### 1.3 - Description des stations météo"
   ]
  },
  {
   "cell_type": "code",
   "execution_count": null,
   "id": "943a2586",
   "metadata": {
    "vscode": {
     "languageId": "r"
    }
   },
   "outputs": [],
   "source": [
    "# Caractéristiques des stations météo\n",
    "df_stations <- df_meteo[c('ID.OMM.station', 'Coordonnees', 'Nom', 'Latitude', 'Longitude', 'Altitude', 'communes..name.', 'communes..code.', 'EPCI..name.', 'EPCI..code.', 'department..name.', 'department..code.', 'region..name.', 'region..code.')]\n",
    "df_unique_stations <- df_stations[!duplicated(df_stations[c('ID.OMM.station')]), ]\n",
    "cat(\"Nombre de stations météo :\", nrow(df_unique_stations))\n",
    "head(df_unique_stations[order(df_unique_stations$Nom), ])"
   ]
  },
  {
   "cell_type": "markdown",
   "id": "d61bfce7",
   "metadata": {},
   "source": [
    "### 1.4 - Carte des stations météo"
   ]
  },
  {
   "cell_type": "code",
   "execution_count": null,
   "id": "68863df1",
   "metadata": {
    "vscode": {
     "languageId": "r"
    }
   },
   "outputs": [],
   "source": [
    "#install.packages(c(\"ggplot2\", \"maps\", \"ggmap\"))\n",
    "library(ggplot2)\n",
    "library(maps)\n",
    "library(ggmap)\n",
    "\n",
    "options(repr.plot.width = 20, repr.plot.height = 10)\n",
    "\n",
    "data_points <- data.frame(\n",
    "  lon = df_unique_stations$Longitude,\n",
    "  lat = df_unique_stations$Latitude,\n",
    "  Ville = df_unique_stations$Nom\n",
    ")\n",
    "\n",
    "world <- map_data(\"world\")\n",
    "\n",
    "ggplot() +\n",
    "  geom_polygon(data = world, aes(x = long, y = lat, group = group),\n",
    "               fill = \"lightgray\", color = \"white\") +\n",
    "  geom_point(data = data_points, aes(x = lon, y = lat, color = Ville), size = 1) +\n",
    "  theme_minimal() +\n",
    "  theme(legend.position = \"none\") +\n",
    "  ggtitle(\"Carte des stations météo\")\n",
    "\n",
    "\n",
    "# Zoom sur l'hexagone  \n",
    "data_points_metropole <- data_points[(data_points$lat<=52)&(data_points$lat>=42)&(data_points$lon<=10)&(data_points$lon>=-10),]\n",
    "france <- map_data(\"france\")\n",
    "\n",
    "ggplot() +\n",
    "  geom_polygon(data = france, aes(x = long, y = lat, group = group),\n",
    "               fill = \"lightgray\", color = \"white\") +\n",
    "  geom_point(data = data_points_metropole, aes(x = lon, y = lat, color = Ville), size = 3) +\n",
    "  theme_minimal() +\n",
    "  # theme(legend.position = \"none\") +\n",
    "  coord_fixed(ratio = 1.2)+\n",
    "  ggtitle(\"Carte des stations météo de France métropolitaine\")"
   ]
  },
  {
   "cell_type": "markdown",
   "id": "587c2b95",
   "metadata": {},
   "source": [
    "### 1.5 - Relevé de températures par station"
   ]
  },
  {
   "cell_type": "code",
   "execution_count": null,
   "id": "1d5ead54",
   "metadata": {
    "vscode": {
     "languageId": "r"
    }
   },
   "outputs": [],
   "source": [
    "par(bg='white')\n",
    "for (ville in unique(df_meteo$Nom)[1:3]){\n",
    "  plot(\n",
    "    df_meteo$Date[df_meteo$Nom==ville],\n",
    "    df_meteo$`Température`[df_meteo$Nom==ville],\n",
    "    xlab = \"Date\",\n",
    "    ylab = \"Température\",\n",
    "    main = ville,\n",
    "    type = \"l\",\n",
    ")}"
   ]
  },
  {
   "cell_type": "markdown",
   "id": "a19f963e",
   "metadata": {},
   "source": [
    "### 1.6 - Valeurs moyennes des grandeurs mesurées par station"
   ]
  },
  {
   "cell_type": "code",
   "execution_count": null,
   "id": "5b591b3e",
   "metadata": {
    "vscode": {
     "languageId": "r"
    }
   },
   "outputs": [],
   "source": [
    "# install.packages(\"dplyr\")\n",
    "library(dplyr)\n",
    "\n",
    "df_grouped <- df_meteo %>%\n",
    "  group_by(ID.OMM.station) %>%\n",
    "  summarise(n_mesures = n(),\n",
    "            T_mean = mean(`Température`,na.rm = TRUE),\n",
    "            T_min = min(`Température`,na.rm = TRUE),\n",
    "            T_max = max(`Température`,na.rm = TRUE),\n",
    "            P_mean = mean(Pression.au.niveau.mer,na.rm = TRUE),\n",
    "            nebulosite_mean = mean(Nebulosité.totale, na.rm = TRUE)\n",
    "            )\n",
    "\n",
    "head(df_grouped)"
   ]
  },
  {
   "cell_type": "markdown",
   "id": "4ee26273",
   "metadata": {},
   "source": [
    "### 1.7 - Carte des températures extrêmes mesurées par station"
   ]
  },
  {
   "cell_type": "code",
   "execution_count": null,
   "id": "bf6e0cf8",
   "metadata": {
    "vscode": {
     "languageId": "r"
    }
   },
   "outputs": [],
   "source": [
    "df_station_stats <- merge(x = df_unique_stations, y = df_grouped, by = \"ID.OMM.station\", all = TRUE)"
   ]
  },
  {
   "cell_type": "code",
   "execution_count": null,
   "id": "bc8427fc",
   "metadata": {
    "vscode": {
     "languageId": "r"
    }
   },
   "outputs": [],
   "source": [
    "options(repr.plot.width = 20, repr.plot.height = 10)\n",
    "\n",
    "world <- map_data(\"world\")\n",
    "\n",
    "ggplot() +\n",
    "  geom_polygon(data = world, aes(x = long, y = lat, group = group),\n",
    "               fill = \"lightgray\", color = \"white\") +\n",
    "  geom_point(data = df_station_stats, aes(x = Longitude, y = Latitude, color = T_min), size = 1) +\n",
    "  theme_minimal() +\n",
    "  # theme(legend.position = \"none\")+\n",
    "  ggtitle(\"Température minimale par station (K)\")\n",
    "\n",
    "ggplot() +\n",
    "  geom_polygon(data = world, aes(x = long, y = lat, group = group),\n",
    "               fill = \"lightgray\", color = \"white\") +\n",
    "  geom_point(data = df_station_stats, aes(x = Longitude, y = Latitude, color = T_max), size = 1) +\n",
    "  theme_minimal() +\n",
    "  # theme(legend.position = \"none\")+\n",
    "  ggtitle(\"Température maximale par station (K)\")"
   ]
  },
  {
   "cell_type": "code",
   "execution_count": null,
   "id": "3c7ba393",
   "metadata": {
    "vscode": {
     "languageId": "r"
    }
   },
   "outputs": [],
   "source": [
    "summary(dataset_meteo)"
   ]
  },
  {
   "cell_type": "markdown",
   "id": "60061740",
   "metadata": {},
   "source": [
    "# 2. Un calcul et étude d'estimateur"
   ]
  },
  {
   "cell_type": "markdown",
   "id": "5da6fece",
   "metadata": {},
   "source": [
    "Nous allons étudier 3 estimateurs sur le jeu de donnée météo :"
   ]
  },
  {
   "cell_type": "markdown",
   "id": "8e658de2",
   "metadata": {},
   "source": [
    "### 2.1 - $\\small\\textbf{Estimateur 1 : }$\n",
    "\n",
    "Etude d'un estimateur de la température moyenne sur l'hiver 2019 en France métropolitaine."
   ]
  },
  {
   "cell_type": "code",
   "execution_count": null,
   "id": "fd1f44c5",
   "metadata": {
    "vscode": {
     "languageId": "r"
    }
   },
   "outputs": [],
   "source": [
    "#On extrait les données utiles du dataset\n",
    "data_points <- data.frame(\n",
    "  date = df_meteo$Date,\n",
    "  temp = df_meteo$`Température...C.`,\n",
    "  station = df_meteo$Nom,\n",
    "  mois = df_meteo$mois_de_l_annee,\n",
    "  lat = df_meteo$Latitude,\n",
    "  long = df_meteo$Longitude\n",
    ")\n",
    "\n",
    "france <- map_data(\"france\")\n",
    "\n",
    "#on filtre le dataset pour avoir les données voulues et calculer la moyenne de température\n",
    "data_points_metropole <- data_points %>%\n",
    "  filter(lat <= 52, lat >= 42,\n",
    "         long <= 10, long >= -10,\n",
    "         date < \"2020-01-01\", date > \"2019-01-01\",\n",
    "         mois > 1, mois < 4) %>%\n",
    "  group_by(station, lat, long) %>%\n",
    "  summarise(temp_moy = mean(temp, na.rm = TRUE), .groups = \"drop\")\n",
    "\n",
    "#plot de la carte obtenue\n",
    "ggplot() +\n",
    "  geom_polygon(data = france, aes(x = long, y = lat, group = group),\n",
    "               fill = \"lightgray\", color = \"white\") +\n",
    "  geom_point(data = data_points_metropole, aes(x = long, y = lat, color = temp_moy), size = 3) +\n",
    "  theme_minimal() +\n",
    "  scale_color_gradient(low = \"blue\", high = \"red\",\n",
    "                     name = \"Température moyenne (°C)\") +\n",
    "  coord_fixed(ratio = 1.2)+\n",
    "  ggtitle(\"Moyenne des température sur l'hiver 2019\")\n"
   ]
  },
  {
   "cell_type": "markdown",
   "id": "e748c93a",
   "metadata": {},
   "source": [
    "Grâce à cette carte, nous pouvons voir la répartition spatiale de la température moyenne de l'hiver 2019. Nous observons que les zones géographiques au Sud sont plus chaudes que celles au Nord Est. Nous pouvons donc observer un gradient de température du Sud vers le Nord ce qui correspond empiriquement à l'idée que nous avons de la météo."
   ]
  },
  {
   "cell_type": "code",
   "execution_count": null,
   "id": "9f664b69",
   "metadata": {
    "vscode": {
     "languageId": "r"
    }
   },
   "outputs": [],
   "source": [
    "library(dplyr)\n",
    "library(lubridate)\n",
    "library(ggplot2)\n",
    "\n",
    "#On extrait les données utiles du dataset\n",
    "data_points <- data.frame(\n",
    "  date = df_meteo$Date,\n",
    "  temp = df_meteo$`Température...C.`,\n",
    "  station = df_meteo$Nom,\n",
    "  mois = df_meteo$mois_de_l_annee,\n",
    "  lat = df_meteo$Latitude,\n",
    "  long = df_meteo$Longitude\n",
    ")\n",
    "\n",
    "# Paramètre : niveau de confiance\n",
    "alpha <- 0.05  # pour IC à 95%\n",
    "\n",
    "# Calculer par année : moyenne, sd, n et IC\n",
    "ic_par_annee <- data_points %>%\n",
    "  filter(lat <= 52, lat >= 42,\n",
    "         long <= 10, long >= -10,\n",
    "         date < \"2020-01-01\", date > \"2019-01-01\",\n",
    "         mois > 1, mois < 4) %>%\n",
    "  group_by(station, lat, long) %>%\n",
    "  summarise(\n",
    "    n = sum(!is.na(temp)),\n",
    "    temp_moy = mean(temp, na.rm = TRUE),\n",
    "    sd_temp = sd(temp, na.rm = TRUE),\n",
    "    .groups = \"drop\"\n",
    "  ) %>%\n",
    "  filter(n > 1) %>%\n",
    "  mutate(\n",
    "    se = sd_temp / sqrt(n),    # erreur standard\n",
    "    ic_bas = temp_moy - sqrt(se / (alpha * n)),\n",
    "    ic_haut = temp_moy + sqrt(se / (alpha * n))\n",
    "  )\n",
    "\n",
    "\n",
    "# Graphe avec barres d'erreur\n",
    "ggplot(ic_par_annee, aes(x = station, y = temp_moy)) +\n",
    "  geom_line() +\n",
    "  geom_point(size = 2) +\n",
    "  geom_errorbar(aes(ymin = ic_bas, ymax = ic_haut), width = 0.2) +\n",
    "  labs(\n",
    "    title = paste0(\"Température moyenne annuelle et Intervalle de Confiance à \", 100*(1-alpha), \"%\"),\n",
    "    x = \"Station\",\n",
    "    y = \"Température moyenne (°C)\"\n",
    "  ) +\n",
    "  theme(axis.text.x = element_text(angle = 90, vjust = 0.5, hjust = 1)) \n"
   ]
  },
  {
   "cell_type": "markdown",
   "id": "f3da32e7",
   "metadata": {},
   "source": [
    "L'estimateur de la moyenne est un estimateur sans biais par construction. Nous avons donc calculé l'intervalle de confiance à 95% de cet estimateur pour chacune des stations qui dépend de l'estimateur de la variance. Nous observons un intervalle de confiance qui est plutôt précis par rapport à la valeur absolue de la moyenne. Ceci est dû au fait que nous avons beaucoup de données et donc l'intervalle de confiance est réduit.\n",
    "\n",
    "D'après la formule : \n",
    "$\n",
    "IC = \\left[ \\; \\bar{X}_n - \\sqrt{\\frac{\\hat{\\sigma}_n^2}{\\alpha n}} \\; , \\; \n",
    "              \\bar{X}_n + \\sqrt{\\frac{\\hat{\\sigma}_n^2}{\\alpha n}} \\; \\right]\n",
    "$"
   ]
  },
  {
   "cell_type": "markdown",
   "id": "e7ccd867",
   "metadata": {},
   "source": [
    "### 2.2 - $\\small\\textbf{Estimateur 2 : }$\n",
    "\n",
    "Nous allons faire de même avec une estimation des précipitations moyennes en France métropolitaine sur l'hiver 2019."
   ]
  },
  {
   "cell_type": "code",
   "execution_count": null,
   "id": "574c2f58",
   "metadata": {
    "vscode": {
     "languageId": "r"
    }
   },
   "outputs": [],
   "source": [
    "#On extrait les données utiles du dataset\n",
    "data_points <- data.frame(\n",
    "  date = df_meteo$Date,\n",
    "  pluie = df_meteo$`Précipitations.dans.la.dernière.heure`,\n",
    "  station = df_meteo$Nom,\n",
    "  mois = df_meteo$mois_de_l_annee,\n",
    "  lat = df_meteo$Latitude,\n",
    "  long = df_meteo$Longitude\n",
    ")\n",
    "\n",
    "france <- map_data(\"france\")\n",
    "\n",
    "#on filtre le dataset pour avoir les données voulues et calculer la moyenne de température\n",
    "data_points_metropole <- data_points %>%\n",
    "  filter(lat <= 52, lat >= 42,\n",
    "         long <= 10, long >= -10,\n",
    "         date < \"2020-01-01\", date > \"2019-01-01\",\n",
    "         mois > 1, mois < 4) %>%\n",
    "  group_by(station, lat, long) %>%\n",
    "  summarise(pluie_moy = mean(pluie, na.rm = TRUE), .groups = \"drop\")\n",
    "\n",
    "#plot de la carte obtenue\n",
    "ggplot() +\n",
    "  geom_polygon(data = france, aes(x = long, y = lat, group = group),\n",
    "               fill = \"lightgray\", color = \"white\") +\n",
    "  geom_point(data = data_points_metropole, aes(x = long, y = lat, color = pluie_moy), size = 3) +\n",
    "  theme_minimal() +\n",
    "  scale_color_gradient(low = \"blue\", high = \"red\",\n",
    "                     name = \"Précipitation (mm)\") +\n",
    "  coord_fixed(ratio = 1.2)+\n",
    "  ggtitle(\"Moyenne des précipitations sur l'hiver 2019\")\n"
   ]
  },
  {
   "cell_type": "markdown",
   "id": "7b1e725c",
   "metadata": {},
   "source": [
    "Grâce à cette carte et à l'estimation des précipitations, nous pouvons observer les régions où il a le plus plu durant l'hiver 2019. Nous observons que la Bretagne est une région où il a particulièrement plu durant cet hiver ce qui confirme aussi la croyance populaire..."
   ]
  },
  {
   "cell_type": "code",
   "execution_count": null,
   "id": "4f8193aa",
   "metadata": {
    "vscode": {
     "languageId": "r"
    }
   },
   "outputs": [],
   "source": [
    "library(dplyr)\n",
    "library(lubridate)\n",
    "library(ggplot2)\n",
    "\n",
    "#On extrait les données utiles du dataset\n",
    "data_points <- data.frame(\n",
    "  date = df_meteo$Date,\n",
    "  pluie = df_meteo$`Précipitations.dans.la.dernière.heure`,\n",
    "  station = df_meteo$Nom,\n",
    "  mois = df_meteo$mois_de_l_annee,\n",
    "  lat = df_meteo$Latitude,\n",
    "  long = df_meteo$Longitude\n",
    ")\n",
    "\n",
    "# Paramètre : niveau de confiance\n",
    "alpha <- 0.05  # pour IC à 95%\n",
    "\n",
    "# Calculer par année : moyenne, sd, n et IC\n",
    "ic_par_annee <- data_points %>%\n",
    "  filter(lat <= 52, lat >= 42,\n",
    "         long <= 10, long >= -10,\n",
    "         date < \"2020-01-01\", date > \"2019-01-01\",\n",
    "         mois > 1, mois < 4) %>%\n",
    "  group_by(station, lat, long) %>%\n",
    "  summarise(\n",
    "    n = sum(!is.na(pluie)),\n",
    "    pluie_moy = mean(pluie, na.rm = TRUE),\n",
    "    sd_pluie = sd(pluie, na.rm = TRUE),\n",
    "    .groups = \"drop\"\n",
    "  ) %>%\n",
    "  filter(n > 1) %>%\n",
    "  mutate(\n",
    "    se = sd_pluie / sqrt(n),    # erreur standard\n",
    "    ic_bas = pluie_moy - sqrt(se / (alpha * n)),\n",
    "    ic_haut = pluie_moy + sqrt(se / (alpha * n))\n",
    "  )\n",
    "\n",
    "\n",
    "# Graphe avec barres d'erreur\n",
    "ggplot(ic_par_annee, aes(x = station, y = pluie_moy)) +\n",
    "  geom_line() +\n",
    "  geom_point(size = 2) +\n",
    "  geom_errorbar(aes(ymin = ic_bas, ymax = ic_haut), width = 0.2) +\n",
    "  labs(\n",
    "    title = paste0(\"Précipations moyennes annuelles et Intervalle de Confiance à \", 100*(1-alpha), \"%\"),\n",
    "    x = \"Station\",\n",
    "    y = \"Précipitation moyenne (°C)\"\n",
    "  ) +\n",
    "  theme(axis.text.x = element_text(angle = 90, vjust = 0.5, hjust = 1)) \n"
   ]
  },
  {
   "cell_type": "markdown",
   "id": "9aacb57c",
   "metadata": {},
   "source": [
    "Nous avons aussi tracé l'intervalle de confiance pour l'estimateur de la précipitation moyenne. Nous observons une plus grande disparité dans les données de par leur variance plus grande et leur plus faible nombre par rapport à la température vu plus tôt. Nous pouvons donc en déduire que l'estimateur de la précipitation moyenne est plus suceptible d'être moins précis que celui de la température."
   ]
  },
  {
   "cell_type": "markdown",
   "id": "8f3165ee",
   "metadata": {},
   "source": [
    "### 2.3 - $\\small\\textbf{Estimateur 3 : }$\n",
    "\n",
    "Nous allons finir par estimer la température moyenne en France métropolitaine sur une année."
   ]
  },
  {
   "cell_type": "code",
   "execution_count": null,
   "id": "ffde1dcd",
   "metadata": {
    "vscode": {
     "languageId": "r"
    }
   },
   "outputs": [],
   "source": [
    "#On extrait les données utiles du dataset\n",
    "data_points <- data.frame(\n",
    "  date = df_meteo$Date,\n",
    "  temp = df_meteo$`Température...C.`,\n",
    "  lat = df_meteo$Latitude,\n",
    "  long = df_meteo$Longitude\n",
    ")\n",
    "\n",
    "#on filtre le dataset pour avoir les données voulues et calculer la moyenne de température\n",
    "data_points <- data_points%>%\n",
    "  mutate(annee = year(date))\n",
    "data_points <- data_points %>%\n",
    "  group_by(annee) %>%\n",
    "  summarise(temp_moy = mean(temp, na.rm = TRUE), .groups = \"drop\")\n",
    "\n",
    "#plot du graphe obtenu\n",
    "ggplot(data_points, aes(x = annee, y = temp_moy)) +\n",
    "  geom_line(color = \"blue\", size = 1) +\n",
    "  geom_point(color = \"red\", size = 2) +\n",
    "  labs(\n",
    "    title = \"Évolution de la température moyenne annuelle\",\n",
    "    x = \"Année\",\n",
    "    y = \"Température moyenne (°C)\"\n",
    "  ) +\n",
    "  theme_minimal()"
   ]
  },
  {
   "cell_type": "markdown",
   "id": "39aa2f36",
   "metadata": {},
   "source": [
    "Grâce à ce graphe nous étudions l'évolution de la température moyenne annuelle de 2015 à 2025. Nous observons une tendance croissante de cette température moyenne annuelle. Nous confirmons donc un des effets du réchauffement climatique :  l'augmentation de la température en France métropolitaine depuis 10 ans. "
   ]
  },
  {
   "cell_type": "code",
   "execution_count": null,
   "id": "bdeeddc5",
   "metadata": {
    "vscode": {
     "languageId": "r"
    }
   },
   "outputs": [],
   "source": [
    "library(dplyr)\n",
    "library(lubridate)\n",
    "library(ggplot2)\n",
    "\n",
    "# Paramètre : niveau de confiance\n",
    "alpha <- 0.05  # pour IC à 95%\n",
    "\n",
    "#On extrait les données utiles du dataset\n",
    "data_points <- data.frame(\n",
    "  date = df_meteo$Date,\n",
    "  temp = df_meteo$`Température...C.`,\n",
    "  lat = df_meteo$Latitude,\n",
    "  long = df_meteo$Longitude\n",
    ")\n",
    "\n",
    "# Calculer par année : moyenne, sd, n et IC t\n",
    "ic_par_annee <- data_points %>%\n",
    "  mutate(annee = year(date)) %>%\n",
    "  group_by(annee) %>%\n",
    "  summarise(\n",
    "    n = sum(!is.na(temp)),\n",
    "    temp_moy = mean(temp, na.rm = TRUE),\n",
    "    sd_temp = sd(temp, na.rm = TRUE),\n",
    "    .groups = \"drop\"\n",
    "  ) %>%\n",
    "  mutate(\n",
    "    se = sd_temp / sqrt(n),\n",
    "    ic_bas = temp_moy - sqrt(se / (alpha * n)),\n",
    "    ic_haut = temp_moy + sqrt(se / (alpha * n))\n",
    "  )\n",
    "\n",
    "# Graphe avec barres d'erreur\n",
    "ggplot(ic_par_annee, aes(x = annee, y = temp_moy)) +\n",
    "  geom_line() +\n",
    "  geom_point(size = 2) +\n",
    "  geom_errorbar(aes(ymin = ic_bas, ymax = ic_haut), width = 0.2) +\n",
    "  labs(\n",
    "    title = paste0(\"Température moyenne annuelle et IC (\", 100*(1-alpha), \"%)\"),\n",
    "    x = \"Année\",\n",
    "    y = \"Température moyenne (°C)\"\n",
    "  ) +\n",
    "  theme_minimal()"
   ]
  },
  {
   "cell_type": "markdown",
   "id": "3262b400",
   "metadata": {},
   "source": [
    "Nous avons retracé le même graphe qu'au dessus en ajoutant les intervalles de confiance. Dû au grand nombre de données sur l'année, nous avons un intervalle de confiance très petit. Nous sommes donc ici sur un estimateur très précis."
   ]
  },
  {
   "cell_type": "markdown",
   "id": "4359c0b8",
   "metadata": {},
   "source": [
    "# 3. Des tests statistiques (au moins un sur un paramètre et une ANOVA)"
   ]
  },
  {
   "cell_type": "code",
   "execution_count": 89,
   "id": "7f53e4c7",
   "metadata": {
    "vscode": {
     "languageId": "r"
    }
   },
   "outputs": [],
   "source": [
    "#On extrait les données (colonnes) utiles du dataset 'météo' et on en fait un dataframe\n",
    "\n",
    "# colnames(dataset_meteo)\n",
    "\n",
    "data_points <- data.frame(\n",
    "  date = dataset_meteo$Date,\n",
    "  station = dataset_meteo$Nom,\n",
    "  lat = dataset_meteo$Latitude,\n",
    "  long = dataset_meteo$Longitude,\n",
    "  temp = dataset_meteo$'Température (°C)',\n",
    "  humidity = dataset_meteo$Humidité,\n",
    "  precipitations1h = dataset_meteo$'Précipitations dans la dernière heure',\n",
    "  region_code = dataset_meteo$'region (code)',\n",
    "  region_name = dataset_meteo$'region (name)'\n",
    ")"
   ]
  },
  {
   "cell_type": "code",
   "execution_count": 90,
   "id": "c5c38ecd",
   "metadata": {
    "vscode": {
     "languageId": "r"
    }
   },
   "outputs": [],
   "source": [
    "# df sur l'année 2020\n",
    "df_2020 <- data_points[format(data_points$date, \"%Y\") == \"2020\", ]\n",
    "\n",
    "# df sur l'année 2024\n",
    "df_2024 <- data_points[format(data_points$date, \"%Y\") == \"2024\", ]"
   ]
  },
  {
   "cell_type": "markdown",
   "id": "6ebe248f",
   "metadata": {},
   "source": [
    "### 3.1 - Intervalle de confiance de la moyenne de température en France en 2020"
   ]
  },
  {
   "cell_type": "code",
   "execution_count": 128,
   "id": "07b831c2",
   "metadata": {
    "vscode": {
     "languageId": "r"
    }
   },
   "outputs": [
    {
     "name": "stdout",
     "output_type": "stream",
     "text": [
      "température moyenne sur 2020 = 15.65145 °C \n"
     ]
    }
   ],
   "source": [
    "cat(\"température moyenne sur 2020 =\", mean(df_2020$temp, na.rm = TRUE), \"°C\", \"\\n\")"
   ]
  },
  {
   "cell_type": "markdown",
   "id": "77339853",
   "metadata": {},
   "source": [
    "La température moyenne en France en 2020 était de 15.65 °C d'après les données récoltées. Mais quelle est la moyenne réelle de la température en 2020 avec un intervalle de confiance à 95 % ?\n",
    "\n",
    "Pour le savoir, on réalise un test de la moyenne, avec comme statistique de test :\n",
    "\n",
    "$ T = \\frac{\\bar{X_n} - \\mu}{S / \\sqrt{n}} $ qui suit une loi de Student à n-1 ddl (on ne connait pas la variance)"
   ]
  },
  {
   "cell_type": "code",
   "execution_count": 129,
   "id": "9977befa",
   "metadata": {
    "vscode": {
     "languageId": "r"
    }
   },
   "outputs": [
    {
     "name": "stdout",
     "output_type": "stream",
     "text": [
      "\n",
      "\tOne Sample t-test\n",
      "\n",
      "data:  df_2020$temp\n",
      "t = 709.79, df = 170880, p-value < 2.2e-16\n",
      "alternative hypothesis: true mean is not equal to 0\n",
      "95 percent confidence interval:\n",
      " 15.60824 15.69467\n",
      "sample estimates:\n",
      "mean of x \n",
      " 15.65145 \n",
      "\n"
     ]
    }
   ],
   "source": [
    "res <- t.test(df_2020$temp, conf.level = 0.95)\n",
    "print(res)"
   ]
  },
  {
   "cell_type": "markdown",
   "id": "2458261e",
   "metadata": {},
   "source": [
    "D'après les résultats, on dispose ici de 170 880 ddl et le test nous donne une intervalle de confiance à 95%   \n",
    "$ I_C = [15.60°C, 15.69°C]$ pour la moyenne de la température.  \n",
    "Donc on peux raisonnablement se dire que la température en France en 2020 était entre 15.6°C et 15.7°C (mais pas forcément exactement 15.65°C comme indiqué par la moyenne)."
   ]
  },
  {
   "cell_type": "markdown",
   "id": "4343cb60",
   "metadata": {},
   "source": [
    "### 3.2 - Test d'égalité des moyennes de température annuelles (2020 vs 2024)"
   ]
  },
  {
   "cell_type": "markdown",
   "id": "b5dc37c2",
   "metadata": {},
   "source": [
    "On s'intéresse ici à la température sur le territoire français sur 2 années distinctes : en 2020 et en 2024.  \n",
    "Pour confirmer la tendance du réchauffement climatique, on va essayer de confirmer statistiquement l'augmentation de la température moyenne entre 2020 et 2024."
   ]
  },
  {
   "cell_type": "code",
   "execution_count": 91,
   "id": "b00f4925",
   "metadata": {
    "vscode": {
     "languageId": "r"
    }
   },
   "outputs": [
    {
     "name": "stdout",
     "output_type": "stream",
     "text": [
      "température moyenne sur 2020 = 15.65145 °C \n",
      "température moyenne sur 2024 = 15.6994 °C \n"
     ]
    },
    {
     "data": {
      "image/png": "[encoded data removed]",
      "text/plain": [
       "Plot with title “Histogramme de la température sur 2024”"
      ]
     },
     "metadata": {
      "image/png": {
       "height": 360,
       "width": 900
      }
     },
     "output_type": "display_data"
    }
   ],
   "source": [
    "par(bg = \"white\") # graphique à fond blanc\n",
    "par(mfrow = c(1, 2))  # 4 graphiques côte à côte\n",
    "\n",
    "hist(df_2020$temp,\n",
    "     main = \"Histogramme de la température sur 2020\",\n",
    "     xlab = \"Température\",\n",
    "     col = \"lightblue\",\n",
    "     border = \"black\")\n",
    "abline(v = mean(df_2020$temp, na.rm = TRUE), col = \"red\", lwd = 2, lty = 2)\n",
    "\n",
    "hist(df_2021$temp,\n",
    "     main = \"Histogramme de la température sur 2024\",\n",
    "     xlab = \"Température\",\n",
    "     col = \"lightblue\",\n",
    "     border = \"black\")\n",
    "abline(v = mean(df_2024$temp, na.rm = TRUE), col = \"red\", lwd = 2, lty = 2)\n",
    "\n",
    "cat(\"température moyenne sur 2020 =\", mean(df_2020$temp, na.rm = TRUE), \"°C\", \"\\n\")\n",
    "cat(\"température moyenne sur 2024 =\", mean(df_2024$temp, na.rm = TRUE), \"°C\", \"\\n\")"
   ]
  },
  {
   "cell_type": "markdown",
   "id": "63ea8a42",
   "metadata": {},
   "source": [
    "On observe des histogrammes de température globalement similaires sur les deux années mais avec une moyenne de température légèrement supérieure en 2024 : 15.65 °C en 2020 contre 15.70 °C en 2024.  \n",
    "Bien que les moyennes soient différentes, on va voir si elles sont **significativement** différentes grâce à un test statistique."
   ]
  },
  {
   "cell_type": "markdown",
   "id": "7b56e57d",
   "metadata": {},
   "source": [
    "On suppose que la température suit une loi normale : c'est une bonne hypothèse puisque la température que l'on a dans notre dataframe est une valeur moyenne de température sur un intervalle de temps. On remarque également la forme de l'histogramme qui est caractéristique d'un celle d'un variable aléatoire suivant une loi normale. On suppose également les mesures de température comme iid.  \n",
    "\n",
    "On réalise donc maintenant un test statistique d'égalité des moyennes, avec la statistique de test :\n",
    "\n",
    "$ T = \\frac{\\bar{X} - \\bar{Y}}{\\sqrt{\\tfrac{s_X^2}{n_1} + \\tfrac{s_Y^2}{n_2}}} $ qui suit une loi de Student (attention : on ne connaît à priori pas les variances) \n",
    " \n",
    "avec les hypothèses :  \n",
    "$ H_0 : \\mu_1 = \\mu_2 \\qquad \\text{vs} \\qquad H_1 : \\mu_1 \\neq \\mu_2 $\n"
   ]
  },
  {
   "cell_type": "code",
   "execution_count": 104,
   "id": "863f4d27",
   "metadata": {
    "vscode": {
     "languageId": "r"
    }
   },
   "outputs": [
    {
     "name": "stdout",
     "output_type": "stream",
     "text": [
      "\n",
      "\tWelch Two Sample t-test\n",
      "\n",
      "data:  df_2020$temp and df_2024$temp\n",
      "t = -1.5242, df = 342118, p-value = 0.1275\n",
      "alternative hypothesis: true difference in means is not equal to 0\n",
      "95 percent confidence interval:\n",
      " -0.1096005  0.0137096\n",
      "sample estimates:\n",
      "mean of x mean of y \n",
      " 15.65145  15.69940 \n",
      "\n"
     ]
    }
   ],
   "source": [
    "res <- t.test(df_2020$temp, df_2024$temp,\n",
    "       alternative = \"two.sided\",   # test si 2024 = 2020\n",
    "       var.equal = FALSE)\n",
    "\n",
    "print(res)"
   ]
  },
  {
   "cell_type": "markdown",
   "id": "3e411044",
   "metadata": {},
   "source": [
    "On obtient une statistique $ T = -1.52 $ (cohérent car la température moyenne en 2020 était inférieure à celle en 2024), avec une $ p_{value} = 0.13 $.  \n",
    "On a $ p_{value} > 0.05 $, donc avec un intervalle de confiance à 95% on ne peux pas rejetter $ H_0 $ !  \n",
    "Même si la moyenne brute est légèrement plus haute en 2024, la variation naturelle des températures fait que cette différence n’est pas statistiquement significative, donc on ne peux pas conclure que la moyenne de température en 2024 soit supérieure de celle de 2020. "
   ]
  },
  {
   "cell_type": "markdown",
   "id": "393bc781",
   "metadata": {},
   "source": [
    "### 3.3 - Etude des différences entre les régions françaises (ANOVA)"
   ]
  },
  {
   "cell_type": "code",
   "execution_count": 107,
   "id": "5c1195d3",
   "metadata": {
    "vscode": {
     "languageId": "r"
    }
   },
   "outputs": [],
   "source": [
    "# affichage du numéro des régions\n",
    "\n",
    "unique_regions <- unique(df_2020[, c(\"region_code\", \"region_name\")])\n",
    "unique_regions <- unique_regions[order(unique_regions$region_code), ]\n",
    "# unique_regions"
   ]
  },
  {
   "cell_type": "markdown",
   "id": "02df809a",
   "metadata": {},
   "source": [
    "On s'intéresse maintenant à la température en 2020 de différentes régions françaises :  \n",
    "- Guadeloupe (code région 1)\n",
    "- Bretagne (code région 53)\n",
    "- Nouvelle-Aquitaine (code région 75)\n",
    "- Occitanie (code région 76)"
   ]
  },
  {
   "cell_type": "code",
   "execution_count": 95,
   "id": "464e6f90",
   "metadata": {
    "vscode": {
     "languageId": "r"
    }
   },
   "outputs": [
    {
     "name": "stdout",
     "output_type": "stream",
     "text": [
      "moyenne température Guadeloupe sur 2020 = 27.01542 °C \n",
      "moyenne température Bretagne sur 2020 = 12.97848 °C \n",
      "moyenne température Nouvelle-Aquitaine sur 2020 = 14.02076 °C \n",
      "moyenne température Occitanie sur 2020 = 14.28605 °C \n"
     ]
    },
    {
     "data": {
      "image/png": "[encoded data removed]",
      "text/plain": [
       "Plot with title “Histogramme de la température sur 2020 \n",
       " pour l'Occitanie”"
      ]
     },
     "metadata": {
      "image/png": {
       "height": 360,
       "width": 900
      }
     },
     "output_type": "display_data"
    }
   ],
   "source": [
    "par(bg = \"white\") # graphique à fond blanc\n",
    "par(mfrow = c(1, 4))  # 4 graphiques côte à côte\n",
    "\n",
    "df_2020_1 = subset(df_2020, region_code == 1)\n",
    "df_2020_53 = subset(df_2020, region_code == 53)\n",
    "df_2020_75 = subset(df_2020, region_code == 75)\n",
    "df_2020_76 = subset(df_2020, region_code == 76)\n",
    "\n",
    "hist(df_2020_1$temp,\n",
    "     main = \"Histogramme de la température sur 2020 \\n pour la Guadeloupe\",\n",
    "     xlab = \"Température\",\n",
    "     col = \"lightblue\",\n",
    "     border = \"black\")\n",
    "abline(v = mean(df_2020_1$temp, na.rm = TRUE), col = \"red\", lwd = 2, lty = 2)\n",
    "\n",
    "hist(df_2020_53$temp,\n",
    "     main = \"Histogramme de la température sur 2020 \\n pour la Bretagne\",\n",
    "     xlab = \"Température\",\n",
    "     col = \"lightblue\",\n",
    "     border = \"black\")\n",
    "abline(v = mean(df_2020_53$temp, na.rm = TRUE), col = \"red\", lwd = 2, lty = 2)\n",
    "\n",
    "hist(df_2020_75$temp,\n",
    "     main = \"Histogramme de la température sur 2020 \\n pour la Nouvelle-Aquitaine\",\n",
    "     xlab = \"Température\",\n",
    "     col = \"lightblue\",\n",
    "     border = \"black\")\n",
    "abline(v = mean(df_2020_75$temp, na.rm = TRUE), col = \"red\", lwd = 2, lty = 2)\n",
    "\n",
    "hist(df_2020_76$temp,\n",
    "     main = \"Histogramme de la température sur 2020 \\n pour l'Occitanie\",\n",
    "     xlab = \"Température\",\n",
    "     col = \"lightblue\",\n",
    "     border = \"black\")\n",
    "abline(v = mean(df_2020_76$temp, na.rm = TRUE), col = \"red\", lwd = 2, lty = 2)\n",
    "\n",
    "cat(\"moyenne température Guadeloupe sur 2020 =\", mean(df_2020_1$temp, na.rm = TRUE), \"°C\", \"\\n\")\n",
    "cat(\"moyenne température Bretagne sur 2020 =\", mean(df_2020_53$temp, na.rm = TRUE), \"°C\", \"\\n\")\n",
    "cat(\"moyenne température Nouvelle-Aquitaine sur 2020 =\", mean(df_2020_75$temp, na.rm = TRUE), \"°C\", \"\\n\")\n",
    "cat(\"moyenne température Occitanie sur 2020 =\", mean(df_2020_76$temp, na.rm = TRUE), \"°C\", \"\\n\")"
   ]
  },
  {
   "cell_type": "markdown",
   "id": "4d0b1429",
   "metadata": {},
   "source": [
    "Comme précédemment, on remarque que la température semble suivre une loi normale pour chacune des régions. C'est donc une encore bonne hypothèse que de considérer que la température suit une loi normale.  \n",
    "De plus, on remarque des moyennes significativement différentes entre les régions."
   ]
  },
  {
   "cell_type": "markdown",
   "id": "b4598208",
   "metadata": {},
   "source": [
    "On rajoute à notre études les variables et d'humidité et de précipitations (sur la dernière heure).  \n",
    "PS : on pourrait réaliser le même type d'histogramme pour ces variables."
   ]
  },
  {
   "cell_type": "code",
   "execution_count": null,
   "id": "0b7a7a4c",
   "metadata": {
    "vscode": {
     "languageId": "r"
    }
   },
   "outputs": [
    {
     "data": {
      "image/png": "[encoded data removed]",
      "text/plain": [
       "Plot with title “Précipitations (dernière heure)”"
      ]
     },
     "metadata": {
      "image/png": {
       "height": 360,
       "width": 900
      }
     },
     "output_type": "display_data"
    }
   ],
   "source": [
    "par(bg = \"white\") # graphique à fond blanc\n",
    "par(mfrow = c(1, 3))  # 3 graphiques côte à côte\n",
    "\n",
    "options(repr.plot.width = 15, repr.plot.height = 6) # réglages taille affichage\n",
    "\n",
    "df_2020_4 <- subset(df_2020, region_code %in% c(1, 53, 75, 76))\n",
    "\n",
    "boxplot(temp ~ region_name, data = df_2020_4, main = \"Température (°C)\", col = \"lightgreen\")\n",
    "boxplot(humidity ~ region_name, data = df_2020_4, main = \"Humidité (%)\", col = \"lightblue\")\n",
    "boxplot(precipitations1h ~ region_name, data = df_2020_4, main = \"Précipitations (dernière heure)\", col = \"lightpink\")\n"
   ]
  },
  {
   "cell_type": "markdown",
   "id": "686f347f",
   "metadata": {},
   "source": [
    "Grâce aux boxplot, On voir clairement pour la température que la moyenne est très clairement différentes, mais c'est moins clair pour les niveaux d'humidité et de précipitations. \n",
    "\n",
    "On va donc réaliser un test ANOVA pour chacune des variables :  \n",
    "on dispose de 4 groupes dinstincts (région Bretagne, Guadeloupe, Nouvelle-Aquitaine et Occitanie), et on va tester si ces 4 groupes ont la même moyenne pour les différentes variables (Température, Humidité et Précipitations).  \n",
    "\n",
    "On suppose pour cela que les variables aléatoires de température, humidité et précipitation suivent une loi normale (ce qui est une bonne hypothèse comme on l'a vu précédemment), et que les mesures sont indépendantes.  \n",
    "\n",
    "On s'interesse alors à la statistique de test :\n",
    "$ F = \\frac{SCE}{SCR} $ qui suit une loi de Fisher.  \n",
    "avec les hypothèses :  \n",
    "$ H_0 : \\mu_1 = \\mu_2 = \\mu_3 = ... \\qquad \\text{vs} \\qquad H_1 : \\text{une des moyenne est différente} $"
   ]
  },
  {
   "cell_type": "code",
   "execution_count": 113,
   "id": "899fe0a5",
   "metadata": {
    "vscode": {
     "languageId": "r"
    }
   },
   "outputs": [
    {
     "name": "stdout",
     "output_type": "stream",
     "text": [
      "ANOVA Température\n"
     ]
    },
    {
     "data": {
      "text/plain": [
       "               Df  Sum Sq Mean Sq F value Pr(>F)    \n",
       "region_name     3  907127  302376    7892 <2e-16 ***\n",
       "Residuals   52169 1998851      38                   \n",
       "---\n",
       "Signif. codes:  0 ‘***’ 0.001 ‘**’ 0.01 ‘*’ 0.05 ‘.’ 0.1 ‘ ’ 1\n",
       "46 observations deleted due to missingness"
      ]
     },
     "metadata": {},
     "output_type": "display_data"
    }
   ],
   "source": [
    "cat(\"ANOVA Température\\n\")\n",
    "aov_temp <- aov(temp ~ region_name, data = df_2020_4)\n",
    "summary(aov_temp)"
   ]
  },
  {
   "cell_type": "markdown",
   "id": "42d9f0b1",
   "metadata": {},
   "source": [
    "Pour la **température**, la statistique de test $F = 7892$ est très élevée.  \n",
    "On a $\\text{p}_\\text{value} < 2e-16$ : c'est extrêment petit donc on rejette $ H_0 $.\n",
    "On en conclut qu'il y a une différence significative de température entre les régions (à minima entre deux régions)."
   ]
  },
  {
   "cell_type": "code",
   "execution_count": 115,
   "id": "9211d961",
   "metadata": {
    "vscode": {
     "languageId": "r"
    }
   },
   "outputs": [
    {
     "name": "stdout",
     "output_type": "stream",
     "text": [
      "ANOVA Humidité\n"
     ]
    },
    {
     "data": {
      "text/plain": [
       "               Df   Sum Sq Mean Sq F value Pr(>F)    \n",
       "region_name     3   380723  126908   446.6 <2e-16 ***\n",
       "Residuals   52119 14810176     284                   \n",
       "---\n",
       "Signif. codes:  0 ‘***’ 0.001 ‘**’ 0.01 ‘*’ 0.05 ‘.’ 0.1 ‘ ’ 1\n",
       "96 observations deleted due to missingness"
      ]
     },
     "metadata": {},
     "output_type": "display_data"
    }
   ],
   "source": [
    "cat(\"ANOVA Humidité\\n\")\n",
    "aov_humidity <- aov(humidity ~ region_name, data = df_2020_4)\n",
    "summary(aov_humidity)"
   ]
  },
  {
   "cell_type": "markdown",
   "id": "24271511",
   "metadata": {},
   "source": [
    "Pour l'**humidité**, la statistique de test $F = 446$ est encore élevée.  \n",
    "On a $\\text{p}_\\text{value} < 2e-16$ : c'est extrêment petit donc on rejette $ H_0 $.\n",
    "On en conclut également qu'il y a une différence significative d'humidité entre les régions (à minima entre deux régions)."
   ]
  },
  {
   "cell_type": "code",
   "execution_count": null,
   "id": "f447de5c",
   "metadata": {
    "vscode": {
     "languageId": "r"
    }
   },
   "outputs": [
    {
     "name": "stdout",
     "output_type": "stream",
     "text": [
      "ANOVA Précipitation\n"
     ]
    },
    {
     "data": {
      "text/plain": [
       "               Df Sum Sq Mean Sq F value   Pr(>F)    \n",
       "region_name     3     13   4.184   11.16 2.57e-07 ***\n",
       "Residuals   51342  19248   0.375                     \n",
       "---\n",
       "Signif. codes:  0 ‘***’ 0.001 ‘**’ 0.01 ‘*’ 0.05 ‘.’ 0.1 ‘ ’ 1\n",
       "873 observations deleted due to missingness"
      ]
     },
     "metadata": {},
     "output_type": "display_data"
    }
   ],
   "source": [
    "cat(\"ANOVA Précipitations\\n\")\n",
    "aov_precipitations1h <- aov(precipitations1h ~ region_name, data = df_2020_4)\n",
    "summary(aov_precipitations1h)"
   ]
  },
  {
   "cell_type": "markdown",
   "id": "0c56df4c",
   "metadata": {},
   "source": [
    "Pour les **précipitations**, la statistique de test $F = 11$ est moins importante mais elle reste rélativement grande.  \n",
    "On a maintenant $\\text{p}_\\text{value} = 2.5e-07$ : donc cela nous permet encore une fois de rejetter $ H_0 $ avec un intervalle de confiance à 99.9 % au moins.\n",
    "On en conclut de nouveaux qu'il y a une différence significative de précipitation entre les régions."
   ]
  },
  {
   "cell_type": "markdown",
   "id": "5d946726",
   "metadata": {},
   "source": [
    "# 4. Une régression et étude de corrélation"
   ]
  },
  {
   "cell_type": "markdown",
   "id": "95600d47",
   "metadata": {},
   "source": [
    "### Régression\n",
    "On s'intéresse aux valeurs de pression mesurées au niveau de la mer et au niveau de la station.\n",
    "\n",
    "On s'attend en effectuant des régressions linéaires à retrouver un modèle similaire au modèle physique de pression (statique des fluides).\n",
    "\n",
    "$P(h) = P_{h=0} + \\rho * g * h$\n",
    "\n",
    "- $\\rho$ masse volumique air en $kg/m^3$\n",
    "- $g$ accélération de la pesanteur $9.81m/s²$\n",
    "- $h$ hauteur en $m$"
   ]
  },
  {
   "cell_type": "code",
   "execution_count": null,
   "id": "3ab80f75",
   "metadata": {
    "vscode": {
     "languageId": "r"
    }
   },
   "outputs": [],
   "source": [
    "n_graph_max <- 5\n",
    "\n",
    "df_regression_results = data.frame(matrix(ncol = 4, nrow = 0))\n",
    "col_names <- c(\"Nom\",\"(Intercept)\",\"Pression.au.niveau.mer\", \"R2\")\n",
    "names(df_regression_results) <- col_names\n",
    "\n",
    "i <- 0\n",
    "for (station in sort(df_station_stats$Nom)){\n",
    "    if (station!='EMBRUN' & station!=\"LE PUY-LOUDES\"){\n",
    "        df_meteo_station <- df_meteo[df_meteo$Nom==station, c('ID.OMM.station', 'Date', 'Pression.au.niveau.mer', 'Variation.de.pression.en.24.heures', 'Variation.de.pression.en.3.heures', 'Précipitations.dans.la.dernière.heure', 'Précipitations.dans.les.3.dernières.heures', 'Précipitations.dans.les.24.dernières.heures', 'Type.de.tendance.barométrique', 'Point.de.rosée', 'Humidité', 'Pression.station', 'Niveau.barométrique','Altitude')]\n",
    "        model_pression <- lm(Pression.station ~ Pression.au.niveau.mer, data=df_meteo_station)\n",
    "        # cat(\"R² : \",summary(model_pression)$r.squared)\n",
    "        if (i<n_graph_max){\n",
    "            par(bg='white')\n",
    "            plot(x=df_meteo_station$Pression.au.niveau.mer, y=df_meteo_station$Pression.station, main=station)\n",
    "            abline(model_pression)\n",
    "            \n",
    "        }\n",
    "        i <- i+1\n",
    "\n",
    "        df_station_results<-data.frame(station,model_pression$coefficients['(Intercept)'], model_pression$coefficients['Pression.au.niveau.mer'], summary(model_pression)$r.squared,row.names = station)\n",
    "        names(df_station_results)<- col_names\n",
    "\n",
    "        df_regression_results <- rbind(df_regression_results, df_station_results)}\n",
    "    }"
   ]
  },
  {
   "cell_type": "code",
   "execution_count": null,
   "id": "f64d9dae",
   "metadata": {
    "vscode": {
     "languageId": "r"
    }
   },
   "outputs": [],
   "source": [
    "df_regression_results"
   ]
  },
  {
   "cell_type": "code",
   "execution_count": null,
   "id": "babd998b",
   "metadata": {
    "vscode": {
     "languageId": "r"
    }
   },
   "outputs": [],
   "source": [
    "cat(\"Coefficient directeur moyen des régressions linéaires :\",mean(df_regression_results$Pression.au.niveau.mer))"
   ]
  },
  {
   "cell_type": "markdown",
   "id": "95ede81e",
   "metadata": {
    "vscode": {
     "languageId": "r"
    }
   },
   "source": [
    "Les régressions linéaires effectuées semblent confirmer la cohérence d'un modèle $P(h) = P_{h=0} + cste$.\n",
    "\n",
    "Il est difficile de conclure et confirmer la modélisation en $\\rho gh$ de l'intercept, la valeur de $\\rho$ dépendant de la température de manière non linéaire (on a un terme qui fait intervenir à la fois l'altitude $h$ et la température $T$)."
   ]
  },
  {
   "cell_type": "markdown",
   "id": "8f00ebbd",
   "metadata": {},
   "source": [
    "### Etude de corrélation\n",
    "On remarque que les coefficients R² des régressions linéaires sont tous très proches de 1. Cela nous permet de valider la corrélation entre la pression mesurée au niveau de la station et au niveau de la mer"
   ]
  },
  {
   "cell_type": "markdown",
   "id": "3957687f",
   "metadata": {},
   "source": [
    "### ANOVA"
   ]
  },
  {
   "cell_type": "markdown",
   "id": "f5ef7051",
   "metadata": {},
   "source": [
    "On veut tester si les stations ont les mêmes moyennes pour les variables quantitatives telles que la vitesse du vent moyen 10min.\n",
    "\n",
    "Une ANOVA requiert l'indépendance entre les variables aléatoires et que ces variables aléatoires suivent des lois normales de même variance. On va donc considérer la vitesse du vent moyen au pas 10min car ces moyennes font intervenir des mesures d'un unique pas de temps dans l'échantillonage des données météo (3 heures).\n",
    "On fait l'hypothèse que chaque mesure sera indépendante des autres (pas de recouvrement des mesures (10min<3h), mais le fait qu'on ait une série temporelle peut remettre en cause cette supposée indépendance)."
   ]
  },
  {
   "cell_type": "code",
   "execution_count": null,
   "id": "6247fa8d",
   "metadata": {
    "vscode": {
     "languageId": "r"
    }
   },
   "outputs": [],
   "source": [
    "par(bg='white')\n",
    "boxplot(Vitesse.du.vent.moyen.10.mn ~ Nom, data = df_meteo)"
   ]
  },
  {
   "cell_type": "code",
   "execution_count": null,
   "id": "4b31572e",
   "metadata": {
    "vscode": {
     "languageId": "r"
    }
   },
   "outputs": [],
   "source": [
    "cat(\"ANOVA Vitesse du vent moyen 10min\\n\")\n",
    "aov_vitesse_vent_10mn = aov(Vitesse.du.vent.moyen.10.mn ~ Nom, df_meteo)\n",
    "print(aov_vitesse_vent_10mn)\n",
    "summary(aov_vitesse_vent_10mn)"
   ]
  },
  {
   "cell_type": "markdown",
   "id": "807509a9",
   "metadata": {},
   "source": [
    "Le test statistique de l'ANOVA (test de Fisher) donne une valeur de 14044 ce qui correspond à une p-value inférieure à $2e-16$. Pour un $\\alpha=0.001$, on rejette l'hypothèse $H_0$ qui dit que toutes les moyennes des mesures de vitesse de vent par groupe de station sont égales (intervalle de confiance à 99,9%).\n",
    "\n",
    "Cela signifie que certaines stations météo ont sont exposées en moyenne (10min) un vent plus rapide que d'autres stations. En effet, on remarque déjà dans le boxplot ci-dessus que certains territoires ont des distributions de vitesse de vent assez différentes des autres (notamment pour les territoires insulaires ou du littoral tels que DUMONT D'URVILLE, CROZET, JUAN DE NOVA, KERGUELEN ou encore NOUVELLE AMSTERDAM)."
   ]
  },
  {
   "cell_type": "markdown",
   "id": "ab6ef6aa",
   "metadata": {},
   "source": [
    "# 5. Une ACP et une PLS\n"
   ]
  },
  {
   "cell_type": "markdown",
   "id": "6131472a",
   "metadata": {
    "vscode": {
     "languageId": "r"
    }
   },
   "source": [
    "**Introduction :** On souhaite réaliser une analyse en composantes principales. Pour cela, on sélectionne un sous-ensemble du jeu de données météo total. "
   ]
  },
  {
   "cell_type": "code",
   "execution_count": null,
   "id": "a3e6c474",
   "metadata": {
    "vscode": {
     "languageId": "r"
    }
   },
   "outputs": [],
   "source": [
    "sub <- df_meteo[df_meteo$Date > \"2021-01-01 00:00:00 UTC\" & df_meteo$Date <= \"2021-12-31 00:00:00 UTC\" & df_meteo$Nom == \"TOULOUSE-BLAGNAC\", ]"
   ]
  },
  {
   "cell_type": "markdown",
   "id": "54d73496",
   "metadata": {
    "vscode": {
     "languageId": "r"
    }
   },
   "source": [
    "On sélectionne toutes les données météo de la station de Mont-de-Marsan sur l'année 2021. Commençons par analyser le jeu de données sélectionné en regardant le nombre de colonnes avec des valeurs numériques et celles qui contiennent suffisamment de valeurs pour une analyse. "
   ]
  },
  {
   "cell_type": "code",
   "execution_count": null,
   "id": "161db887",
   "metadata": {
    "vscode": {
     "languageId": "r"
    }
   },
   "outputs": [],
   "source": [
    "for (col in colnames(sub)){\n",
    "    if (!is.numeric(sub[[col]])){\n",
    "        sub[[col]] <- NULL\n",
    "    }\n",
    "    na_frac <- sum(is.na(sub[[col]])) / nrow(sub)\n",
    "    if (na_frac > 0.2) {\n",
    "        sub[[col]] <- NULL\n",
    "    }\n",
    "}"
   ]
  },
  {
   "cell_type": "markdown",
   "id": "bb9c458e",
   "metadata": {
    "vscode": {
     "languageId": "r"
    }
   },
   "source": [
    "Puis, on supprimme les colonnes inintéressantes pour la suite."
   ]
  },
  {
   "cell_type": "code",
   "execution_count": null,
   "id": "e6b02e70",
   "metadata": {
    "vscode": {
     "languageId": "r"
    }
   },
   "outputs": [],
   "source": [
    "colonnes_a_supprimer <- c(\"Altitude\",\"EPCI..code.\",\"region..code.\",\"mois_de_l_annee\",\"Latitude\",\"Longitude\", \"ID.OMM.station\")\n",
    "\n",
    "for (col in colonnes_a_supprimer){\n",
    "    sub[[col]]<- NULL\n",
    "}\n"
   ]
  },
  {
   "cell_type": "markdown",
   "id": "8e1e3db0",
   "metadata": {
    "vscode": {
     "languageId": "r"
    }
   },
   "source": [
    "**Analyse en composantes principales**\n",
    "\n",
    "Nous souhaitons faire la PCA sur quelques variables du jeu de données précédent. Nous prenons un nombre restreint de variables autour de quelques indicateurs importants pour les prédictions météo (température, pression, humidité, point de rosée). L'objectif est de distinguer quelles variables ont le plus d'impact sur la variance des données, ainsi que des potentielles corrélations entre elles."
   ]
  },
  {
   "cell_type": "code",
   "execution_count": null,
   "id": "7205d5d6",
   "metadata": {
    "vscode": {
     "languageId": "r"
    }
   },
   "outputs": [],
   "source": [
    "vars_th <- c(\"Température\",\"Point.de.rosée\",\"Humidité\", \"Pression.station\")\n",
    "\n",
    "sub_th <- sub[, vars_th]\n",
    "\n",
    "# Nettoyage\n",
    "n_before <- nrow(sub_th)\n",
    "sub_th <- na.omit(sub_th)\n",
    "n_after  <- nrow(sub_th)\n",
    "cat(\"Lignes (avant -> après) suppression NA :\", n_before, \"->\", n_after, \"\\n\")\n",
    "if(nrow(sub_th) < 3) stop(\"Trop peu de lignes après nettoyage pour faire une ACP utile.\")\n",
    "\n",
    "# ACP\n",
    "library(FactoMineR)\n",
    "res_pca_th <- PCA(sub_th, scale.unit = TRUE, graph = FALSE)\n",
    "\n",
    "print(res_pca_th$eig)\n",
    "\n",
    "ind <- res_pca_th$ind$coord[, 1:2, drop = FALSE]   # coordonnées individus\n",
    "var <- res_pca_th$var$coord[, 1:2, drop = FALSE]   # coordonnées variables\n",
    "\n",
    "# ---- 1) Nuage de points + flèches ----\n",
    "max_ind <- max(abs(ind))\n",
    "max_var <- max(abs(var))\n",
    "sc <- ifelse(max_var == 0, 1, 0.8 * max_ind / max_var)\n",
    "\n",
    "var_len <- sqrt(var[,1]^2 + var[,2]^2)\n",
    "keep_var <- var_len > 1e-8\n",
    "\n",
    "xlim <- range(ind[,1], var[keep_var,1] * sc) * 1.1\n",
    "ylim <- range(ind[,2], var[keep_var,2] * sc) * 1.1\n",
    "\n",
    "\n",
    "\n",
    "plot(ind, pch = 19, col = \"grey40\", cex = 0.6,\n",
    "     xlab = paste0(\"PC1 (\", round(res_pca_th$eig[1,2], 1), \"%)\"),\n",
    "     ylab = paste0(\"PC2 (\", round(res_pca_th$eig[2,2], 1), \"%)\"),\n",
    "     xlim = xlim, ylim = ylim,\n",
    "     main = \"Biplot : individus + variables\")\n",
    "abline(h = 0, v = 0, col = \"grey80\")\n",
    "\n",
    "if(any(keep_var)){\n",
    "  arrows(0, 0, var[keep_var,1] * sc, var[keep_var,2] * sc,\n",
    "         length = 0.08, col = \"red\", lwd = 1.2)\n",
    "  text(var[keep_var,1] * sc * 1.06, var[keep_var,2] * sc * 1.06,\n",
    "       labels = rownames(var)[keep_var], col = \"red\", cex = 0.9)\n",
    "}\n",
    "\n",
    "theta <- seq(0, 2*pi, length = 200)\n",
    "plot(cos(theta), sin(theta), type = \"l\", lwd = 1.5, col = \"blue\",\n",
    "     xlab = paste0(\"PC1 (\", round(res_pca_th$eig[1,2], 1), \"%)\"),\n",
    "     ylab = paste0(\"PC2 (\", round(res_pca_th$eig[2,2], 1), \"%)\"),\n",
    "     asp = 1, main = \"Cercle des corrélations\")\n",
    "abline(h = 0, v = 0, col = \"grey80\")\n",
    "\n",
    "arrows(0, 0, var[keep_var,1], var[keep_var,2],\n",
    "       length = 0.08, col = \"red\", lwd = 1.2)\n",
    "text(var[keep_var,1] * 1.08, var[keep_var,2] * 1.08,\n",
    "     labels = rownames(var)[keep_var], col = \"red\", cex = 0.9)\n"
   ]
  },
  {
   "cell_type": "markdown",
   "id": "f2dfa9b0",
   "metadata": {
    "vscode": {
     "languageId": "r"
    }
   },
   "source": [
    "**Conclusion**\n",
    "\n",
    "On peut distinguer deux catégories de variables : les variables qui se projettent le plus sur la première composante principale (température et point de rosée), et celles qui se projettent plus selon la seconde (humidité et pression mesurée à la station).\n"
   ]
  },
  {
   "cell_type": "markdown",
   "id": "b5f64039",
   "metadata": {
    "vscode": {
     "languageId": "r"
    }
   },
   "source": [
    "**Régression PLS**\n",
    "\n",
    "On souhaite analyser quelles variables, parmi celles du jeu de données initial, seront le plus corrélées avec les précipitation dans les dernières 24h, et trouver un modèle permettant de retrouver les précipitations dans les dernières 24h à partir de nos variables. On enlève du jeu de données les variables de précipitations autres que celles dans les dernières 24H dans le but d'expliquer les précipitations par d'autres variables. "
   ]
  },
  {
   "cell_type": "code",
   "execution_count": null,
   "id": "87a7bf87",
   "metadata": {
    "vscode": {
     "languageId": "r"
    }
   },
   "outputs": [],
   "source": [
    "library(pls)\n",
    "# install.packages(\"ggplot2\")\n",
    "library(ggplot2)\n",
    "\n",
    "\n",
    "colonnes_non_desirables <- c(\"Type.de.tendance.barométrique\",\"Précipitations.dans.les.12.dernières.heures\",\"Précipitations.dans.les.3.dernières.heures\", \"Précipitations.dans.les.6.dernières.heures\", \"Précipitations.dans.la.dernière.heure\")\n",
    "for (col in colonnes_non_desirables){\n",
    "    sub[[col]] <- NULL\n",
    "}\n",
    "\n",
    "num_cols <- sapply(sub, is.numeric)\n",
    "\n",
    "Y_col <- \"Précipitations.dans.les.24.dernières.heures\"\n",
    "if(!Y_col %in% colnames(sub)) stop(\"La colonne précipitations n'existe pas\")\n",
    "\n",
    "X <- sub[, num_cols & colnames(sub) != Y_col]\n",
    "Y <- sub[[Y_col]]\n",
    "\n",
    "na_frac <- colSums(is.na(X))/nrow(X)\n",
    "keep_cols <- names(na_frac)[na_frac <= 0.2]\n",
    "X <- X[, keep_cols, drop = FALSE]\n",
    "cat(\"Colonnes conservées :\", paste(colnames(X), collapse=\", \"), \"\\n\")\n",
    "\n",
    "\n",
    "data_pls <- na.omit(data.frame(X, Y))\n",
    "X <- data_pls[, colnames(X)]\n",
    "vars_var <- sapply(X, function(x) var(x, na.rm = TRUE))\n",
    "X <- X[, vars_var > 0, drop = FALSE]\n",
    "\n",
    "Y <- data_pls$Y\n",
    "\n",
    "cat(\"Nombre d'observations utilisées :\", nrow(data_pls), \"\\n\")\n",
    "\n",
    "pls_model <- plsr(Y ~ ., data = data.frame(X, Y), scale = TRUE, validation = \"CV\", segments = 10)\n",
    "\n",
    "summary(pls_model)\n",
    "loadings(pls_model)\n",
    "\n",
    "RMSEP_vals <- RMSEP(pls_model)$val[1,,]\n",
    "ncomp_opt <- which.min(RMSEP_vals)\n",
    "cat(\"Nombre optimal de composantes :\", ncomp_opt, \"\\n\")\n",
    "\n",
    "\n",
    "Y_pred <- as.numeric(predict(pls_model, ncomp = ncomp_opt))\n",
    "\n",
    "ggplot(data.frame(Observé = Y, Prédit = Y_pred),\n",
    "       aes(x = Observé, y = Prédit)) +\n",
    "  geom_point(color = \"blue\", alpha = 0.6) +\n",
    "  geom_abline(slope = 1, intercept = 0, color = \"red\", linetype = \"dashed\") +\n",
    "  theme_minimal() +\n",
    "  labs(title = paste(\"PLS Observé vs Prévu - ncomp =\", ncomp_opt),\n",
    "       x = \"Précipitations observées\",\n",
    "       y = \"Précipitations prédites\")\n",
    "\n",
    "\n",
    "R2 <- 1 - sum((Y - Y_pred)^2)/sum((Y - mean(Y))^2)\n",
    "cat(\"R² global :\", round(R2*100,2), \"%\\n\")\n",
    "\n"
   ]
  },
  {
   "cell_type": "markdown",
   "id": "57c624c2",
   "metadata": {
    "vscode": {
     "languageId": "r"
    }
   },
   "source": [
    "La régression obtenue n'est pas satisfaisante. Seulement 22% de la variabilité des données de précipitations des 24 dernières heures est capturée par le modèle. Cela nous indique que d'autres paramètres sont certainement à prendre en compte, et que le modèle permettant d'expliquer au mieux les précipitations est plus complexe que celui qu'on a essayé de trouver."
   ]
  },
  {
   "cell_type": "markdown",
   "id": "4956d56f",
   "metadata": {},
   "source": [
    "# 6. Une méthode de clustering\n",
    "\n",
    "Nous souhaitons effectuer un clustering sur les stations météos. Pour cela, nous créons un data frame qui contient une ligne par station météo de France métropolitaine. Dans cette data frame, nous allons mettre les valeurs moyennes et les écarts types de température et humidité sur 3 groupes de 4 mois, pour l'année 2017. Ce choix a été fait car il est important de ne pas garder trop de variables par rapport au nombre d'observations, qui ici correspondra au nombre stations. Nous aurons donc 12 variables pour 62 observations. A noter qu'il aurait été possible de sélectionner plus de variables et d'effectuer ensuite une ACP pour réduire ces variables. \n",
    "\n",
    "Nous avons décidé d'utiliser le k-means pour ce clustering, avec 4 groupes."
   ]
  },
  {
   "cell_type": "code",
   "execution_count": null,
   "id": "fae4cd69",
   "metadata": {
    "vscode": {
     "languageId": "r"
    }
   },
   "outputs": [],
   "source": [
    "#Création de la data frame avec toutes les données utiles au clustering\n",
    "data_stations <- data.frame(\n",
    "  id = df_meteo$ID.OMM.station,\n",
    "  lon = df_meteo$Longitude,\n",
    "  lat = df_meteo$Latitude,\n",
    "  Ville = df_meteo$Nom,\n",
    "  date = df_meteo$Date,\n",
    "  temp = df_meteo$Température,\n",
    "  hum = df_meteo$`Humidité`,\n",
    "  mois = df_meteo$mois_de_l_annee\n",
    ")\n",
    "\n",
    "#Récupération des coordonnées des stations\n",
    "coord_stations <- data_stations %>%\n",
    "  select(id, lon, lat, Ville) %>%\n",
    "  distinct(id, .keep_all = TRUE)\n",
    "\n",
    "#Création d'une matrice avec les mois de l'année séparés en 3: (janvier, février, mars avril),\n",
    "# (mai, juin, juillet, août) et (septembre, octobre, novembre, décembre)\n",
    "mois_par_trimestre <- matrix(1:12, ncol=4, byrow = TRUE)\n",
    "\n",
    "#Initialisation de la data frame avec les données par stations\n",
    "df_bystations <- NULL\n",
    "\n",
    "#On étudie l'année 2017\n",
    "annee_encours <- 2017\n",
    "\n",
    "#Parcours par trimestre\n",
    "for(trimestre_encours in 1:3){\n",
    "\n",
    "# On filtre pour le trimestre voulu, et on ajoute à la data frame temporaire les moyennes \n",
    "#et écart-types de température et d'humidité pour ce trimestre.\n",
    "  donnees_par_station <- data_stations %>%\n",
    "    filter(format(date,\"%Y\")==annee_encours, mois %in% as.vector(mois_par_trimestre[trimestre_encours, ])) %>%\n",
    "    group_by(id) %>%\n",
    "    summarise(temp_moyenne = mean(temp, na.rm = TRUE),\n",
    "              hum_moyenne = mean(hum, na.rm = TRUE),\n",
    "              temp_sd = sd(temp, na.rm = TRUE),\n",
    "              hum_sd = sd(hum, na.rm = TRUE)) %>%\n",
    "    ungroup()\n",
    "\n",
    "  # Création des noms de colonnes\n",
    "  nom_colonne_temp_moy <- paste0(\"moy_temp_T\", trimestre_encours, \"_\", annee_encours)\n",
    "  nom_colonne_hum_moy <- paste0(\"moy_hum_T\", trimestre_encours, \"_\", annee_encours)\n",
    "  nom_colonne_temp_sd <- paste0(\"sd_temp_T\", trimestre_encours, \"_\", annee_encours)\n",
    "  nom_colonne_hum_sd <- paste0(\"sd_hum_T\", trimestre_encours, \"_\", annee_encours)\n",
    "  \n",
    "  # On renomme les colonnes\n",
    "  colnames(donnees_par_station)[colnames(donnees_par_station) == \"temp_moyenne\"] <- nom_colonne_temp_moy\n",
    "  colnames(donnees_par_station)[colnames(donnees_par_station) == \"hum_moyenne\"] <- nom_colonne_hum_moy\n",
    "  colnames(donnees_par_station)[colnames(donnees_par_station) == \"temp_sd\"] <- nom_colonne_temp_sd\n",
    "  colnames(donnees_par_station)[colnames(donnees_par_station) == \"hum_sd\"] <- nom_colonne_hum_sd\n",
    "\n",
    "  # Fusion avec le dataframe final\n",
    "  if (is.null(df_bystations)) {\n",
    "    df_bystations <- donnees_par_station\n",
    "  } else {\n",
    "    df_bystations <- full_join(df_bystations, donnees_par_station, by = \"id\")\n",
    "  }\n",
    "\n",
    "}\n",
    "\n",
    "#Transformation de la data frame pour lui appliquer le clustering\n",
    "\n",
    "  #On stocke puis on enlève la colonne des IDs de station\n",
    "df_ids <- df_bystations$id\n",
    "df_bystations_noid <- df_bystations %>% select(-id)\n",
    "\n",
    "  # On normalise les données\n",
    "df_bystations_scaled <- as.data.frame(scale(df_bystations_noid))\n",
    "\n",
    "#On applique le k-means sur le data frame transformé\n",
    "kmeans_stations <- kmeans(df_bystations_scaled, centers=4)\n",
    "\n"
   ]
  },
  {
   "cell_type": "code",
   "execution_count": null,
   "id": "98d24fab",
   "metadata": {
    "vscode": {
     "languageId": "r"
    }
   },
   "outputs": [],
   "source": [
    "#Récupération des IDs, des groupes du clustering, et des coordonnées des stations\n",
    "# pour placer les groupes sur la carte \n",
    "\n",
    "df_bystations_scaled$id <- df_ids\n",
    "df_bystations_scaled$groupe <- kmeans_stations$cluster\n",
    "df_bystations_geo <- dplyr::left_join(df_bystations_scaled, coord_stations, by = \"id\")\n",
    "\n",
    "# Import des couleurs\n",
    "library(RColorBrewer)\n",
    "couleurs <- brewer.pal(5, \"Set1\")\n",
    "\n",
    "# Affichage sur la carte du monde \n",
    "ggplot() +\n",
    "  geom_polygon(data = world, aes(x = long, y = lat, group = group),\n",
    "               fill = \"lightgray\", color = \"white\") +\n",
    "  geom_point(data = df_bystations_geo, aes(x = lon, y = lat, color = factor(groupe)), size = 3) +\n",
    "  scale_color_manual(values = couleurs) +\n",
    "  theme_minimal() +\n",
    "  coord_fixed(ratio = 1.2) +\n",
    "  ggtitle(\"Carte des stations météo de France selon le clustering\")"
   ]
  },
  {
   "cell_type": "code",
   "execution_count": null,
   "id": "96315731",
   "metadata": {
    "vscode": {
     "languageId": "r"
    }
   },
   "outputs": [],
   "source": [
    "#Zoom sur la métropole\n",
    "\n",
    "df_stations_metropole <- df_bystations_geo[(df_bystations_geo$lat<=52)&(df_bystations_geo$lat>=42)&(df_bystations_geo$lon<=10)&(df_bystations_geo$lon>=-10),]\n",
    "\n",
    "ggplot() +\n",
    "  geom_polygon(data = france, aes(x = long, y = lat, group = group),\n",
    "               fill = \"lightgray\", color = \"white\") +\n",
    "  geom_point(data = df_stations_metropole, aes(x = lon, y = lat, color = factor(groupe)), size = 3) +\n",
    "  scale_color_manual(values = couleurs) +\n",
    "  theme_minimal() +\n",
    "  coord_fixed(ratio = 1.2) +\n",
    "  ggtitle(\"Carte des stations météo de France selon le clustering\")"
   ]
  },
  {
   "cell_type": "markdown",
   "id": "63a54eff",
   "metadata": {},
   "source": [
    "Le résultat du clustering a regroupé les stations situées plus proche de l'équateur entre elles (Guyane, Antilles, Réunion), les stations situées à une latitude de -50 ou 50 et en bord de mer entre elles(côtes bretonnes et normandes, St Pierre et Miquelon, îles kerguelen), et enfin il reste deux groupes situés en quasi-totalité en métropole: un groupe plutôt à l'intérieur des terres, et un plutôt méditerranéen. Ce clustering fait sense, les réions regroupées entre elles présentant au global des climats similaires. "
   ]
  }
 ],
 "metadata": {
  "kernelspec": {
   "display_name": "R",
   "language": "R",
   "name": "ir"
  },
  "language_info": {
   "codemirror_mode": "r",
   "file_extension": ".r",
   "mimetype": "text/x-r-source",
   "name": "R",
   "pygments_lexer": "r",
   "version": "4.3.3"
  }
 },
 "nbformat": 4,
 "nbformat_minor": 5
}
