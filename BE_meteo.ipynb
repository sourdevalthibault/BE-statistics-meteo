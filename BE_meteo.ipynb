{
 "cells": [
  {
   "cell_type": "markdown",
   "id": "8c96d803",
   "metadata": {
    "vscode": {
     "languageId": "r"
    }
   },
   "source": [
    "\n",
    "# BE Meteo \n",
    "## HERVIOUX, SOURDEVAL, MANCIET, DUC-MARTIN, LEFAUCONNIER"
   ]
  },
  {
   "cell_type": "code",
<<<<<<< Updated upstream
   "execution_count": null,
=======
   "execution_count": 2,
>>>>>>> Stashed changes
   "id": "6cc8c114",
   "metadata": {
    "vscode": {
     "languageId": "r"
    }
   },
   "outputs": [],
   "source": [
    "# On load les données grâce à un fichier txt qui contient le chemin vers le fichier csv contenant les données\n",
    "path_data <- paste(readLines(\"path.txt\"), collapse = \"\\n\")"
   ]
  },
  {
   "cell_type": "code",
<<<<<<< Updated upstream
   "execution_count": null,
=======
   "execution_count": 3,
>>>>>>> Stashed changes
   "id": "2de76bc5",
   "metadata": {
    "vscode": {
     "languageId": "r"
    }
   },
   "outputs": [],
   "source": [
    "#install.packages(\"data.table\")\n",
    "library(data.table)\n",
    "dataset_meteo <- fread(path_data)\n",
    "head(dataset_meteo)"
   ]
  },
  {
   "cell_type": "markdown",
   "id": "e3d43fc9",
   "metadata": {},
   "source": [
    "# 1 - Description des données"
   ]
  },
  {
   "cell_type": "markdown",
   "id": "2a8908a1",
   "metadata": {},
   "source": [
    "### 1.1 - Organisation des données par ordre chronologique"
   ]
  },
  {
   "cell_type": "code",
   "execution_count": null,
   "id": "4aab6e4a",
   "metadata": {
    "vscode": {
     "languageId": "r"
    }
   },
   "outputs": [],
   "source": [
    "df_meteo <- data.frame(dataset_meteo)\n",
    "df_meteo <- df_meteo[order(df_meteo$Date), ] # Trier les valeurs par ordre chronologique\n",
    "head(df_meteo)"
   ]
  },
  {
   "cell_type": "markdown",
   "id": "fea97a5f",
   "metadata": {},
   "source": [
    "### 1.2 - Description des paramètres"
   ]
  },
  {
   "cell_type": "code",
   "execution_count": null,
   "id": "79c3a70b",
   "metadata": {
    "vscode": {
     "languageId": "r"
    }
   },
   "outputs": [],
   "source": [
    "cat(\"Nombre de lignes de données :\", nrow(df_meteo), \"\\n\")\n",
    "cat(\"Nombre de paramètres :\", ncol(df_meteo), \"\\n\")\n",
    "cat(\"\\tdont 14 paramètres décrivant l'emplacement de la station météo\\n\")\n",
    "cat(\"\\tdont 19 paramètres relatifs aux nuages/à la nébulosité (+ 4 hauteurs de bases)\\n\")\n",
    "cat(\"\\tdont 14 paramètres relatifs à la température\\n\")\n",
    "cat(\"\\tdont 7 paramètres relatifs à la pression/barométrie\\n\")\n",
    "cat(\"\\tdont 5 paramètres relatifs au vent/rafales\\n\")\n",
    "cat(\"\\tdont 5 paramètres relatifs à la pluie (précipitations)\\n\")\n",
    "cat(\"\\tdont 3 paramètres relatifs à la neige\\n\")\n",
    "cat(\"\\tdont 2 paramètres relatifs à l'humidité/rosée\\n\")\n",
    "cat(\"\\t + Date, mois_de_l_annee, Visibilité.horizontale, Temps.présent, Temps.passé.1, Temps.passé.2, Géopotentiel, Etat.du.sol, Phénomène.spécial.1, Phénomène.spécial.2, Phénomène.spécial.3, Phénomène.spécial.4, Temps.passé.1.1, Temps.présent.1\")"
   ]
  },
  {
   "cell_type": "markdown",
   "id": "a0a1bd70",
   "metadata": {},
   "source": [
    "### 1.3 - Description des stations météo"
   ]
  },
  {
   "cell_type": "code",
   "execution_count": null,
   "id": "943a2586",
   "metadata": {
    "vscode": {
     "languageId": "r"
    }
   },
   "outputs": [],
   "source": [
    "# Caractéristiques des stations météo\n",
    "df_stations <- df_meteo[c('ID.OMM.station', 'Coordonnees', 'Nom', 'Latitude', 'Longitude', 'Altitude', 'communes..name.', 'communes..code.', 'EPCI..name.', 'EPCI..code.', 'department..name.', 'department..code.', 'region..name.', 'region..code.')]\n",
    "df_unique_stations <- df_stations[!duplicated(df_stations[c('ID.OMM.station')]), ]\n",
    "cat(\"Nombre de stations météo :\", nrow(df_unique_stations))\n",
    "head(df_unique_stations[order(df_unique_stations$Nom), ])"
   ]
  },
  {
   "cell_type": "markdown",
   "id": "d61bfce7",
   "metadata": {},
   "source": [
    "### 1.4 - Carte des stations météo"
   ]
  },
  {
   "cell_type": "code",
   "execution_count": null,
   "id": "68863df1",
   "metadata": {
    "vscode": {
     "languageId": "r"
    }
   },
   "outputs": [],
   "source": [
    "#install.packages(c(\"ggplot2\", \"maps\", \"ggmap\"))\n",
    "library(ggplot2)\n",
    "library(maps)\n",
    "library(ggmap)\n",
    "\n",
    "options(repr.plot.width = 20, repr.plot.height = 10)\n",
    "\n",
    "data_points <- data.frame(\n",
    "  lon = df_unique_stations$Longitude,\n",
    "  lat = df_unique_stations$Latitude,\n",
    "  Ville = df_unique_stations$Nom\n",
    ")\n",
    "\n",
    "world <- map_data(\"world\")\n",
    "\n",
    "ggplot() +\n",
    "  geom_polygon(data = world, aes(x = long, y = lat, group = group),\n",
    "               fill = \"lightgray\", color = \"white\") +\n",
    "  geom_point(data = data_points, aes(x = lon, y = lat, color = Ville), size = 1) +\n",
    "  theme_minimal() +\n",
    "  theme(legend.position = \"none\") +\n",
    "  ggtitle(\"Carte des stations météo\")\n",
    "\n",
    "\n",
    "# Zoom sur l'hexagone  \n",
    "data_points_metropole <- data_points[(data_points$lat<=52)&(data_points$lat>=42)&(data_points$lon<=10)&(data_points$lon>=-10),]\n",
    "france <- map_data(\"france\")\n",
    "\n",
    "ggplot() +\n",
    "  geom_polygon(data = france, aes(x = long, y = lat, group = group),\n",
    "               fill = \"lightgray\", color = \"white\") +\n",
    "  geom_point(data = data_points_metropole, aes(x = lon, y = lat, color = Ville), size = 3) +\n",
    "  theme_minimal() +\n",
    "  # theme(legend.position = \"none\") +\n",
    "  coord_fixed(ratio = 1.2)+\n",
    "  ggtitle(\"Carte des stations météo de France métropolitaine\")"
   ]
  },
  {
   "cell_type": "markdown",
   "id": "587c2b95",
   "metadata": {},
   "source": [
    "### 1.5 - Relevé de températures par station"
   ]
  },
  {
   "cell_type": "code",
   "execution_count": null,
   "id": "1d5ead54",
   "metadata": {
    "vscode": {
     "languageId": "r"
    }
   },
   "outputs": [],
   "source": [
    "par(bg='white')\n",
    "for (ville in unique(df_meteo$Nom)[1:3]){\n",
    "  plot(\n",
    "    df_meteo$Date[df_meteo$Nom==ville],\n",
    "    df_meteo$`Température`[df_meteo$Nom==ville],\n",
    "    xlab = \"Date\",\n",
    "    ylab = \"Température\",\n",
    "    main = ville,\n",
    "    type = \"l\",\n",
    ")}"
   ]
  },
  {
   "cell_type": "markdown",
   "id": "a19f963e",
   "metadata": {},
   "source": [
    "### 1.6 - Valeurs moyennes des grandeurs mesurées par station"
   ]
  },
  {
   "cell_type": "code",
   "execution_count": null,
   "id": "5b591b3e",
   "metadata": {
    "vscode": {
     "languageId": "r"
    }
   },
   "outputs": [],
   "source": [
    "# install.packages(\"dplyr\")\n",
    "library(dplyr)\n",
    "\n",
    "df_grouped <- df_meteo %>%\n",
    "  group_by(ID.OMM.station) %>%\n",
    "  summarise(n_mesures = n(),\n",
    "            T_mean = mean(`Température`,na.rm = TRUE),\n",
    "            T_min = min(`Température`,na.rm = TRUE),\n",
    "            T_max = max(`Température`,na.rm = TRUE),\n",
    "            P_mean = mean(Pression.au.niveau.mer,na.rm = TRUE),\n",
    "            nebulosite_mean = mean(Nebulosité.totale, na.rm = TRUE)\n",
    "            )\n",
    "\n",
    "head(df_grouped)"
   ]
  },
  {
   "cell_type": "markdown",
   "id": "4ee26273",
   "metadata": {},
   "source": [
    "### 1.7 - Carte des températures extrêmes mesurées par station"
   ]
  },
  {
   "cell_type": "code",
   "execution_count": null,
   "id": "bf6e0cf8",
   "metadata": {
    "vscode": {
     "languageId": "r"
    }
   },
   "outputs": [],
   "source": [
    "df_station_stats <- merge(x = df_unique_stations, y = df_grouped, by = \"ID.OMM.station\", all = TRUE)"
   ]
  },
  {
   "cell_type": "code",
   "execution_count": null,
   "id": "bc8427fc",
   "metadata": {
    "vscode": {
     "languageId": "r"
    }
   },
   "outputs": [],
   "source": [
    "options(repr.plot.width = 20, repr.plot.height = 10)\n",
    "\n",
    "world <- map_data(\"world\")\n",
    "\n",
    "ggplot() +\n",
    "  geom_polygon(data = world, aes(x = long, y = lat, group = group),\n",
    "               fill = \"lightgray\", color = \"white\") +\n",
    "  geom_point(data = df_station_stats, aes(x = Longitude, y = Latitude, color = T_min), size = 1) +\n",
    "  theme_minimal() +\n",
    "  # theme(legend.position = \"none\")+\n",
    "  ggtitle(\"Température minimale par station (K)\")\n",
    "\n",
    "ggplot() +\n",
    "  geom_polygon(data = world, aes(x = long, y = lat, group = group),\n",
    "               fill = \"lightgray\", color = \"white\") +\n",
    "  geom_point(data = df_station_stats, aes(x = Longitude, y = Latitude, color = T_max), size = 1) +\n",
    "  theme_minimal() +\n",
    "  # theme(legend.position = \"none\")+\n",
    "  ggtitle(\"Température maximale par station (K)\")"
   ]
  },
  {
   "cell_type": "code",
   "execution_count": null,
   "id": "3c7ba393",
   "metadata": {
    "vscode": {
     "languageId": "r"
    }
   },
   "outputs": [],
   "source": [
    "summary(dataset_meteo)"
   ]
  },
  {
   "cell_type": "markdown",
   "id": "60061740",
   "metadata": {},
   "source": [
    "# 2. Un calcul et étude d'estimateur"
   ]
  },
  {
   "cell_type": "markdown",
   "id": "5da6fece",
   "metadata": {},
   "source": [
    "Nous allons étudier 3 estimateurs sur le jeu de donnée météo :"
   ]
  },
  {
   "cell_type": "markdown",
   "id": "8e658de2",
   "metadata": {},
   "source": [
    "### 2.1 - $\\small\\textbf{Estimateur 1 : }$\n",
    "\n",
    "Etude d'un estimateur de la température moyenne sur l'hiver 2019 en France métropolitaine."
   ]
  },
  {
   "cell_type": "code",
   "execution_count": null,
   "id": "fd1f44c5",
   "metadata": {
    "vscode": {
     "languageId": "r"
    }
   },
   "outputs": [],
   "source": [
    "#On extrait les données utiles du dataset\n",
    "data_points <- data.frame(\n",
    "  date = df_meteo$Date,\n",
    "  temp = df_meteo$`Température...C.`,\n",
    "  station = df_meteo$Nom,\n",
    "  mois = df_meteo$mois_de_l_annee,\n",
    "  lat = df_meteo$Latitude,\n",
    "  long = df_meteo$Longitude\n",
    ")\n",
    "\n",
    "france <- map_data(\"france\")\n",
    "\n",
    "#on filtre le dataset pour avoir les données voulues et calculer la moyenne de température\n",
    "data_points_metropole <- data_points %>%\n",
    "  filter(lat <= 52, lat >= 42,\n",
    "         long <= 10, long >= -10,\n",
    "         date < \"2020-01-01\", date > \"2019-01-01\",\n",
    "         mois > 1, mois < 4) %>%\n",
    "  group_by(station, lat, long) %>%\n",
    "  summarise(temp_moy = mean(temp, na.rm = TRUE), .groups = \"drop\")\n",
    "\n",
    "#plot de la carte obtenue\n",
    "ggplot() +\n",
    "  geom_polygon(data = france, aes(x = long, y = lat, group = group),\n",
    "               fill = \"lightgray\", color = \"white\") +\n",
    "  geom_point(data = data_points_metropole, aes(x = long, y = lat, color = temp_moy), size = 3) +\n",
    "  theme_minimal() +\n",
    "  scale_color_gradient(low = \"blue\", high = \"red\",\n",
    "                     name = \"Température moyenne (°C)\") +\n",
    "  coord_fixed(ratio = 1.2)+\n",
    "  ggtitle(\"Moyenne des température sur l'hiver 2019\")\n"
   ]
  },
  {
   "cell_type": "markdown",
   "id": "e748c93a",
   "metadata": {},
   "source": [
    "Grâce à cette carte, nous pouvons voir la répartition spatiale de la température moyenne de l'hiver 2019. Nous observons que les zones géographiques au Sud sont plus chaudes que celles au Nord Est. Nous pouvons donc observer un gradient de température du Sud vers le Nord ce qui correspond empiriquement à l'idée que nous avons de la météo."
   ]
  },
  {
   "cell_type": "code",
   "execution_count": null,
   "id": "9f664b69",
   "metadata": {
    "vscode": {
     "languageId": "r"
    }
   },
   "outputs": [],
   "source": [
    "library(dplyr)\n",
    "library(lubridate)\n",
    "library(ggplot2)\n",
    "\n",
    "#On extrait les données utiles du dataset\n",
    "data_points <- data.frame(\n",
    "  date = df_meteo$Date,\n",
    "  temp = df_meteo$`Température...C.`,\n",
    "  station = df_meteo$Nom,\n",
    "  mois = df_meteo$mois_de_l_annee,\n",
    "  lat = df_meteo$Latitude,\n",
    "  long = df_meteo$Longitude\n",
    ")\n",
    "\n",
    "# Paramètre : niveau de confiance\n",
    "alpha <- 0.05  # pour IC à 95%\n",
    "\n",
    "# Calculer par année : moyenne, sd, n et IC\n",
    "ic_par_annee <- data_points %>%\n",
    "  filter(lat <= 52, lat >= 42,\n",
    "         long <= 10, long >= -10,\n",
    "         date < \"2020-01-01\", date > \"2019-01-01\",\n",
    "         mois > 1, mois < 4) %>%\n",
    "  group_by(station, lat, long) %>%\n",
    "  summarise(\n",
    "    n = sum(!is.na(temp)),\n",
    "    temp_moy = mean(temp, na.rm = TRUE),\n",
    "    sd_temp = sd(temp, na.rm = TRUE),\n",
    "    .groups = \"drop\"\n",
    "  ) %>%\n",
    "  filter(n > 1) %>%\n",
    "  mutate(\n",
    "    se = sd_temp / sqrt(n),    # erreur standard\n",
    "    ic_bas = temp_moy - sqrt(se / (alpha * n)),\n",
    "    ic_haut = temp_moy + sqrt(se / (alpha * n))\n",
    "  )\n",
    "\n",
    "\n",
    "# Graphe avec barres d'erreur\n",
    "ggplot(ic_par_annee, aes(x = station, y = temp_moy)) +\n",
    "  geom_line() +\n",
    "  geom_point(size = 2) +\n",
    "  geom_errorbar(aes(ymin = ic_bas, ymax = ic_haut), width = 0.2) +\n",
    "  labs(\n",
    "    title = paste0(\"Température moyenne annuelle et Intervalle de Confiance à \", 100*(1-alpha), \"%\"),\n",
    "    x = \"Station\",\n",
    "    y = \"Température moyenne (°C)\"\n",
    "  ) +\n",
    "  theme(axis.text.x = element_text(angle = 90, vjust = 0.5, hjust = 1)) \n"
   ]
  },
  {
   "cell_type": "markdown",
   "id": "f3da32e7",
   "metadata": {},
   "source": [
    "L'estimateur de la moyenne est un estimateur sans biais par construction. Nous avons donc calculé l'intervalle de confiance à 95% de cet estimateur pour chacune des stations qui dépend de l'estimateur de la variance. Nous observons un intervalle de confiance qui est plutôt précis par rapport à la valeur absolue de la moyenne. Ceci est dû au fait que nous avons beaucoup de données et donc l'intervalle de confiance est réduit.\n",
    "\n",
    "D'après la formule : \n",
    "$\n",
    "IC = \\left[ \\; \\bar{X}_n - \\sqrt{\\frac{\\hat{\\sigma}_n^2}{\\alpha n}} \\; , \\; \n",
    "              \\bar{X}_n + \\sqrt{\\frac{\\hat{\\sigma}_n^2}{\\alpha n}} \\; \\right]\n",
    "$"
   ]
  },
  {
   "cell_type": "markdown",
   "id": "e7ccd867",
   "metadata": {},
   "source": [
    "### 2.2 - $\\small\\textbf{Estimateur 2 : }$\n",
    "\n",
    "Nous allons faire de même avec une estimation des précipitations moyennes en France métropolitaine sur l'hiver 2019."
   ]
  },
  {
   "cell_type": "code",
   "execution_count": null,
   "id": "574c2f58",
   "metadata": {
    "vscode": {
     "languageId": "r"
    }
   },
   "outputs": [],
   "source": [
    "#On extrait les données utiles du dataset\n",
    "data_points <- data.frame(\n",
    "  date = df_meteo$Date,\n",
    "  pluie = df_meteo$`Précipitations.dans.la.dernière.heure`,\n",
    "  station = df_meteo$Nom,\n",
    "  mois = df_meteo$mois_de_l_annee,\n",
    "  lat = df_meteo$Latitude,\n",
    "  long = df_meteo$Longitude\n",
    ")\n",
    "\n",
    "france <- map_data(\"france\")\n",
    "\n",
    "#on filtre le dataset pour avoir les données voulues et calculer la moyenne de température\n",
    "data_points_metropole <- data_points %>%\n",
    "  filter(lat <= 52, lat >= 42,\n",
    "         long <= 10, long >= -10,\n",
    "         date < \"2020-01-01\", date > \"2019-01-01\",\n",
    "         mois > 1, mois < 4) %>%\n",
    "  group_by(station, lat, long) %>%\n",
    "  summarise(pluie_moy = mean(pluie, na.rm = TRUE), .groups = \"drop\")\n",
    "\n",
    "#plot de la carte obtenue\n",
    "ggplot() +\n",
    "  geom_polygon(data = france, aes(x = long, y = lat, group = group),\n",
    "               fill = \"lightgray\", color = \"white\") +\n",
    "  geom_point(data = data_points_metropole, aes(x = long, y = lat, color = pluie_moy), size = 3) +\n",
    "  theme_minimal() +\n",
    "  scale_color_gradient(low = \"blue\", high = \"red\",\n",
    "                     name = \"Précipitation (mm)\") +\n",
    "  coord_fixed(ratio = 1.2)+\n",
    "  ggtitle(\"Moyenne des précipitations sur l'hiver 2019\")\n"
   ]
  },
  {
   "cell_type": "markdown",
   "id": "7b1e725c",
   "metadata": {},
   "source": [
    "Grâce à cette carte et à l'estimation des précipitations, nous pouvons observer les régions où il a le plus plu durant l'hiver 2019. Nous observons que la Bretagne est une région où il a particulièrement plu durant cet hiver ce qui confirme aussi la croyance populaire..."
   ]
  },
  {
   "cell_type": "code",
   "execution_count": null,
   "id": "4f8193aa",
   "metadata": {
    "vscode": {
     "languageId": "r"
    }
   },
   "outputs": [],
   "source": [
    "library(dplyr)\n",
    "library(lubridate)\n",
    "library(ggplot2)\n",
    "\n",
    "#On extrait les données utiles du dataset\n",
    "data_points <- data.frame(\n",
    "  date = df_meteo$Date,\n",
    "  pluie = df_meteo$`Précipitations.dans.la.dernière.heure`,\n",
    "  station = df_meteo$Nom,\n",
    "  mois = df_meteo$mois_de_l_annee,\n",
    "  lat = df_meteo$Latitude,\n",
    "  long = df_meteo$Longitude\n",
    ")\n",
    "\n",
    "# Paramètre : niveau de confiance\n",
    "alpha <- 0.05  # pour IC à 95%\n",
    "\n",
    "# Calculer par année : moyenne, sd, n et IC\n",
    "ic_par_annee <- data_points %>%\n",
    "  filter(lat <= 52, lat >= 42,\n",
    "         long <= 10, long >= -10,\n",
    "         date < \"2020-01-01\", date > \"2019-01-01\",\n",
    "         mois > 1, mois < 4) %>%\n",
    "  group_by(station, lat, long) %>%\n",
    "  summarise(\n",
    "    n = sum(!is.na(pluie)),\n",
    "    pluie_moy = mean(pluie, na.rm = TRUE),\n",
    "    sd_pluie = sd(pluie, na.rm = TRUE),\n",
    "    .groups = \"drop\"\n",
    "  ) %>%\n",
    "  filter(n > 1) %>%\n",
    "  mutate(\n",
    "    se = sd_pluie / sqrt(n),    # erreur standard\n",
    "    ic_bas = pluie_moy - sqrt(se / (alpha * n)),\n",
    "    ic_haut = pluie_moy + sqrt(se / (alpha * n))\n",
    "  )\n",
    "\n",
    "\n",
    "# Graphe avec barres d'erreur\n",
    "ggplot(ic_par_annee, aes(x = station, y = pluie_moy)) +\n",
    "  geom_line() +\n",
    "  geom_point(size = 2) +\n",
    "  geom_errorbar(aes(ymin = ic_bas, ymax = ic_haut), width = 0.2) +\n",
    "  labs(\n",
    "    title = paste0(\"Précipations moyennes annuelles et Intervalle de Confiance à \", 100*(1-alpha), \"%\"),\n",
    "    x = \"Station\",\n",
    "    y = \"Précipitation moyenne (°C)\"\n",
    "  ) +\n",
    "  theme(axis.text.x = element_text(angle = 90, vjust = 0.5, hjust = 1)) \n"
   ]
  },
  {
   "cell_type": "markdown",
   "id": "9aacb57c",
   "metadata": {},
   "source": [
    "Nous avons aussi tracé l'intervalle de confiance pour l'estimateur de la précipitation moyenne. Nous observons une plus grande disparité dans les données de par leur variance plus grande et leur plus faible nombre par rapport à la température vu plus tôt. Nous pouvons donc en déduire que l'estimateur de la précipitation moyenne est plus suceptible d'être moins précis que celui de la température."
   ]
  },
  {
   "cell_type": "markdown",
   "id": "8f3165ee",
   "metadata": {},
   "source": [
    "### 2.3 - $\\small\\textbf{Estimateur 3 : }$\n",
    "\n",
    "Nous allons finir par estimer la température moyenne en France métropolitaine sur une année."
   ]
  },
  {
   "cell_type": "code",
   "execution_count": null,
   "id": "ffde1dcd",
   "metadata": {
    "vscode": {
     "languageId": "r"
    }
   },
   "outputs": [],
   "source": [
    "#On extrait les données utiles du dataset\n",
    "data_points <- data.frame(\n",
    "  date = df_meteo$Date,\n",
    "  temp = df_meteo$`Température...C.`,\n",
    "  lat = df_meteo$Latitude,\n",
    "  long = df_meteo$Longitude\n",
    ")\n",
    "\n",
    "#on filtre le dataset pour avoir les données voulues et calculer la moyenne de température\n",
    "data_points <- data_points%>%\n",
    "  mutate(annee = year(date))\n",
    "data_points <- data_points %>%\n",
    "  group_by(annee) %>%\n",
    "  summarise(temp_moy = mean(temp, na.rm = TRUE), .groups = \"drop\")\n",
    "\n",
    "#plot du graphe obtenu\n",
    "ggplot(data_points, aes(x = annee, y = temp_moy)) +\n",
    "  geom_line(color = \"blue\", size = 1) +\n",
    "  geom_point(color = \"red\", size = 2) +\n",
    "  labs(\n",
    "    title = \"Évolution de la température moyenne annuelle\",\n",
    "    x = \"Année\",\n",
    "    y = \"Température moyenne (°C)\"\n",
    "  ) +\n",
    "  theme_minimal()"
   ]
  },
  {
   "cell_type": "markdown",
   "id": "39aa2f36",
   "metadata": {},
   "source": [
    "Grâce à ce graphe nous étudions l'évolution de la température moyenne annuelle de 2015 à 2025. Nous observons une tendance croissante de cette température moyenne annuelle. Nous confirmons donc un des effets du réchauffement climatique :  l'augmentation de la température en France métropolitaine depuis 10 ans. "
   ]
  },
  {
   "cell_type": "code",
   "execution_count": null,
   "id": "bdeeddc5",
   "metadata": {
    "vscode": {
     "languageId": "r"
    }
   },
   "outputs": [],
   "source": [
    "library(dplyr)\n",
    "library(lubridate)\n",
    "library(ggplot2)\n",
    "\n",
    "# Paramètre : niveau de confiance\n",
    "alpha <- 0.05  # pour IC à 95%\n",
    "\n",
    "#On extrait les données utiles du dataset\n",
    "data_points <- data.frame(\n",
    "  date = df_meteo$Date,\n",
    "  temp = df_meteo$`Température...C.`,\n",
    "  lat = df_meteo$Latitude,\n",
    "  long = df_meteo$Longitude\n",
    ")\n",
    "\n",
    "# Calculer par année : moyenne, sd, n et IC t\n",
    "ic_par_annee <- data_points %>%\n",
    "  mutate(annee = year(date)) %>%\n",
    "  group_by(annee) %>%\n",
    "  summarise(\n",
    "    n = sum(!is.na(temp)),\n",
    "    temp_moy = mean(temp, na.rm = TRUE),\n",
    "    sd_temp = sd(temp, na.rm = TRUE),\n",
    "    .groups = \"drop\"\n",
    "  ) %>%\n",
    "  mutate(\n",
    "    se = sd_temp / sqrt(n),\n",
    "    ic_bas = temp_moy - sqrt(se / (alpha * n)),\n",
    "    ic_haut = temp_moy + sqrt(se / (alpha * n))\n",
    "  )\n",
    "\n",
    "# Graphe avec barres d'erreur\n",
    "ggplot(ic_par_annee, aes(x = annee, y = temp_moy)) +\n",
    "  geom_line() +\n",
    "  geom_point(size = 2) +\n",
    "  geom_errorbar(aes(ymin = ic_bas, ymax = ic_haut), width = 0.2) +\n",
    "  labs(\n",
    "    title = paste0(\"Température moyenne annuelle et IC (\", 100*(1-alpha), \"%)\"),\n",
    "    x = \"Année\",\n",
    "    y = \"Température moyenne (°C)\"\n",
    "  ) +\n",
    "  theme_minimal()"
   ]
  },
  {
   "cell_type": "markdown",
   "id": "3262b400",
   "metadata": {},
   "source": [
    "Nous avons retracé le même graphe qu'au dessus en ajoutant les intervalles de confiance. Dû au grand nombre de données sur l'année, nous avons un intervalle de confiance très petit. Nous sommes donc ici sur un estimateur très précis."
   ]
  },
  {
   "cell_type": "markdown",
   "id": "4359c0b8",
   "metadata": {},
   "source": [
    "# 3. Des tests statistiques (au moins un sur un paramètre et une ANOVA)\n",
    "\n",
    "Colin"
   ]
  },
  {
   "cell_type": "code",
   "execution_count": null,
<<<<<<< Updated upstream
=======
   "id": "04899f36",
   "metadata": {
    "vscode": {
     "languageId": "r"
    }
   },
   "outputs": [
    {
     "name": "stderr",
     "output_type": "stream",
     "text": [
      "\n",
      "Attaching package: ‘dplyr’\n",
      "\n",
      "\n",
      "The following objects are masked from ‘package:data.table’:\n",
      "\n",
      "    between, first, last\n",
      "\n",
      "\n",
      "The following objects are masked from ‘package:stats’:\n",
      "\n",
      "    filter, lag\n",
      "\n",
      "\n",
      "The following objects are masked from ‘package:base’:\n",
      "\n",
      "    intersect, setdiff, setequal, union\n",
      "\n",
      "\n",
      "\n",
      "Attaching package: ‘lubridate’\n",
      "\n",
      "\n",
      "The following objects are masked from ‘package:data.table’:\n",
      "\n",
      "    hour, isoweek, mday, minute, month, quarter, second, wday, week,\n",
      "    yday, year\n",
      "\n",
      "\n",
      "The following objects are masked from ‘package:base’:\n",
      "\n",
      "    date, intersect, setdiff, union\n",
      "\n",
      "\n"
     ]
    }
   ],
   "source": [
    "# library(dplyr)\n",
    "# library(lubridate)"
   ]
  },
  {
   "cell_type": "code",
   "execution_count": 15,
>>>>>>> Stashed changes
   "id": "85961574",
   "metadata": {
    "vscode": {
     "languageId": "r"
    }
   },
   "outputs": [],
   "source": [
    "# on reprend : dataset_meteo\n",
    "colnames(dataset_meteo)"
   ]
  },
  {
   "cell_type": "code",
<<<<<<< Updated upstream
   "execution_count": null,
=======
   "execution_count": 16,
>>>>>>> Stashed changes
   "id": "7f53e4c7",
   "metadata": {
    "vscode": {
     "languageId": "r"
    }
   },
<<<<<<< Updated upstream
   "outputs": [],
=======
   "outputs": [
    {
     "data": {
      "text/html": [
       "'data.frame'"
      ],
      "text/latex": [
       "'data.frame'"
      ],
      "text/markdown": [
       "'data.frame'"
      ],
      "text/plain": [
       "[1] \"data.frame\""
      ]
     },
     "metadata": {},
     "output_type": "display_data"
    },
    {
     "data": {
      "text/html": [
       "<table class=\"dataframe\">\n",
       "<caption>A data.frame: 6 × 6</caption>\n",
       "<thead>\n",
       "\t<tr><th></th><th scope=col>date</th><th scope=col>temp</th><th scope=col>station</th><th scope=col>mois</th><th scope=col>lat</th><th scope=col>long</th></tr>\n",
       "\t<tr><th></th><th scope=col>&lt;dttm&gt;</th><th scope=col>&lt;dbl&gt;</th><th scope=col>&lt;chr&gt;</th><th scope=col>&lt;int&gt;</th><th scope=col>&lt;dbl&gt;</th><th scope=col>&lt;dbl&gt;</th></tr>\n",
       "</thead>\n",
       "<tbody>\n",
       "\t<tr><th scope=row>1</th><td>2017-04-05 09:00:00</td><td>16.8</td><td>NICE         </td><td>4</td><td> 43.64883</td><td>  7.209000</td></tr>\n",
       "\t<tr><th scope=row>2</th><td>2017-04-05 09:00:00</td><td>12.5</td><td>KERGUELEN    </td><td>4</td><td>-49.35233</td><td> 70.243333</td></tr>\n",
       "\t<tr><th scope=row>3</th><td>2018-04-04 03:00:00</td><td>25.3</td><td>LAMENTIN-AERO</td><td>4</td><td> 14.59533</td><td>-60.995667</td></tr>\n",
       "\t<tr><th scope=row>4</th><td>2018-04-05 03:00:00</td><td> 5.0</td><td>KERGUELEN    </td><td>4</td><td>-49.35233</td><td> 70.243333</td></tr>\n",
       "\t<tr><th scope=row>5</th><td>2018-04-05 06:00:00</td><td>11.1</td><td>NICE         </td><td>4</td><td> 43.64883</td><td>  7.209000</td></tr>\n",
       "\t<tr><th scope=row>6</th><td>2018-04-08 03:00:00</td><td>12.4</td><td>ORLY         </td><td>4</td><td> 48.71683</td><td>  2.384333</td></tr>\n",
       "</tbody>\n",
       "</table>\n"
      ],
      "text/latex": [
       "A data.frame: 6 × 6\n",
       "\\begin{tabular}{r|llllll}\n",
       "  & date & temp & station & mois & lat & long\\\\\n",
       "  & <dttm> & <dbl> & <chr> & <int> & <dbl> & <dbl>\\\\\n",
       "\\hline\n",
       "\t1 & 2017-04-05 09:00:00 & 16.8 & NICE          & 4 &  43.64883 &   7.209000\\\\\n",
       "\t2 & 2017-04-05 09:00:00 & 12.5 & KERGUELEN     & 4 & -49.35233 &  70.243333\\\\\n",
       "\t3 & 2018-04-04 03:00:00 & 25.3 & LAMENTIN-AERO & 4 &  14.59533 & -60.995667\\\\\n",
       "\t4 & 2018-04-05 03:00:00 &  5.0 & KERGUELEN     & 4 & -49.35233 &  70.243333\\\\\n",
       "\t5 & 2018-04-05 06:00:00 & 11.1 & NICE          & 4 &  43.64883 &   7.209000\\\\\n",
       "\t6 & 2018-04-08 03:00:00 & 12.4 & ORLY          & 4 &  48.71683 &   2.384333\\\\\n",
       "\\end{tabular}\n"
      ],
      "text/markdown": [
       "\n",
       "A data.frame: 6 × 6\n",
       "\n",
       "| <!--/--> | date &lt;dttm&gt; | temp &lt;dbl&gt; | station &lt;chr&gt; | mois &lt;int&gt; | lat &lt;dbl&gt; | long &lt;dbl&gt; |\n",
       "|---|---|---|---|---|---|---|\n",
       "| 1 | 2017-04-05 09:00:00 | 16.8 | NICE          | 4 |  43.64883 |   7.209000 |\n",
       "| 2 | 2017-04-05 09:00:00 | 12.5 | KERGUELEN     | 4 | -49.35233 |  70.243333 |\n",
       "| 3 | 2018-04-04 03:00:00 | 25.3 | LAMENTIN-AERO | 4 |  14.59533 | -60.995667 |\n",
       "| 4 | 2018-04-05 03:00:00 |  5.0 | KERGUELEN     | 4 | -49.35233 |  70.243333 |\n",
       "| 5 | 2018-04-05 06:00:00 | 11.1 | NICE          | 4 |  43.64883 |   7.209000 |\n",
       "| 6 | 2018-04-08 03:00:00 | 12.4 | ORLY          | 4 |  48.71683 |   2.384333 |\n",
       "\n"
      ],
      "text/plain": [
       "  date                temp station       mois lat       long      \n",
       "1 2017-04-05 09:00:00 16.8 NICE          4     43.64883   7.209000\n",
       "2 2017-04-05 09:00:00 12.5 KERGUELEN     4    -49.35233  70.243333\n",
       "3 2018-04-04 03:00:00 25.3 LAMENTIN-AERO 4     14.59533 -60.995667\n",
       "4 2018-04-05 03:00:00  5.0 KERGUELEN     4    -49.35233  70.243333\n",
       "5 2018-04-05 06:00:00 11.1 NICE          4     43.64883   7.209000\n",
       "6 2018-04-08 03:00:00 12.4 ORLY          4     48.71683   2.384333"
      ]
     },
     "metadata": {},
     "output_type": "display_data"
    },
    {
     "data": {
      "text/html": [
       "1719567"
      ],
      "text/latex": [
       "1719567"
      ],
      "text/markdown": [
       "1719567"
      ],
      "text/plain": [
       "[1] 1719567"
      ]
     },
     "metadata": {},
     "output_type": "display_data"
    }
   ],
>>>>>>> Stashed changes
   "source": [
    "\n",
    "#On extrait les données utiles du dataset\n",
    "data_points <- data.frame(\n",
    "  date = dataset_meteo$Date,\n",
    "  temp = dataset_meteo$'Température (°C)',\n",
    "  station = dataset_meteo$Nom,\n",
    "  mois = dataset_meteo$mois_de_l_annee,\n",
    "  lat = dataset_meteo$Latitude,\n",
    "  long = dataset_meteo$Longitude\n",
    ")\n",
    "\n",
    "class(data_points)\n",
    "head(data_points)\n",
    "nrow(data_points)\n"
   ]
  },
  {
   "cell_type": "code",
   "execution_count": 17,
   "id": "f843d007",
   "metadata": {
    "vscode": {
     "languageId": "r"
    }
   },
   "outputs": [
    {
     "data": {
      "text/html": [
       "173642"
      ],
      "text/latex": [
       "173642"
      ],
      "text/markdown": [
       "173642"
      ],
      "text/plain": [
       "[1] 173642"
      ]
     },
     "metadata": {},
     "output_type": "display_data"
    }
   ],
   "source": [
    "df_2020 <- data_points[format(data_points$date, \"%Y\") == \"2020\", ]\n",
    "nrow(df_2020)"
   ]
  },
  {
   "cell_type": "code",
   "execution_count": 14,
   "id": "9f016d25",
   "metadata": {
    "vscode": {
     "languageId": "r"
    }
   },
   "outputs": [
    {
     "name": "stdout",
     "output_type": "stream",
     "text": [
      "[1] \"moyenne = \"\n",
      "[1] 15.65145\n"
     ]
    },
    {
     "data": {
      "image/png": "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",
      "text/plain": [
       "Plot with title “Histogramme de la température”"
      ]
     },
     "metadata": {
      "image/png": {
       "height": 420,
       "width": 420
      }
     },
     "output_type": "display_data"
    }
   ],
   "source": [
    "par(bg = \"white\")\n",
    "hist(df_2020$temp,\n",
    "     prob = TRUE,\n",
    "     main = \"Histogramme de la température\",\n",
    "     xlab = \"temp\",\n",
    "     col = \"lightblue\",\n",
    "     border = \"black\")\n",
    "abline(v = mean(df_2020$temp, na.rm = TRUE), col = \"red\", lwd = 2, lty = 2)\n",
    "print(\"moyenne = \")\n",
    "print(mean(df_2020$temp, na.rm = TRUE))"
   ]
  },
  {
   "cell_type": "markdown",
   "id": "5d946726",
   "metadata": {},
   "source": [
    "# 4. Une régression et étude de corrélation"
   ]
  },
  {
   "cell_type": "markdown",
   "id": "95600d47",
   "metadata": {},
   "source": [
    "### Régression\n",
    "On s'intéresse aux valeurs de pression mesurées au niveau de la mer et au niveau de la station.\n",
    "\n",
    "On s'attend en effectuant des régressions linéaires à retrouver un modèle similaire au modèle physique de pression (statique des fluides).\n",
    "\n",
    "$P(h) = P_{h=0} + \\rho * g * h$\n",
    "\n",
    "- $\\rho$ masse volumique air en $kg/m^3$\n",
    "- $g$ accélération de la pesanteur $9.81m/s²$\n",
    "- $h$ hauteur en $m$"
   ]
  },
  {
   "cell_type": "code",
   "execution_count": null,
   "id": "3ab80f75",
   "metadata": {
    "vscode": {
     "languageId": "r"
    }
   },
   "outputs": [],
   "source": [
    "n_graph_max <- 5\n",
    "\n",
    "df_regression_results = data.frame(matrix(ncol = 4, nrow = 0))\n",
    "col_names <- c(\"Nom\",\"(Intercept)\",\"Pression.au.niveau.mer\", \"R2\")\n",
    "names(df_regression_results) <- col_names\n",
    "\n",
    "i <- 0\n",
    "for (station in sort(df_station_stats$Nom)){\n",
    "    if (station!='EMBRUN' & station!=\"LE PUY-LOUDES\"){\n",
    "        df_meteo_station <- df_meteo[df_meteo$Nom==station, c('ID.OMM.station', 'Date', 'Pression.au.niveau.mer', 'Variation.de.pression.en.24.heures', 'Variation.de.pression.en.3.heures', 'Précipitations.dans.la.dernière.heure', 'Précipitations.dans.les.3.dernières.heures', 'Précipitations.dans.les.24.dernières.heures', 'Type.de.tendance.barométrique', 'Point.de.rosée', 'Humidité', 'Pression.station', 'Niveau.barométrique','Altitude')]\n",
    "        model_pression <- lm(Pression.station ~ Pression.au.niveau.mer, data=df_meteo_station)\n",
    "        # cat(\"R² : \",summary(model_pression)$r.squared)\n",
    "        if (i<n_graph_max){\n",
    "            par(bg='white')\n",
    "            plot(x=df_meteo_station$Pression.au.niveau.mer, y=df_meteo_station$Pression.station, main=station)\n",
    "            abline(model_pression)\n",
    "            \n",
    "        }\n",
    "        i <- i+1\n",
    "\n",
    "        df_station_results<-data.frame(station,model_pression$coefficients['(Intercept)'], model_pression$coefficients['Pression.au.niveau.mer'], summary(model_pression)$r.squared,row.names = station)\n",
    "        names(df_station_results)<- col_names\n",
    "\n",
    "        df_regression_results <- rbind(df_regression_results, df_station_results)}\n",
    "    }"
   ]
  },
  {
   "cell_type": "code",
   "execution_count": null,
   "id": "f64d9dae",
   "metadata": {
    "vscode": {
     "languageId": "r"
    }
   },
   "outputs": [],
   "source": [
    "df_regression_results"
   ]
  },
  {
   "cell_type": "code",
   "execution_count": null,
   "id": "babd998b",
   "metadata": {
    "vscode": {
     "languageId": "r"
    }
   },
   "outputs": [],
   "source": [
    "cat(\"Coefficient directeur moyen des régressions linéaires :\",mean(df_regression_results$Pression.au.niveau.mer))"
   ]
  },
  {
   "cell_type": "markdown",
   "id": "95ede81e",
   "metadata": {
    "vscode": {
     "languageId": "r"
    }
   },
   "source": [
    "Les régressions linéaires effectuées semblent confirmer la cohérence d'un modèle $P(h) = P_{h=0} + cste$.\n",
    "\n",
    "Il est difficile de conclure et confirmer la modélisation en $\\rho gh$ de l'intercept, la valeur de $\\rho$ dépendant de la température de manière non linéaire (on a un terme qui fait intervenir à la fois l'altitude $h$ et la température $T$)."
   ]
  },
  {
   "cell_type": "markdown",
   "id": "3957687f",
   "metadata": {},
   "source": [
    "### ANOVA"
   ]
  },
  {
   "cell_type": "markdown",
   "id": "f5ef7051",
   "metadata": {},
   "source": [
    "On veut tester si les stations ont les mêmes moyennes pour les variables quantitatives telles que la vitesse du vent moyen 10min.\n",
    "\n",
    "Une ANOVA requiert l'indépendance entre les variables aléatoires et que ces variables aléatoires suivent des lois normales de même variance. On va donc considérer la vitesse du vent moyen au pas 10min car ces moyennes font intervenir des mesures d'un unique pas de temps dans l'échantillonage des données météo (3 heures).\n",
    "On fait l'hypothèse que chaque mesure sera indépendante des autres (pas de recouvrement des mesures (10min<3h), mais le fait qu'on ait une série temporelle peut remettre en cause cette supposée indépendance)."
   ]
  },
  {
   "cell_type": "code",
   "execution_count": null,
   "id": "6247fa8d",
   "metadata": {
    "vscode": {
     "languageId": "r"
    }
   },
   "outputs": [],
   "source": [
    "par(bg='white')\n",
    "boxplot(Vitesse.du.vent.moyen.10.mn ~ Nom, data = df_meteo)"
   ]
  },
  {
   "cell_type": "code",
   "execution_count": null,
   "id": "4b31572e",
   "metadata": {
    "vscode": {
     "languageId": "r"
    }
   },
   "outputs": [],
   "source": [
    "cat(\"ANOVA Vitesse du vent moyen 10min\\n\")\n",
    "aov_vitesse_vent_10mn = aov(Vitesse.du.vent.moyen.10.mn ~ Nom, df_meteo)\n",
    "print(aov_vitesse_vent_10mn)\n",
    "summary(aov_vitesse_vent_10mn)"
   ]
  },
  {
   "cell_type": "markdown",
   "id": "807509a9",
   "metadata": {},
   "source": [
    "Le test statistique de l'ANOVA (test de Fisher) donne une valeur de 14044 ce qui correspond à une p-value inférieure à $2e-16$. Pour un $\\alpha=0.001$, on rejette l'hypothèse $H_0$ qui dit que toutes les moyennes des mesures de vitesse de vent par groupe de station sont égales (intervalle de confiance à 99,9%).\n",
    "\n",
    "Cela signifie que certaines stations météo ont sont exposées en moyenne (10min) un vent plus rapide que d'autres stations. En effet, on remarque déjà dans le boxplot ci-dessus que certains territoires ont des distributions de vitesse de vent assez différentes des autres (notamment pour les territoires insulaires ou du littoral tels que DUMONT D'URVILLE, CROZET, JUAN DE NOVA, KERGUELEN ou encore NOUVELLE AMSTERDAM)."
   ]
  },
  {
   "cell_type": "markdown",
   "id": "ab6ef6aa",
   "metadata": {},
   "source": [
    "# 5. Une ACP et une PLS\n",
    "\n",
    "Nuages/nébulosité\n",
    "\n",
    "Adrien"
   ]
  },
  {
   "cell_type": "code",
   "execution_count": null,
   "id": "a3e6c474",
   "metadata": {
    "vscode": {
     "languageId": "r"
    }
   },
   "outputs": [],
   "source": [
    "sub <- df_meteo[df_meteo$Date > \"2021-01-01 00:00:00 UTC\" & df_meteo$Date <= \"2021-12-31 00:00:00 UTC\" & df_meteo$Nom == \"TOULOUSE-BLAGNAC\", ]"
   ]
  },
  {
   "cell_type": "code",
   "execution_count": null,
   "id": "c18a227c",
   "metadata": {
    "vscode": {
     "languageId": "r"
    }
   },
   "outputs": [],
   "source": [
    "var <- c(\n",
    "  \"Température...C.\", \"Humidité\", \"Pression.station\",\n",
    "  \"Visibilité.horizontale\", \"Précipitations.dans.les.24.dernières.heures\",\n",
    "  \"Nebulosité.totale\", \"Hauteur.de.la.base.des.nuages.de.l.étage.inférieur\"\n",
    ")\n",
    "\n",
    "X_focus <- sub[, var]\n",
    "X_focus <- na.omit(X_focus)\n",
    "\n",
    "library(FactoMineR)\n",
    "\n",
    "res_pca_focus <- PCA(X_focus, scale.unit = TRUE, graph = TRUE)\n",
    "# res_pca_focus$eig\n",
    "# res_pca_focus$var"
   ]
  },
  {
   "cell_type": "markdown",
   "id": "c2e89366",
   "metadata": {
    "vscode": {
     "languageId": "r"
    }
   },
   "source": [
    "$\\small\\textbf{Lancement de l'ACP}$\n",
    "\n",
    "Nous allons utiliser la librairie factominer. "
   ]
  },
  {
   "cell_type": "code",
   "execution_count": null,
   "id": "081def0b",
   "metadata": {
    "vscode": {
     "languageId": "r"
    }
   },
   "outputs": [],
   "source": [
    "par(bg='white')\n",
    "var.coord <- res_pca_focus$var$coord[,1:2]\n",
    "plot(var.coord, type='n',xlim=c(-2,2), ylim=c(-2,2), xlab=\"PC1\", ylab = \"PC2\")\n",
    "symbols(0,0, circles=2, inches=FALSE, add=TRUE, lwd=2)\n",
    "arrows(0,0, var.coord[,1]*2, var.coord[,2]*2, length=0.1, col='red')\n",
    "text(var.coord[,1]*1.1, var.coord[,2]*1.1, labels = rownames(var.coord), col =\"red\", cex = 0.6)\n",
    "abline(h=0, v=0, col='grey70')"
   ]
  },
  {
   "cell_type": "code",
   "execution_count": null,
   "id": "cc57706a",
   "metadata": {
    "vscode": {
     "languageId": "r"
    }
   },
   "outputs": [],
   "source": [
    "par(bg='white')\n",
    "ind.coord <- res_pca_focus$ind$coord[,1:2]\n",
    "plot(ind.coord, xlab=\"PC1\", ylab=\"PC2\", main=\"Individus - focus nuages\", pch=19, col=\"blue\")"
   ]
  },
  {
   "cell_type": "code",
   "execution_count": null,
   "id": "c3b3e368",
   "metadata": {
    "vscode": {
     "languageId": "r"
    }
   },
   "outputs": [],
   "source": [
    "# Coordonnées\n",
    "ind.coord <- res_pca_focus$ind$coord[,1:2]  # individus\n",
    "var.coord <- res_pca_focus$var$coord[,1:2]  # variables\n",
    "\n",
    "par(bg='white')\n",
    "# 1. Base plot\n",
    "plot(ind.coord[,1], ind.coord[,2],\n",
    "     xlab=\"PC1\", ylab=\"PC2\", main=\"Biplot ACP\",\n",
    "     pch=19, col=rgb(0,0,1,0.5))  # individus en bleu transparent\n",
    "abline(h=0,v=0,col=\"grey80\")\n",
    "\n",
    "# 2. Cercle de corrélation\n",
    "symbols(0,0, circles=2, inches=FALSE, add=TRUE, lwd=2, fg=\"grey50\")\n",
    "\n",
    "# 3. Vecteurs des variables\n",
    "arrows(0,0,var.coord[,1]*2,var.coord[,2]*2,length=0.1,col=\"black\", lwd=1.5)\n",
    "text(var.coord[,1]*1.1, var.coord[,2]*1.1,\n",
    "     labels=rownames(var.coord), col=\"black\", cex=0.4)\n"
   ]
  },
  {
   "cell_type": "markdown",
   "id": "f79687fa",
   "metadata": {
    "vscode": {
     "languageId": "r"
    }
   },
   "source": [
    "$\\small\\textbf{Conclusion sur l'ACP}$\n",
    "\n",
    "Nous remarquons que sur notre jeu de données, il y a une forte corrélation entre l'humidité, la hauteur des nuages et la visibilité. Cela fait sens : plus les nuages sont haut, plus la visibilité est élevée (corrélation positive).\n",
    "La corrélation négative entre l'humidité et la hauteur des nuages et la visibilité est moins évidente. \n",
    "Enfin, la pression semble être corrélée négativement avec les précipitations, et ces deux variables sont orthogonales aux variables sur la nébulosité et l'humidité. "
   ]
  },
  {
   "cell_type": "markdown",
   "id": "b909dab1",
   "metadata": {
    "vscode": {
     "languageId": "r"
    }
   },
   "source": [
    "$\\small\\textbf{Mise en PLS}$"
   ]
  },
  {
   "cell_type": "markdown",
   "id": "a093ed92",
   "metadata": {
    "vscode": {
     "languageId": "r"
    }
   },
   "source": [
    "La PLS permet de sélectionner les variables qui expliquent le mieux la variance d'une autre variable. Ici, nous avons voulu trouver les variables qui expliquent le mieux la nébulosité totale sur un station météo. Pour ce faire, nous avons effectué la PLS sur la nébulosité totale avec la température, l'humidité, la hauteur des nuages et la pression à la station en variables explicatives. "
   ]
  },
  {
   "cell_type": "code",
   "execution_count": null,
   "id": "443634dd",
   "metadata": {
    "vscode": {
     "languageId": "r"
    }
   },
   "outputs": [],
   "source": [
    "install.packages(\"pls\")\n",
    "library(pls)\n"
   ]
  },
  {
   "cell_type": "code",
   "execution_count": null,
   "id": "8cda865e",
   "metadata": {
    "vscode": {
     "languageId": "r"
    }
   },
   "outputs": [],
   "source": [
    "# \"Température...C.\", \"Humidité\", \"Pression.station\",\n",
    "#   \"Visibilité.horizontale\", \"Précipitations.dans.les.24.dernières.heures\",\n",
    "#   \"Nebulosité.totale\", \"Hauteur.de.la.base.des.nuages.de.l.étage.inférieur\"\n",
    "# Exemple : prédire précipitations\n",
    "X <- sub[, c(\"Température...C.\", \"Pression.station\", \"Humidité\",\"Hauteur.de.la.base.des.nuages.de.l.étage.inférieur\" )]\n",
    "Y <- sub$`Nebulosité.totale`\n",
    "\n",
    "# Modèle PLS\n",
    "mod_pls <- plsr(Y ~ ., data=data.frame(X, Y), scale=TRUE, validation=\"CV\")\n",
    "\n",
    "# Résumé\n",
    "summary(mod_pls)\n",
    "loadings(mod_pls)\n",
    "# Graphiques utiles\n",
    "plot(RMSEP(mod_pls))   # erreur de prédiction en fonction du nb de composantes\n",
    "plot(mod_pls, plottype=\"scores\", comps=1:2)  # individus dans l'espace PLS\n"
   ]
  },
  {
   "cell_type": "markdown",
   "id": "4956d56f",
   "metadata": {},
   "source": [
    "# 6. Une méthode de clustering\n",
    "\n",
    "Nous souhaitons effectuer un clustering sur les stations météos. Pour cela, nous créons un data frame qui contient une ligne par station météo de France métropolitaine. Dans cette data frame, nous allons mettre les valeurs moyennes de température, humidité, pression, direction et vitesse moyenne du vent par mois entre janvier 2016 et décembre 2024, pour chaque station."
   ]
  },
  {
   "cell_type": "code",
   "execution_count": null,
   "id": "fae4cd69",
   "metadata": {
    "vscode": {
     "languageId": "r"
    }
   },
   "outputs": [],
   "source": [
    "data_stations <- data.frame(\n",
    "  id = df_meteo$ID.OMM.station,\n",
    "  lon = df_meteo$Longitude,\n",
    "  lat = df_meteo$Latitude,\n",
    "  Ville = df_meteo$Nom,\n",
    "  date = df_meteo$Date,\n",
    "  temp = df_meteo$Température,\n",
    "  hum = df_meteo$`Humidité`,\n",
    "  pression = df_meteo$Pression.station,\n",
    "  dir_vent = df_meteo$Direction.du.vent.moyen.10.mn,\n",
    "  vit_vent = df_meteo$Vitesse.du.vent.moyen.10.mn,\n",
    "  mois = df_meteo$mois_de_l_annee\n",
    ")\n",
    "\n",
    "data_stations_metropole <- data_stations[(data_stations$lat<=52)&(data_stations$lat>=42)&(data_stations$lon<=10)&(data_stations$lon>=-10),]\n",
    "\n",
    "coord_stations <- data_stations_metropole %>%\n",
    "  select(id, lon, lat, Ville) %>%\n",
    "  distinct(id, .keep_all = TRUE)\n",
    "\n",
    "#head(data_stations_metropole)\n",
    "mois_par_trimestre <- matrix(1:12, ncol=4, byrow = TRUE)\n",
    "df_bystations <- NULL\n",
    "\n",
    "#for (annee_encours in 2016:2024){\n",
    "annee_encours <- 2017\n",
    "\n",
    "  for(trimestre_encours in 1:3){\n",
    "# Filtrer et calculer la moyenne de température par station\n",
    "    moyennes_par_station <- data_stations_metropole %>%\n",
    "      filter(format(date,\"%Y\")==annee_encours, mois %in% as.vector(mois_par_trimestre[trimestre_encours, ])) %>%\n",
    "      group_by(id) %>%\n",
    "      summarise(temp_moyenne = mean(temp, na.rm = TRUE),\n",
    "                hum_moyenne = mean(hum, na.rm = TRUE),\n",
    "                pression_moyenne = mean(pression, na.rm = TRUE)) %>%\n",
    "      ungroup()\n",
    "      # Création du nom de la colonne\n",
    "    nom_colonne_temp <- paste0(\"temp_T\", trimestre_encours, \"_\", annee_encours)\n",
    "    nom_colonne_hum <- paste0(\"hum_T\", trimestre_encours, \"_\", annee_encours)\n",
    "    nom_colonne_pression <- paste0(\"pression_T\", trimestre_encours, \"_\", annee_encours)\n",
    "    # Renommer la colonne de température moyenne\n",
    "    colnames(moyennes_par_station)[colnames(moyennes_par_station) == \"temp_moyenne\"] <- nom_colonne_temp\n",
    "    colnames(moyennes_par_station)[colnames(moyennes_par_station) == \"hum_moyenne\"] <- nom_colonne_hum\n",
    "    colnames(moyennes_par_station)[colnames(moyennes_par_station) == \"pression_moyenne\"] <- nom_colonne_pression\n",
    "    # Fusion avec le dataframe final\n",
    "    if (is.null(df_bystations)) {\n",
    "      df_bystations <- moyennes_par_station\n",
    "    } else {\n",
    "      df_bystations <- full_join(df_bystations, moyennes_par_station, by = \"id\")\n",
    "    }\n",
    "\n",
    "}\n",
    "#}\n",
    "# Afficher\n",
    "print(head(df_bystations))\n",
    "\n",
    "kmeans_stations <- kmeans(df_bystations, centers=4)\n",
    "cat(\"Groupes des stations pour le premier K-means :\\n\")\n",
    "print(kmeans_stations$cluster)\n",
    "\n",
    "# AJOUT : Ajouter les clusters comme colonne\n",
    "df_bystations$groupe <- kmeans_stations$cluster\n",
    "# AJOUT : Joindre les coordonnées\n",
    "df_bystations_geo <- dplyr::left_join(df_bystations, coord_stations, by = \"id\")\n",
    "#   AJOUT : Palette de couleurs\n",
    "library(RColorBrewer)\n",
    "couleurs <- brewer.pal(4, \"Set1\")\n",
    "4:45\n",
    "# Affichage sur la carte\n",
    "ggplot() +\n",
    "  geom_polygon(data = france, aes(x = long, y = lat, group = group),\n",
    "               fill = \"lightgray\", color = \"white\") +\n",
    "  geom_point(data = df_bystations_geo, aes(x = lon, y = lat, color = factor(groupe)), size = 3) +\n",
    "  scale_color_manual(values = couleurs) +\n",
    "  theme_minimal() +\n",
    "  coord_fixed(ratio = 1.2) +\n",
    "  ggtitle(\"Carte des stations météo de France métropolitaine selon le clustering\")"
   ]
  }
 ],
 "metadata": {
  "kernelspec": {
   "display_name": "R",
   "language": "R",
   "name": "ir"
  },
  "language_info": {
   "codemirror_mode": "r",
   "file_extension": ".r",
   "mimetype": "text/x-r-source",
   "name": "R",
   "pygments_lexer": "r",
   "version": "4.5.1"
  }
 },
 "nbformat": 4,
 "nbformat_minor": 5
}
