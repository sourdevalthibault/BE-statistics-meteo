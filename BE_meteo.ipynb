{
 "cells": [
  {
   "cell_type": "markdown",
   "id": "8c96d803",
   "metadata": {
    "vscode": {
     "languageId": "r"
    }
   },
   "source": [
    "\n",
    "# BE Meteo \n",
    "## HERVIOUX, SOURDEVAL, MANCIET, DUC-MARTIN, LEFAUCONNIER"
   ]
  },
  {
   "cell_type": "markdown",
   "id": "e3d43fc9",
   "metadata": {},
   "source": [
    "# 1 - Rappels de statistiques descripte et de représentation graphique.\n",
    "   \n"
   ]
  },
  {
   "cell_type": "markdown",
   "id": "60061740",
   "metadata": {},
   "source": [
    "# 2 - Principaux résultats probabilites utile pour l'estimation.\n"
   ]
  },
  {
   "cell_type": "markdown",
   "id": "4359c0b8",
   "metadata": {},
   "source": [
    "# 3 -     Tests statistiques : méthodes et tests classiques.\n"
   ]
  },
  {
   "cell_type": "markdown",
   "id": "b3ad7c65",
   "metadata": {},
   "source": [
    "# 4 - Modélisation aléatoire.\n"
   ]
  },
  {
   "cell_type": "markdown",
   "id": "ab6ef6aa",
   "metadata": {},
   "source": [
    "# 5 -     Regression linéaire et validation de modèle.\n"
   ]
  },
  {
   "cell_type": "markdown",
   "id": "4956d56f",
   "metadata": {},
   "source": [
    "# 6 -     Analyse en composantes principales et application à la réduction de dimension.\n"
   ]
  },
  {
   "cell_type": "markdown",
   "id": "4463f689",
   "metadata": {},
   "source": [
    "# 7 -     Introduction au clustering."
   ]
  },
  {
   "cell_type": "code",
   "execution_count": null,
   "id": "b2bddc28",
   "metadata": {
    "vscode": {
     "languageId": "r"
    }
   },
   "outputs": [],
   "source": [
    "#première ligne de code\n",
    "print(\"je suis content de faire le BE\")"
   ]
  }
 ],
 "metadata": {
  "kernelspec": {
   "display_name": "R",
   "language": "R",
   "name": "ir"
  },
  "language_info": {
   "name": "R"
  }
 },
 "nbformat": 4,
 "nbformat_minor": 5
}
