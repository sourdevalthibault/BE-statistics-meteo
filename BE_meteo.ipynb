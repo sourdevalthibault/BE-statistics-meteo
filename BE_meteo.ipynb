{
 "cells": [
  {
   "cell_type": "markdown",
   "id": "8c96d803",
   "metadata": {
    "vscode": {
     "languageId": "r"
    }
   },
   "source": [
    "\n",
    "# BE Meteo \n",
    "## HERVIOUX, SOURDEVAL, MANCIET, DUC-MARTIN, LEFAUCONNIER"
   ]
  },
  {
   "cell_type": "code",
   "execution_count": null,
   "id": "6cc8c114",
   "metadata": {
    "vscode": {
     "languageId": "r"
    }
   },
   "outputs": [],
   "source": [
    "# On load les données grâce à un fichier txt qui contient le chemin vers le fichier csv contenant les données\n",
    "path_data <- paste(readLines(\"path.txt\"), collapse = \"\\n\")"
   ]
  },
  {
   "cell_type": "code",
   "execution_count": null,
   "id": "2de76bc5",
   "metadata": {
    "vscode": {
     "languageId": "r"
    }
   },
   "outputs": [],
   "source": [
    "#install.packages(\"data.table\")\n",
    "library(data.table)\n",
    "dataset_meteo <- fread(path_data)\n",
    "head(dataset_meteo)"
   ]
  },
  {
   "cell_type": "markdown",
   "id": "e3d43fc9",
   "metadata": {},
   "source": [
    "# 1 - Description des données"
   ]
  },
  {
   "cell_type": "markdown",
   "id": "2a8908a1",
   "metadata": {},
   "source": [
    "### 1.1 - Organisation des données par ordre chronologique"
   ]
  },
  {
   "cell_type": "code",
   "execution_count": null,
   "id": "4aab6e4a",
   "metadata": {
    "vscode": {
     "languageId": "r"
    }
   },
   "outputs": [],
   "source": [
    "df_meteo <- data.frame(dataset_meteo)\n",
    "df_meteo <- df_meteo[order(df_meteo$Date), ] # Trier les valeurs par ordre chronologique\n",
    "head(df_meteo)"
   ]
  },
  {
   "cell_type": "markdown",
   "id": "fea97a5f",
   "metadata": {},
   "source": [
    "### 1.2 - Description des paramètres"
   ]
  },
  {
   "cell_type": "code",
   "execution_count": null,
   "id": "79c3a70b",
   "metadata": {
    "vscode": {
     "languageId": "r"
    }
   },
   "outputs": [],
   "source": [
    "cat(\"Nombre de lignes de données :\", nrow(df_meteo), \"\\n\")\n",
    "cat(\"Nombre de paramètres :\", ncol(df_meteo), \"\\n\")\n",
    "cat(\"\\tdont 14 paramètres décrivant l'emplacement de la station météo\\n\")\n",
    "cat(\"\\tdont 19 paramètres relatifs aux nuages/à la nébulosité (+ 4 hauteurs de bases)\\n\")\n",
    "cat(\"\\tdont 14 paramètres relatifs à la température\\n\")\n",
    "cat(\"\\tdont 7 paramètres relatifs à la pression/barométrie\\n\")\n",
    "cat(\"\\tdont 5 paramètres relatifs au vent/rafales\\n\")\n",
    "cat(\"\\tdont 5 paramètres relatifs à la pluie (précipitations)\\n\")\n",
    "cat(\"\\tdont 3 paramètres relatifs à la neige\\n\")\n",
    "cat(\"\\tdont 2 paramètres relatifs à l'humidité/rosée\\n\")\n",
    "cat(\"\\t + Date, mois_de_l_annee, Visibilité.horizontale, Temps.présent, Temps.passé.1, Temps.passé.2, Géopotentiel, Etat.du.sol, Phénomène.spécial.1, Phénomène.spécial.2, Phénomène.spécial.3, Phénomène.spécial.4, Temps.passé.1.1, Temps.présent.1\")"
   ]
  },
  {
   "cell_type": "markdown",
   "id": "a0a1bd70",
   "metadata": {},
   "source": [
    "### 1.3 - Description des stations météo"
   ]
  },
  {
   "cell_type": "code",
   "execution_count": null,
   "id": "943a2586",
   "metadata": {
    "vscode": {
     "languageId": "r"
    }
   },
   "outputs": [],
   "source": [
    "# Caractéristiques des stations météo\n",
    "df_stations <- df_meteo[c('ID.OMM.station', 'Coordonnees', 'Nom', 'Latitude', 'Longitude', 'Altitude', 'communes..name.', 'communes..code.', 'EPCI..name.', 'EPCI..code.', 'department..name.', 'department..code.', 'region..name.', 'region..code.')]\n",
    "df_unique_stations <- df_stations[!duplicated(df_stations[c('ID.OMM.station')]), ]\n",
    "cat(\"Nombre de stations météo :\", nrow(df_unique_stations))\n",
    "head(df_unique_stations[order(df_unique_stations$Nom), ])"
   ]
  },
  {
   "cell_type": "markdown",
   "id": "d61bfce7",
   "metadata": {},
   "source": [
    "### 1.4 - Carte des stations météo"
   ]
  },
  {
   "cell_type": "code",
   "execution_count": null,
   "id": "68863df1",
   "metadata": {
    "vscode": {
     "languageId": "r"
    }
   },
   "outputs": [],
   "source": [
    "#install.packages(c(\"ggplot2\", \"maps\", \"ggmap\"))\n",
    "library(ggplot2)\n",
    "library(maps)\n",
    "library(ggmap)\n",
    "\n",
    "options(repr.plot.width = 20, repr.plot.height = 10)\n",
    "\n",
    "data_points <- data.frame(\n",
    "  lon = df_unique_stations$Longitude,\n",
    "  lat = df_unique_stations$Latitude,\n",
    "  Ville = df_unique_stations$Nom\n",
    ")\n",
    "\n",
    "world <- map_data(\"world\")\n",
    "\n",
    "ggplot() +\n",
    "  geom_polygon(data = world, aes(x = long, y = lat, group = group),\n",
    "               fill = \"lightgray\", color = \"white\") +\n",
    "  geom_point(data = data_points, aes(x = lon, y = lat, color = Ville), size = 1) +\n",
    "  theme_minimal() +\n",
    "  theme(legend.position = \"none\") +\n",
    "  ggtitle(\"Carte des stations météo\")\n",
    "\n",
    "\n",
    "# Zoom sur l'hexagone  \n",
    "data_points_metropole <- data_points[(data_points$lat<=52)&(data_points$lat>=42)&(data_points$lon<=10)&(data_points$lon>=-10),]\n",
    "france <- map_data(\"france\")\n",
    "\n",
    "ggplot() +\n",
    "  geom_polygon(data = france, aes(x = long, y = lat, group = group),\n",
    "               fill = \"lightgray\", color = \"white\") +\n",
    "  geom_point(data = data_points_metropole, aes(x = lon, y = lat, color = Ville), size = 3) +\n",
    "  theme_minimal() +\n",
    "  # theme(legend.position = \"none\") +\n",
    "  coord_fixed(ratio = 1.2)+\n",
    "  ggtitle(\"Carte des stations météo de France métropolitaine\")"
   ]
  },
  {
   "cell_type": "markdown",
   "id": "587c2b95",
   "metadata": {},
   "source": [
    "### 1.5 - Relevé de températures par station"
   ]
  },
  {
   "cell_type": "code",
   "execution_count": null,
   "id": "1d5ead54",
   "metadata": {
    "vscode": {
     "languageId": "r"
    }
   },
   "outputs": [],
   "source": [
    "par(bg='white')\n",
    "for (ville in unique(df_meteo$Nom)[1:3]){\n",
    "  plot(\n",
    "    df_meteo$Date[df_meteo$Nom==ville],\n",
    "    df_meteo$`Température`[df_meteo$Nom==ville],\n",
    "    xlab = \"Date\",\n",
    "    ylab = \"Température\",\n",
    "    main = ville,\n",
    "    type = \"l\",\n",
    ")}"
   ]
  },
  {
   "cell_type": "markdown",
   "id": "a19f963e",
   "metadata": {},
   "source": [
    "### 1.6 - Valeurs moyennes des grandeurs mesurées par station"
   ]
  },
  {
   "cell_type": "code",
   "execution_count": null,
   "id": "5b591b3e",
   "metadata": {
    "vscode": {
     "languageId": "r"
    }
   },
   "outputs": [],
   "source": [
    "# install.packages(\"dplyr\")\n",
    "library(dplyr)\n",
    "\n",
    "df_grouped <- df_meteo %>%\n",
    "  group_by(ID.OMM.station) %>%\n",
    "  summarise(n_mesures = n(),\n",
    "            T_mean = mean(`Température`,na.rm = TRUE),\n",
    "            T_min = min(`Température`,na.rm = TRUE),\n",
    "            T_max = max(`Température`,na.rm = TRUE),\n",
    "            P_mean = mean(Pression.au.niveau.mer,na.rm = TRUE),\n",
    "            nebulosite_mean = mean(Nebulosité.totale, na.rm = TRUE)\n",
    "            )\n",
    "\n",
    "head(df_grouped)"
   ]
  },
  {
   "cell_type": "markdown",
   "id": "4ee26273",
   "metadata": {},
   "source": [
    "### 1.7 - Carte des températures extrêmes mesurées par station"
   ]
  },
  {
   "cell_type": "code",
   "execution_count": null,
   "id": "bf6e0cf8",
   "metadata": {
    "vscode": {
     "languageId": "r"
    }
   },
   "outputs": [],
   "source": [
    "df_station_stats <- merge(x = df_unique_stations, y = df_grouped, by = \"ID.OMM.station\", all = TRUE)"
   ]
  },
  {
   "cell_type": "code",
   "execution_count": null,
   "id": "bc8427fc",
   "metadata": {
    "vscode": {
     "languageId": "r"
    }
   },
   "outputs": [],
   "source": [
    "options(repr.plot.width = 20, repr.plot.height = 10)\n",
    "\n",
    "world <- map_data(\"world\")\n",
    "\n",
    "ggplot() +\n",
    "  geom_polygon(data = world, aes(x = long, y = lat, group = group),\n",
    "               fill = \"lightgray\", color = \"white\") +\n",
    "  geom_point(data = df_station_stats, aes(x = Longitude, y = Latitude, color = T_min), size = 1) +\n",
    "  theme_minimal() +\n",
    "  # theme(legend.position = \"none\")+\n",
    "  ggtitle(\"Température minimale par station (K)\")\n",
    "\n",
    "ggplot() +\n",
    "  geom_polygon(data = world, aes(x = long, y = lat, group = group),\n",
    "               fill = \"lightgray\", color = \"white\") +\n",
    "  geom_point(data = df_station_stats, aes(x = Longitude, y = Latitude, color = T_max), size = 1) +\n",
    "  theme_minimal() +\n",
    "  # theme(legend.position = \"none\")+\n",
    "  ggtitle(\"Température maximale par station (K)\")"
   ]
  },
  {
   "cell_type": "code",
   "execution_count": null,
   "id": "3c7ba393",
   "metadata": {
    "vscode": {
     "languageId": "r"
    }
   },
   "outputs": [],
   "source": [
    "summary(dataset_meteo)"
   ]
  },
  {
   "cell_type": "markdown",
   "id": "60061740",
   "metadata": {},
   "source": [
    "# 2. Un calcul et étude d'estimateur"
   ]
  },
  {
   "cell_type": "markdown",
   "id": "5da6fece",
   "metadata": {},
   "source": [
    "Nous allons étudier 3 estimateurs sur le jeu de donnée météo :"
   ]
  },
  {
   "cell_type": "markdown",
   "id": "8e658de2",
   "metadata": {},
   "source": [
    "### 2.1 - $\\small\\textbf{Estimateur 1 : }$\n",
    "\n",
    "Etude d'un estimateur de la température moyenne sur l'hiver 2019 en France métropolitaine."
   ]
  },
  {
   "cell_type": "code",
   "execution_count": null,
   "id": "fd1f44c5",
   "metadata": {
    "vscode": {
     "languageId": "r"
    }
   },
   "outputs": [],
   "source": [
    "#On extrait les données utiles du dataset\n",
    "data_points <- data.frame(\n",
    "  date = df_meteo$Date,\n",
    "  temp = df_meteo$`Température...C.`,\n",
    "  station = df_meteo$Nom,\n",
    "  mois = df_meteo$mois_de_l_annee,\n",
    "  lat = df_meteo$Latitude,\n",
    "  long = df_meteo$Longitude\n",
    ")\n",
    "\n",
    "france <- map_data(\"france\")\n",
    "\n",
    "#on filtre le dataset pour avoir les données voulues et calculer la moyenne de température\n",
    "data_points_metropole <- data_points %>%\n",
    "  filter(lat <= 52, lat >= 42,\n",
    "         long <= 10, long >= -10,\n",
    "         date < \"2020-01-01\", date > \"2019-01-01\",\n",
    "         mois > 1, mois < 4) %>%\n",
    "  group_by(station, lat, long) %>%\n",
    "  summarise(temp_moy = mean(temp, na.rm = TRUE), .groups = \"drop\")\n",
    "\n",
    "#plot de la carte obtenue\n",
    "ggplot() +\n",
    "  geom_polygon(data = france, aes(x = long, y = lat, group = group),\n",
    "               fill = \"lightgray\", color = \"white\") +\n",
    "  geom_point(data = data_points_metropole, aes(x = long, y = lat, color = temp_moy), size = 3) +\n",
    "  theme_minimal() +\n",
    "  scale_color_gradient(low = \"blue\", high = \"red\",\n",
    "                     name = \"Température moyenne (°C)\") +\n",
    "  coord_fixed(ratio = 1.2)+\n",
    "  ggtitle(\"Moyenne des température sur l'hiver 2019\")\n"
   ]
  },
  {
   "cell_type": "markdown",
   "id": "e748c93a",
   "metadata": {},
   "source": [
    "Grâce à cette carte, nous pouvons voir la répartition spatiale de la température moyenne de l'hiver 2019. Nous observons que les zones géographiques au Sud sont plus chaudes que celles au Nord Est. Nous pouvons donc observer un gradient de température du Sud vers le Nord ce qui correspond empiriquement à l'idée que nous avons de la météo."
   ]
  },
  {
   "cell_type": "code",
   "execution_count": null,
   "id": "9f664b69",
   "metadata": {
    "vscode": {
     "languageId": "r"
    }
   },
   "outputs": [],
   "source": [
    "library(dplyr)\n",
    "library(lubridate)\n",
    "library(ggplot2)\n",
    "\n",
    "#On extrait les données utiles du dataset\n",
    "data_points <- data.frame(\n",
    "  date = df_meteo$Date,\n",
    "  temp = df_meteo$`Température...C.`,\n",
    "  station = df_meteo$Nom,\n",
    "  mois = df_meteo$mois_de_l_annee,\n",
    "  lat = df_meteo$Latitude,\n",
    "  long = df_meteo$Longitude\n",
    ")\n",
    "\n",
    "# Paramètre : niveau de confiance\n",
    "alpha <- 0.05  # pour IC à 95%\n",
    "\n",
    "# Calculer par année : moyenne, sd, n et IC\n",
    "ic_par_annee <- data_points %>%\n",
    "  filter(lat <= 52, lat >= 42,\n",
    "         long <= 10, long >= -10,\n",
    "         date < \"2020-01-01\", date > \"2019-01-01\",\n",
    "         mois > 1, mois < 4) %>%\n",
    "  group_by(station, lat, long) %>%\n",
    "  summarise(\n",
    "    n = sum(!is.na(temp)),\n",
    "    temp_moy = mean(temp, na.rm = TRUE),\n",
    "    sd_temp = sd(temp, na.rm = TRUE),\n",
    "    .groups = \"drop\"\n",
    "  ) %>%\n",
    "  filter(n > 1) %>%\n",
    "  mutate(\n",
    "    se = sd_temp / sqrt(n),    # erreur standard\n",
    "    ic_bas = temp_moy - sqrt(se / (alpha * n)),\n",
    "    ic_haut = temp_moy + sqrt(se / (alpha * n))\n",
    "  )\n",
    "\n",
    "\n",
    "# Graphe avec barres d'erreur\n",
    "ggplot(ic_par_annee, aes(x = station, y = temp_moy)) +\n",
    "  geom_line() +\n",
    "  geom_point(size = 2) +\n",
    "  geom_errorbar(aes(ymin = ic_bas, ymax = ic_haut), width = 0.2) +\n",
    "  labs(\n",
    "    title = paste0(\"Température moyenne annuelle et Intervalle de Confiance à \", 100*(1-alpha), \"%\"),\n",
    "    x = \"Station\",\n",
    "    y = \"Température moyenne (°C)\"\n",
    "  ) +\n",
    "  theme(axis.text.x = element_text(angle = 90, vjust = 0.5, hjust = 1)) \n"
   ]
  },
  {
   "cell_type": "markdown",
   "id": "f3da32e7",
   "metadata": {},
   "source": [
    "L'estimateur de la moyenne est un estimateur sans biais par construction. Nous avons donc calculé l'intervalle de confiance à 95% de cet estimateur pour chacune des stations qui dépend de l'estimateur de la variance. Nous observons un intervalle de confiance qui est plutôt précis par rapport à la valeur absolue de la moyenne. Ceci est dû au fait que nous avons beaucoup de données et donc l'intervalle de confiance est réduit.\n",
    "\n",
    "D'après la formule : \n",
    "$\n",
    "IC = \\left[ \\; \\bar{X}_n - \\sqrt{\\frac{\\hat{\\sigma}_n^2}{\\alpha n}} \\; , \\; \n",
    "              \\bar{X}_n + \\sqrt{\\frac{\\hat{\\sigma}_n^2}{\\alpha n}} \\; \\right]\n",
    "$"
   ]
  },
  {
   "cell_type": "markdown",
   "id": "e7ccd867",
   "metadata": {},
   "source": [
    "### 2.2 - $\\small\\textbf{Estimateur 2 : }$\n",
    "\n",
    "Nous allons faire de même avec une estimation des précipitations moyennes en France métropolitaine sur l'hiver 2019."
   ]
  },
  {
   "cell_type": "code",
   "execution_count": null,
   "id": "574c2f58",
   "metadata": {
    "vscode": {
     "languageId": "r"
    }
   },
   "outputs": [],
   "source": [
    "#On extrait les données utiles du dataset\n",
    "data_points <- data.frame(\n",
    "  date = df_meteo$Date,\n",
    "  pluie = df_meteo$`Précipitations.dans.la.dernière.heure`,\n",
    "  station = df_meteo$Nom,\n",
    "  mois = df_meteo$mois_de_l_annee,\n",
    "  lat = df_meteo$Latitude,\n",
    "  long = df_meteo$Longitude\n",
    ")\n",
    "\n",
    "france <- map_data(\"france\")\n",
    "\n",
    "#on filtre le dataset pour avoir les données voulues et calculer la moyenne de température\n",
    "data_points_metropole <- data_points %>%\n",
    "  filter(lat <= 52, lat >= 42,\n",
    "         long <= 10, long >= -10,\n",
    "         date < \"2020-01-01\", date > \"2019-01-01\",\n",
    "         mois > 1, mois < 4) %>%\n",
    "  group_by(station, lat, long) %>%\n",
    "  summarise(pluie_moy = mean(pluie, na.rm = TRUE), .groups = \"drop\")\n",
    "\n",
    "#plot de la carte obtenue\n",
    "ggplot() +\n",
    "  geom_polygon(data = france, aes(x = long, y = lat, group = group),\n",
    "               fill = \"lightgray\", color = \"white\") +\n",
    "  geom_point(data = data_points_metropole, aes(x = long, y = lat, color = pluie_moy), size = 3) +\n",
    "  theme_minimal() +\n",
    "  scale_color_gradient(low = \"blue\", high = \"red\",\n",
    "                     name = \"Précipitation (mm)\") +\n",
    "  coord_fixed(ratio = 1.2)+\n",
    "  ggtitle(\"Moyenne des précipitations sur l'hiver 2019\")\n"
   ]
  },
  {
   "cell_type": "markdown",
   "id": "7b1e725c",
   "metadata": {},
   "source": [
    "Grâce à cette carte et à l'estimation des précipitations, nous pouvons observer les régions où il a le plus plu durant l'hiver 2019. Nous observons que la Bretagne est une région où il a particulièrement plu durant cet hiver ce qui confirme aussi la croyance populaire..."
   ]
  },
  {
   "cell_type": "code",
   "execution_count": null,
   "id": "4f8193aa",
   "metadata": {
    "vscode": {
     "languageId": "r"
    }
   },
   "outputs": [],
   "source": [
    "library(dplyr)\n",
    "library(lubridate)\n",
    "library(ggplot2)\n",
    "\n",
    "#On extrait les données utiles du dataset\n",
    "data_points <- data.frame(\n",
    "  date = df_meteo$Date,\n",
    "  pluie = df_meteo$`Précipitations.dans.la.dernière.heure`,\n",
    "  station = df_meteo$Nom,\n",
    "  mois = df_meteo$mois_de_l_annee,\n",
    "  lat = df_meteo$Latitude,\n",
    "  long = df_meteo$Longitude\n",
    ")\n",
    "\n",
    "# Paramètre : niveau de confiance\n",
    "alpha <- 0.05  # pour IC à 95%\n",
    "\n",
    "# Calculer par année : moyenne, sd, n et IC\n",
    "ic_par_annee <- data_points %>%\n",
    "  filter(lat <= 52, lat >= 42,\n",
    "         long <= 10, long >= -10,\n",
    "         date < \"2020-01-01\", date > \"2019-01-01\",\n",
    "         mois > 1, mois < 4) %>%\n",
    "  group_by(station, lat, long) %>%\n",
    "  summarise(\n",
    "    n = sum(!is.na(pluie)),\n",
    "    pluie_moy = mean(pluie, na.rm = TRUE),\n",
    "    sd_pluie = sd(pluie, na.rm = TRUE),\n",
    "    .groups = \"drop\"\n",
    "  ) %>%\n",
    "  filter(n > 1) %>%\n",
    "  mutate(\n",
    "    se = sd_pluie / sqrt(n),    # erreur standard\n",
    "    ic_bas = pluie_moy - sqrt(se / (alpha * n)),\n",
    "    ic_haut = pluie_moy + sqrt(se / (alpha * n))\n",
    "  )\n",
    "\n",
    "\n",
    "# Graphe avec barres d'erreur\n",
    "ggplot(ic_par_annee, aes(x = station, y = pluie_moy)) +\n",
    "  geom_line() +\n",
    "  geom_point(size = 2) +\n",
    "  geom_errorbar(aes(ymin = ic_bas, ymax = ic_haut), width = 0.2) +\n",
    "  labs(\n",
    "    title = paste0(\"Précipations moyennes annuelles et Intervalle de Confiance à \", 100*(1-alpha), \"%\"),\n",
    "    x = \"Station\",\n",
    "    y = \"Précipitation moyenne (°C)\"\n",
    "  ) +\n",
    "  theme(axis.text.x = element_text(angle = 90, vjust = 0.5, hjust = 1)) \n"
   ]
  },
  {
   "cell_type": "markdown",
   "id": "9aacb57c",
   "metadata": {},
   "source": [
    "Nous avons aussi tracé l'intervalle de confiance pour l'estimateur de la précipitation moyenne. Nous observons une plus grande disparité dans les données de par leur variance plus grande et leur plus faible nombre par rapport à la température vu plus tôt. Nous pouvons donc en déduire que l'estimateur de la précipitation moyenne est plus suceptible d'être moins précis que celui de la température."
   ]
  },
  {
   "cell_type": "markdown",
   "id": "8f3165ee",
   "metadata": {},
   "source": [
    "### 2.3 - $\\small\\textbf{Estimateur 3 : }$\n",
    "\n",
    "Nous allons finir par estimer la température moyenne en France métropolitaine sur une année."
   ]
  },
  {
   "cell_type": "code",
   "execution_count": null,
   "id": "ffde1dcd",
   "metadata": {
    "vscode": {
     "languageId": "r"
    }
   },
   "outputs": [],
   "source": [
    "#On extrait les données utiles du dataset\n",
    "data_points <- data.frame(\n",
    "  date = df_meteo$Date,\n",
    "  temp = df_meteo$`Température...C.`,\n",
    "  lat = df_meteo$Latitude,\n",
    "  long = df_meteo$Longitude\n",
    ")\n",
    "\n",
    "#on filtre le dataset pour avoir les données voulues et calculer la moyenne de température\n",
    "data_points <- data_points%>%\n",
    "  mutate(annee = year(date))\n",
    "data_points <- data_points %>%\n",
    "  group_by(annee) %>%\n",
    "  summarise(temp_moy = mean(temp, na.rm = TRUE), .groups = \"drop\")\n",
    "\n",
    "#plot du graphe obtenu\n",
    "ggplot(data_points, aes(x = annee, y = temp_moy)) +\n",
    "  geom_line(color = \"blue\", size = 1) +\n",
    "  geom_point(color = \"red\", size = 2) +\n",
    "  labs(\n",
    "    title = \"Évolution de la température moyenne annuelle\",\n",
    "    x = \"Année\",\n",
    "    y = \"Température moyenne (°C)\"\n",
    "  ) +\n",
    "  theme_minimal()"
   ]
  },
  {
   "cell_type": "markdown",
   "id": "39aa2f36",
   "metadata": {},
   "source": [
    "Grâce à ce graphe nous étudions l'évolution de la température moyenne annuelle de 2015 à 2025. Nous observons une tendance croissante de cette température moyenne annuelle. Nous confirmons donc un des effets du réchauffement climatique :  l'augmentation de la température en France métropolitaine depuis 10 ans. "
   ]
  },
  {
   "cell_type": "code",
   "execution_count": null,
   "id": "bdeeddc5",
   "metadata": {
    "vscode": {
     "languageId": "r"
    }
   },
   "outputs": [],
   "source": [
    "library(dplyr)\n",
    "library(lubridate)\n",
    "library(ggplot2)\n",
    "\n",
    "# Paramètre : niveau de confiance\n",
    "alpha <- 0.05  # pour IC à 95%\n",
    "\n",
    "#On extrait les données utiles du dataset\n",
    "data_points <- data.frame(\n",
    "  date = df_meteo$Date,\n",
    "  temp = df_meteo$`Température...C.`,\n",
    "  lat = df_meteo$Latitude,\n",
    "  long = df_meteo$Longitude\n",
    ")\n",
    "\n",
    "# Calculer par année : moyenne, sd, n et IC t\n",
    "ic_par_annee <- data_points %>%\n",
    "  mutate(annee = year(date)) %>%\n",
    "  group_by(annee) %>%\n",
    "  summarise(\n",
    "    n = sum(!is.na(temp)),\n",
    "    temp_moy = mean(temp, na.rm = TRUE),\n",
    "    sd_temp = sd(temp, na.rm = TRUE),\n",
    "    .groups = \"drop\"\n",
    "  ) %>%\n",
    "  mutate(\n",
    "    se = sd_temp / sqrt(n),\n",
    "    ic_bas = temp_moy - sqrt(se / (alpha * n)),\n",
    "    ic_haut = temp_moy + sqrt(se / (alpha * n))\n",
    "  )\n",
    "\n",
    "# Graphe avec barres d'erreur\n",
    "ggplot(ic_par_annee, aes(x = annee, y = temp_moy)) +\n",
    "  geom_line() +\n",
    "  geom_point(size = 2) +\n",
    "  geom_errorbar(aes(ymin = ic_bas, ymax = ic_haut), width = 0.2) +\n",
    "  labs(\n",
    "    title = paste0(\"Température moyenne annuelle et IC (\", 100*(1-alpha), \"%)\"),\n",
    "    x = \"Année\",\n",
    "    y = \"Température moyenne (°C)\"\n",
    "  ) +\n",
    "  theme_minimal()"
   ]
  },
  {
   "cell_type": "markdown",
   "id": "3262b400",
   "metadata": {},
   "source": [
    "Nous avons retracé le même graphe qu'au dessus en ajoutant les intervalles de confiance. Dû au grand nombre de données sur l'année, nous avons un intervalle de confiance très petit. Nous sommes donc ici sur un estimateur très précis."
   ]
  },
  {
   "cell_type": "markdown",
   "id": "4359c0b8",
   "metadata": {},
   "source": [
    "# 3. Des tests statistiques (au moins un sur un paramètre et une ANOVA)\n",
    "\n",
    "Colin"
   ]
  },
  {
   "cell_type": "code",
   "execution_count": null,
   "id": "85961574",
   "metadata": {
    "vscode": {
     "languageId": "r"
    }
   },
   "outputs": [],
   "source": [
    "# on reprend : dataset_meteo\n",
    "colnames(dataset_meteo)"
   ]
  },
  {
   "cell_type": "code",
   "execution_count": null,
   "id": "7f53e4c7",
   "metadata": {
    "vscode": {
     "languageId": "r"
    }
   },
   "outputs": [],
   "source": [
    "\n",
    "#On extrait les donnée (colonnes) utiles du dataset\n",
    "data_points <- data.frame(\n",
    "  date = dataset_meteo$Date,\n",
    "  station = dataset_meteo$Nom,\n",
    "  lat = dataset_meteo$Latitude,\n",
    "  long = dataset_meteo$Longitude,\n",
    "  temp = dataset_meteo$'Température (°C)',\n",
    "  humidity = dataset_meteo$Humidité,\n",
    "  precipitations24 = dataset_meteo$'Précipitations dans les 24 dernières heures'\n",
    ")\n",
    "\n",
    "class(data_points)\n",
    "head(data_points)\n",
    "nrow(data_points)\n"
   ]
  },
  {
   "cell_type": "code",
   "execution_count": null,
   "id": "f843d007",
   "metadata": {
    "vscode": {
     "languageId": "r"
    }
   },
   "outputs": [],
   "source": [
    "df_2020 <- data_points[format(data_points$date, \"%Y\") == \"2020\", ]\n",
    "nrow(df_2020)"
   ]
  },
  {
   "cell_type": "code",
   "execution_count": null,
   "id": "9f016d25",
   "metadata": {
    "vscode": {
     "languageId": "r"
    }
   },
   "outputs": [],
   "source": [
    "par(bg = \"white\")\n",
    "hist(df_2020$temp,\n",
    "     main = \"Histogramme de la température\",\n",
    "     xlab = \"temp\",\n",
    "     col = \"lightblue\",\n",
    "     border = \"black\")\n",
    "abline(v = mean(df_2020$temp, na.rm = TRUE), col = \"red\", lwd = 2, lty = 2)\n",
    "print(\"moyenne = \")\n",
    "print(mean(df_2020$temp, na.rm = TRUE))"
   ]
  },
  {
   "cell_type": "markdown",
   "id": "0fd9e5b3",
   "metadata": {},
   "source": [
    "### ANOVA\n",
    "On s'intéresse aux valeurs de températures, de précipitations et humidité pour différentes régions."
   ]
  },
  {
   "cell_type": "markdown",
   "id": "5d946726",
   "metadata": {},
   "source": [
    "# 4. Une régression et étude de corrélation"
   ]
  },
  {
   "cell_type": "markdown",
   "id": "95600d47",
   "metadata": {},
   "source": [
    "### Régression\n",
    "On s'intéresse aux valeurs de pression mesurées au niveau de la mer et au niveau de la station.\n",
    "\n",
    "On s'attend en effectuant des régressions linéaires à retrouver un modèle similaire au modèle physique de pression (statique des fluides).\n",
    "\n",
    "$P(h) = P_{h=0} + \\rho * g * h$\n",
    "\n",
    "- $\\rho$ masse volumique air en $kg/m^3$\n",
    "- $g$ accélération de la pesanteur $9.81m/s²$\n",
    "- $h$ hauteur en $m$"
   ]
  },
  {
   "cell_type": "code",
   "execution_count": null,
   "id": "3ab80f75",
   "metadata": {
    "vscode": {
     "languageId": "r"
    }
   },
   "outputs": [],
   "source": [
    "n_graph_max <- 5\n",
    "\n",
    "df_regression_results = data.frame(matrix(ncol = 4, nrow = 0))\n",
    "col_names <- c(\"Nom\",\"(Intercept)\",\"Pression.au.niveau.mer\", \"R2\")\n",
    "names(df_regression_results) <- col_names\n",
    "\n",
    "i <- 0\n",
    "for (station in sort(df_station_stats$Nom)){\n",
    "    if (station!='EMBRUN' & station!=\"LE PUY-LOUDES\"){\n",
    "        df_meteo_station <- df_meteo[df_meteo$Nom==station, c('ID.OMM.station', 'Date', 'Pression.au.niveau.mer', 'Variation.de.pression.en.24.heures', 'Variation.de.pression.en.3.heures', 'Précipitations.dans.la.dernière.heure', 'Précipitations.dans.les.3.dernières.heures', 'Précipitations.dans.les.24.dernières.heures', 'Type.de.tendance.barométrique', 'Point.de.rosée', 'Humidité', 'Pression.station', 'Niveau.barométrique','Altitude')]\n",
    "        model_pression <- lm(Pression.station ~ Pression.au.niveau.mer, data=df_meteo_station)\n",
    "        # cat(\"R² : \",summary(model_pression)$r.squared)\n",
    "        if (i<n_graph_max){\n",
    "            par(bg='white')\n",
    "            plot(x=df_meteo_station$Pression.au.niveau.mer, y=df_meteo_station$Pression.station, main=station)\n",
    "            abline(model_pression)\n",
    "            \n",
    "        }\n",
    "        i <- i+1\n",
    "\n",
    "        df_station_results<-data.frame(station,model_pression$coefficients['(Intercept)'], model_pression$coefficients['Pression.au.niveau.mer'], summary(model_pression)$r.squared,row.names = station)\n",
    "        names(df_station_results)<- col_names\n",
    "\n",
    "        df_regression_results <- rbind(df_regression_results, df_station_results)}\n",
    "    }"
   ]
  },
  {
   "cell_type": "code",
   "execution_count": null,
   "id": "f64d9dae",
   "metadata": {
    "vscode": {
     "languageId": "r"
    }
   },
   "outputs": [],
   "source": [
    "df_regression_results"
   ]
  },
  {
   "cell_type": "code",
   "execution_count": null,
   "id": "babd998b",
   "metadata": {
    "vscode": {
     "languageId": "r"
    }
   },
   "outputs": [],
   "source": [
    "cat(\"Coefficient directeur moyen des régressions linéaires :\",mean(df_regression_results$Pression.au.niveau.mer))"
   ]
  },
  {
   "cell_type": "markdown",
   "id": "95ede81e",
   "metadata": {
    "vscode": {
     "languageId": "r"
    }
   },
   "source": [
    "Les régressions linéaires effectuées semblent confirmer la cohérence d'un modèle $P(h) = P_{h=0} + cste$.\n",
    "\n",
    "Il est difficile de conclure et confirmer la modélisation en $\\rho gh$ de l'intercept, la valeur de $\\rho$ dépendant de la température de manière non linéaire (on a un terme qui fait intervenir à la fois l'altitude $h$ et la température $T$)."
   ]
  },
  {
   "cell_type": "markdown",
   "id": "3957687f",
   "metadata": {},
   "source": [
    "### ANOVA"
   ]
  },
  {
   "cell_type": "markdown",
   "id": "f5ef7051",
   "metadata": {},
   "source": [
    "On veut tester si les stations ont les mêmes moyennes pour les variables quantitatives telles que la vitesse du vent moyen 10min.\n",
    "\n",
    "Une ANOVA requiert l'indépendance entre les variables aléatoires et que ces variables aléatoires suivent des lois normales de même variance. On va donc considérer la vitesse du vent moyen au pas 10min car ces moyennes font intervenir des mesures d'un unique pas de temps dans l'échantillonage des données météo (3 heures).\n",
    "On fait l'hypothèse que chaque mesure sera indépendante des autres (pas de recouvrement des mesures (10min<3h), mais le fait qu'on ait une série temporelle peut remettre en cause cette supposée indépendance)."
   ]
  },
  {
   "cell_type": "code",
   "execution_count": null,
   "id": "6247fa8d",
   "metadata": {
    "vscode": {
     "languageId": "r"
    }
   },
   "outputs": [],
   "source": [
    "par(bg='white')\n",
    "boxplot(Vitesse.du.vent.moyen.10.mn ~ Nom, data = df_meteo)"
   ]
  },
  {
   "cell_type": "code",
   "execution_count": null,
   "id": "4b31572e",
   "metadata": {
    "vscode": {
     "languageId": "r"
    }
   },
   "outputs": [],
   "source": [
    "cat(\"ANOVA Vitesse du vent moyen 10min\\n\")\n",
    "aov_vitesse_vent_10mn = aov(Vitesse.du.vent.moyen.10.mn ~ Nom, df_meteo)\n",
    "print(aov_vitesse_vent_10mn)\n",
    "summary(aov_vitesse_vent_10mn)"
   ]
  },
  {
   "cell_type": "markdown",
   "id": "807509a9",
   "metadata": {},
   "source": [
    "Le test statistique de l'ANOVA (test de Fisher) donne une valeur de 14044 ce qui correspond à une p-value inférieure à $2e-16$. Pour un $\\alpha=0.001$, on rejette l'hypothèse $H_0$ qui dit que toutes les moyennes des mesures de vitesse de vent par groupe de station sont égales (intervalle de confiance à 99,9%).\n",
    "\n",
    "Cela signifie que certaines stations météo ont sont exposées en moyenne (10min) un vent plus rapide que d'autres stations. En effet, on remarque déjà dans le boxplot ci-dessus que certains territoires ont des distributions de vitesse de vent assez différentes des autres (notamment pour les territoires insulaires ou du littoral tels que DUMONT D'URVILLE, CROZET, JUAN DE NOVA, KERGUELEN ou encore NOUVELLE AMSTERDAM)."
   ]
  },
  {
   "cell_type": "markdown",
   "id": "ab6ef6aa",
   "metadata": {},
   "source": [
    "# 5. Une ACP et une PLS\n"
   ]
  },
  {
<<<<<<< HEAD
   "cell_type": "markdown",
   "id": "6131472a",
   "metadata": {
    "vscode": {
     "languageId": "r"
    }
   },
   "source": [
    "**Introduction :** On souhaite réaliser une analyse en composantes principales. Pour cela, on sélectionne un sous-ensemble du jeu de données météo total. "
   ]
  },
  {
=======
>>>>>>> 5b2cb0dfa1f3e9af2498dba7b20cace187b712ec
   "cell_type": "code",
   "execution_count": null,
   "id": "a3e6c474",
   "metadata": {
    "vscode": {
     "languageId": "r"
    }
   },
   "outputs": [],
   "source": [
    "sub <- df_meteo[df_meteo$Date > \"2021-01-01 00:00:00 UTC\" & df_meteo$Date <= \"2021-12-31 00:00:00 UTC\" & df_meteo$Nom == \"TOULOUSE-BLAGNAC\", ]"
   ]
  },
  {
   "cell_type": "markdown",
   "id": "54d73496",
   "metadata": {
    "vscode": {
     "languageId": "r"
    }
   },
   "source": [
    "On sélectionne toutes les données météo de la station de Mont-de-Marsan sur l'année 2021. Commençons par analyser le jeu de données sélectionné en regardant le nombre de colonnes avec des valeurs numériques et celles qui contiennent suffisamment de valeurs pour une analyse. "
   ]
  },
  {
   "cell_type": "code",
   "execution_count": null,
   "id": "161db887",
   "metadata": {
    "vscode": {
     "languageId": "r"
    }
   },
   "outputs": [],
   "source": [
    "for (col in colnames(sub)){\n",
    "    if (!is.numeric(sub[[col]])){\n",
    "        sub[[col]] <- NULL\n",
    "    }\n",
    "    na_frac <- sum(is.na(sub[[col]])) / nrow(sub)\n",
    "    if (na_frac > 0.2) {\n",
    "        sub[[col]] <- NULL\n",
    "    }\n",
    "}"
   ]
  },
  {
   "cell_type": "markdown",
   "id": "bb9c458e",
   "metadata": {
    "vscode": {
     "languageId": "r"
    }
   },
   "source": [
    "Puis, on supprimme les colonnes inintéressantes pour la suite."
   ]
  },
  {
   "cell_type": "code",
   "execution_count": null,
   "id": "e6b02e70",
   "metadata": {
    "vscode": {
     "languageId": "r"
    }
   },
   "outputs": [],
   "source": [
    "colonnes_a_supprimer <- c(\"Altitude\",\"EPCI..code.\",\"region..code.\",\"mois_de_l_annee\",\"Latitude\",\"Longitude\", \"ID.OMM.station\")\n",
    "\n",
    "for (col in colonnes_a_supprimer){\n",
    "    sub[[col]]<- NULL\n",
    "}\n"
   ]
  },
  {
   "cell_type": "markdown",
   "id": "8e1e3db0",
   "metadata": {
    "vscode": {
     "languageId": "r"
    }
   },
   "source": [
    "**Analyse en composantes principales**\n",
    "\n",
    "Nous souhaitons faire la PCA sur quelques variables du jeu de données précédent. Nous prenons un nombre restreint de variables autour de quelques indicateurs importants pour les prédictions météo (température, pression, humidité, point de rosée). L'objectif est de distinguer quelles variables ont le plus d'impact sur la variance des données, ainsi que des potentielles corrélations entre elles."
   ]
  },
  {
   "cell_type": "code",
   "execution_count": null,
   "id": "7205d5d6",
   "metadata": {
    "vscode": {
     "languageId": "r"
    }
   },
   "outputs": [],
   "source": [
    "vars_th <- c(\"Température\",\"Point.de.rosée\",\"Humidité\", \"Pression.station\")\n",
    "\n",
    "sub_th <- sub[, vars_th]\n",
    "\n",
    "# Nettoyage\n",
    "n_before <- nrow(sub_th)\n",
    "sub_th <- na.omit(sub_th)\n",
    "n_after  <- nrow(sub_th)\n",
    "cat(\"Lignes (avant -> après) suppression NA :\", n_before, \"->\", n_after, \"\\n\")\n",
    "if(nrow(sub_th) < 3) stop(\"Trop peu de lignes après nettoyage pour faire une ACP utile.\")\n",
    "\n",
    "# ACP\n",
    "library(FactoMineR)\n",
    "res_pca_th <- PCA(sub_th, scale.unit = TRUE, graph = FALSE)\n",
    "\n",
    "print(res_pca_th$eig)\n",
    "\n",
    "ind <- res_pca_th$ind$coord[, 1:2, drop = FALSE]   # coordonnées individus\n",
    "var <- res_pca_th$var$coord[, 1:2, drop = FALSE]   # coordonnées variables\n",
    "\n",
    "# ---- 1) Nuage de points + flèches ----\n",
    "max_ind <- max(abs(ind))\n",
    "max_var <- max(abs(var))\n",
    "sc <- ifelse(max_var == 0, 1, 0.8 * max_ind / max_var)\n",
    "\n",
    "var_len <- sqrt(var[,1]^2 + var[,2]^2)\n",
    "keep_var <- var_len > 1e-8\n",
    "\n",
    "xlim <- range(ind[,1], var[keep_var,1] * sc) * 1.1\n",
    "ylim <- range(ind[,2], var[keep_var,2] * sc) * 1.1\n",
    "\n",
    "\n",
    "\n",
    "plot(ind, pch = 19, col = \"grey40\", cex = 0.6,\n",
    "     xlab = paste0(\"PC1 (\", round(res_pca_th$eig[1,2], 1), \"%)\"),\n",
    "     ylab = paste0(\"PC2 (\", round(res_pca_th$eig[2,2], 1), \"%)\"),\n",
    "     xlim = xlim, ylim = ylim,\n",
    "     main = \"Biplot : individus + variables\")\n",
    "abline(h = 0, v = 0, col = \"grey80\")\n",
    "\n",
    "if(any(keep_var)){\n",
    "  arrows(0, 0, var[keep_var,1] * sc, var[keep_var,2] * sc,\n",
    "         length = 0.08, col = \"red\", lwd = 1.2)\n",
    "  text(var[keep_var,1] * sc * 1.06, var[keep_var,2] * sc * 1.06,\n",
    "       labels = rownames(var)[keep_var], col = \"red\", cex = 0.9)\n",
    "}\n",
    "\n",
    "theta <- seq(0, 2*pi, length = 200)\n",
    "plot(cos(theta), sin(theta), type = \"l\", lwd = 1.5, col = \"blue\",\n",
    "     xlab = paste0(\"PC1 (\", round(res_pca_th$eig[1,2], 1), \"%)\"),\n",
    "     ylab = paste0(\"PC2 (\", round(res_pca_th$eig[2,2], 1), \"%)\"),\n",
    "     asp = 1, main = \"Cercle des corrélations\")\n",
    "abline(h = 0, v = 0, col = \"grey80\")\n",
    "\n",
    "arrows(0, 0, var[keep_var,1], var[keep_var,2],\n",
    "       length = 0.08, col = \"red\", lwd = 1.2)\n",
    "text(var[keep_var,1] * 1.08, var[keep_var,2] * 1.08,\n",
    "     labels = rownames(var)[keep_var], col = \"red\", cex = 0.9)\n"
   ]
  },
  {
   "cell_type": "markdown",
   "id": "f2dfa9b0",
   "metadata": {
    "vscode": {
     "languageId": "r"
    }
   },
   "source": [
    "**Conclusion**\n",
    "\n",
<<<<<<< HEAD
    "On peut distinguer deux catégories de variables : les variables qui se projettent le plus sur la première composante principale (température et point de rosée), et celles qui se projettent plus selon la seconde (humidité et pression mesurée à la station).\n"
=======
    "Nous allons utiliser la librairie factominer. "
   ]
  },
  {
   "cell_type": "code",
   "execution_count": null,
   "id": "081def0b",
   "metadata": {
    "vscode": {
     "languageId": "r"
    }
   },
   "outputs": [],
   "source": [
    "par(bg='white')\n",
    "var.coord <- res_pca_focus$var$coord[,1:2]\n",
    "plot(var.coord, type='n',xlim=c(-2,2), ylim=c(-2,2), xlab=\"PC1\", ylab = \"PC2\")\n",
    "symbols(0,0, circles=2, inches=FALSE, add=TRUE, lwd=2)\n",
    "arrows(0,0, var.coord[,1]*2, var.coord[,2]*2, length=0.1, col='red')\n",
    "text(var.coord[,1]*1.1, var.coord[,2]*1.1, labels = rownames(var.coord), col =\"red\", cex = 0.6)\n",
    "abline(h=0, v=0, col='grey70')"
   ]
  },
  {
   "cell_type": "code",
   "execution_count": null,
   "id": "cc57706a",
   "metadata": {
    "vscode": {
     "languageId": "r"
    }
   },
   "outputs": [],
   "source": [
    "par(bg='white')\n",
    "ind.coord <- res_pca_focus$ind$coord[,1:2]\n",
    "plot(ind.coord, xlab=\"PC1\", ylab=\"PC2\", main=\"Individus - focus nuages\", pch=19, col=\"blue\")"
   ]
  },
  {
   "cell_type": "code",
   "execution_count": null,
   "id": "c3b3e368",
   "metadata": {
    "vscode": {
     "languageId": "r"
    }
   },
   "outputs": [],
   "source": [
    "# Coordonnées\n",
    "ind.coord <- res_pca_focus$ind$coord[,1:2]  # individus\n",
    "var.coord <- res_pca_focus$var$coord[,1:2]  # variables\n",
    "\n",
    "par(bg='white')\n",
    "# 1. Base plot\n",
    "plot(ind.coord[,1], ind.coord[,2],\n",
    "     xlab=\"PC1\", ylab=\"PC2\", main=\"Biplot ACP\",\n",
    "     pch=19, col=rgb(0,0,1,0.5))  # individus en bleu transparent\n",
    "abline(h=0,v=0,col=\"grey80\")\n",
    "\n",
    "# 2. Cercle de corrélation\n",
    "symbols(0,0, circles=2, inches=FALSE, add=TRUE, lwd=2, fg=\"grey50\")\n",
    "\n",
    "# 3. Vecteurs des variables\n",
    "arrows(0,0,var.coord[,1]*2,var.coord[,2]*2,length=0.1,col=\"black\", lwd=1.5)\n",
    "text(var.coord[,1]*1.1, var.coord[,2]*1.1,\n",
    "     labels=rownames(var.coord), col=\"black\", cex=0.4)\n"
>>>>>>> 5b2cb0dfa1f3e9af2498dba7b20cace187b712ec
   ]
  },
  {
   "cell_type": "markdown",
   "id": "b5f64039",
   "metadata": {
    "vscode": {
     "languageId": "r"
    }
   },
   "source": [
    "**Régression PLS**\n",
    "\n",
    "On souhaite analyser quelles variables, parmi celles du jeu de données initial, seront le plus corrélées avec les précipitation dans les dernières 24h, et trouver un modèle permettant de retrouver les précipitations dans les dernières 24h à partir de nos variables. On enlève du jeu de données les variables de précipitations autres que celles dans les dernières 24H dans le but d'expliquer les précipitations par d'autres variables. "
   ]
  },
  {
   "cell_type": "code",
   "execution_count": null,
   "id": "87a7bf87",
   "metadata": {
    "vscode": {
     "languageId": "r"
    }
   },
   "outputs": [],
   "source": [
    "library(pls)\n",
    "# install.packages(\"ggplot2\")\n",
    "library(ggplot2)\n",
    "\n",
    "\n",
    "colonnes_non_desirables <- c(\"Type.de.tendance.barométrique\",\"Précipitations.dans.les.12.dernières.heures\",\"Précipitations.dans.les.3.dernières.heures\", \"Précipitations.dans.les.6.dernières.heures\", \"Précipitations.dans.la.dernière.heure\")\n",
    "for (col in colonnes_non_desirables){\n",
    "    sub[[col]] <- NULL\n",
    "}\n",
    "\n",
    "num_cols <- sapply(sub, is.numeric)\n",
    "\n",
    "Y_col <- \"Précipitations.dans.les.24.dernières.heures\"\n",
    "if(!Y_col %in% colnames(sub)) stop(\"La colonne précipitations n'existe pas\")\n",
    "\n",
    "X <- sub[, num_cols & colnames(sub) != Y_col]\n",
    "Y <- sub[[Y_col]]\n",
    "\n",
    "na_frac <- colSums(is.na(X))/nrow(X)\n",
    "keep_cols <- names(na_frac)[na_frac <= 0.2]\n",
    "X <- X[, keep_cols, drop = FALSE]\n",
    "cat(\"Colonnes conservées :\", paste(colnames(X), collapse=\", \"), \"\\n\")\n",
    "\n",
    "\n",
    "data_pls <- na.omit(data.frame(X, Y))\n",
    "X <- data_pls[, colnames(X)]\n",
    "vars_var <- sapply(X, function(x) var(x, na.rm = TRUE))\n",
    "X <- X[, vars_var > 0, drop = FALSE]\n",
    "\n",
    "Y <- data_pls$Y\n",
    "\n",
    "cat(\"Nombre d'observations utilisées :\", nrow(data_pls), \"\\n\")\n",
    "\n",
    "pls_model <- plsr(Y ~ ., data = data.frame(X, Y), scale = TRUE, validation = \"CV\", segments = 10)\n",
    "\n",
    "summary(pls_model)\n",
    "loadings(pls_model)\n",
    "\n",
    "RMSEP_vals <- RMSEP(pls_model)$val[1,,]\n",
    "ncomp_opt <- which.min(RMSEP_vals)\n",
    "cat(\"Nombre optimal de composantes :\", ncomp_opt, \"\\n\")\n",
    "\n",
    "\n",
    "Y_pred <- as.numeric(predict(pls_model, ncomp = ncomp_opt))\n",
    "\n",
    "ggplot(data.frame(Observé = Y, Prédit = Y_pred),\n",
    "       aes(x = Observé, y = Prédit)) +\n",
    "  geom_point(color = \"blue\", alpha = 0.6) +\n",
    "  geom_abline(slope = 1, intercept = 0, color = \"red\", linetype = \"dashed\") +\n",
    "  theme_minimal() +\n",
    "  labs(title = paste(\"PLS Observé vs Prévu - ncomp =\", ncomp_opt),\n",
    "       x = \"Précipitations observées\",\n",
    "       y = \"Précipitations prédites\")\n",
    "\n",
    "\n",
    "R2 <- 1 - sum((Y - Y_pred)^2)/sum((Y - mean(Y))^2)\n",
    "cat(\"R² global :\", round(R2*100,2), \"%\\n\")\n",
    "\n"
   ]
  },
  {
   "cell_type": "markdown",
   "id": "57c624c2",
   "metadata": {
    "vscode": {
     "languageId": "r"
    }
   },
   "source": [
    "La régression obtenue n'est pas satisfaisante. Seulement 22% de la variabilité des données de précipitations des 24 dernières heures est capturée par le modèle. Cela nous indique que d'autres paramètres sont certainement à prendre en compte, et que le modèle permettant d'expliquer au mieux les précipitations est plus complexe que celui qu'on a essayé de trouver."
   ]
  },
  {
   "cell_type": "markdown",
   "id": "4956d56f",
   "metadata": {},
   "source": [
    "# 6. Une méthode de clustering\n",
    "\n",
    "Nous souhaitons effectuer un clustering sur les stations météos. Pour cela, nous créons un data frame qui contient une ligne par station météo de France métropolitaine. Dans cette data frame, nous allons mettre les valeurs moyennes et les écarts types de température et humidité sur 3 groupes de 4 mois, pour l'année 2017. Ce choix a été fait car il est important de ne pas garder trop de variables par rapport au nombre d'observations, qui ici correspondra au nombre stations. Nous aurons donc 12 variables pour 62 observations. A noter qu'il aurait été possible de sélectionner plus de variables et d'effectuer ensuite une ACP pour réduire ces variables. \n",
    "\n",
    "Nous avons décidé d'utiliser le k-means pour ce clustering, avec 4 groupes."
   ]
  },
  {
   "cell_type": "code",
   "execution_count": null,
   "id": "fae4cd69",
   "metadata": {
    "vscode": {
     "languageId": "r"
    }
   },
   "outputs": [],
   "source": [
    "#Création de la data frame avec toutes les données utiles au clustering\n",
    "data_stations <- data.frame(\n",
    "  id = df_meteo$ID.OMM.station,\n",
    "  lon = df_meteo$Longitude,\n",
    "  lat = df_meteo$Latitude,\n",
    "  Ville = df_meteo$Nom,\n",
    "  date = df_meteo$Date,\n",
    "  temp = df_meteo$Température,\n",
    "  hum = df_meteo$`Humidité`,\n",
    "  mois = df_meteo$mois_de_l_annee\n",
    ")\n",
    "\n",
    "#Récupération des coordonnées des stations\n",
    "coord_stations <- data_stations %>%\n",
    "  select(id, lon, lat, Ville) %>%\n",
    "  distinct(id, .keep_all = TRUE)\n",
    "\n",
    "#Création d'une matrice avec les mois de l'année séparés en 3: (janvier, février, mars avril),\n",
    "# (mai, juin, juillet, août) et (septembre, octobre, novembre, décembre)\n",
    "mois_par_trimestre <- matrix(1:12, ncol=4, byrow = TRUE)\n",
    "\n",
    "#Initialisation de la data frame avec les données par stations\n",
    "df_bystations <- NULL\n",
    "\n",
    "#On étudie l'année 2017\n",
    "annee_encours <- 2017\n",
    "\n",
    "#Parcours par trimestre\n",
    "for(trimestre_encours in 1:3){\n",
    "\n",
    "# On filtre pour le trimestre voulu, et on ajoute à la data frame temporaire les moyennes \n",
    "#et écart-types de température et d'humidité pour ce trimestre.\n",
    "  donnees_par_station <- data_stations %>%\n",
    "    filter(format(date,\"%Y\")==annee_encours, mois %in% as.vector(mois_par_trimestre[trimestre_encours, ])) %>%\n",
    "    group_by(id) %>%\n",
    "    summarise(temp_moyenne = mean(temp, na.rm = TRUE),\n",
    "              hum_moyenne = mean(hum, na.rm = TRUE),\n",
    "              temp_sd = sd(temp, na.rm = TRUE),\n",
    "              hum_sd = sd(hum, na.rm = TRUE)) %>%\n",
    "    ungroup()\n",
    "\n",
    "  # Création des noms de colonnes\n",
    "  nom_colonne_temp_moy <- paste0(\"moy_temp_T\", trimestre_encours, \"_\", annee_encours)\n",
    "  nom_colonne_hum_moy <- paste0(\"moy_hum_T\", trimestre_encours, \"_\", annee_encours)\n",
    "  nom_colonne_temp_sd <- paste0(\"sd_temp_T\", trimestre_encours, \"_\", annee_encours)\n",
    "  nom_colonne_hum_sd <- paste0(\"sd_hum_T\", trimestre_encours, \"_\", annee_encours)\n",
    "  \n",
    "  # On renomme les colonnes\n",
    "  colnames(donnees_par_station)[colnames(donnees_par_station) == \"temp_moyenne\"] <- nom_colonne_temp_moy\n",
    "  colnames(donnees_par_station)[colnames(donnees_par_station) == \"hum_moyenne\"] <- nom_colonne_hum_moy\n",
    "  colnames(donnees_par_station)[colnames(donnees_par_station) == \"temp_sd\"] <- nom_colonne_temp_sd\n",
    "  colnames(donnees_par_station)[colnames(donnees_par_station) == \"hum_sd\"] <- nom_colonne_hum_sd\n",
    "\n",
    "  # Fusion avec le dataframe final\n",
    "  if (is.null(df_bystations)) {\n",
    "    df_bystations <- donnees_par_station\n",
    "  } else {\n",
    "    df_bystations <- full_join(df_bystations, donnees_par_station, by = \"id\")\n",
    "  }\n",
    "\n",
    "}\n",
    "\n",
    "#Transformation de la data frame pour lui appliquer le clustering\n",
    "\n",
    "  #On stocke puis on enlève la colonne des IDs de station\n",
    "df_ids <- df_bystations$id\n",
    "df_bystations_noid <- df_bystations %>% select(-id)\n",
    "\n",
    "  # On normalise les données\n",
    "df_bystations_scaled <- as.data.frame(scale(df_bystations_noid))\n",
    "\n",
    "#On applique le k-means sur le data frame transformé\n",
    "kmeans_stations <- kmeans(df_bystations_scaled, centers=4)\n",
    "\n"
   ]
  },
  {
   "cell_type": "code",
   "execution_count": null,
   "id": "98d24fab",
   "metadata": {
    "vscode": {
     "languageId": "r"
    }
   },
   "outputs": [],
   "source": [
    "#Récupération des IDs, des groupes du clustering, et des coordonnées des stations\n",
    "# pour placer les groupes sur la carte \n",
    "\n",
    "df_bystations_scaled$id <- df_ids\n",
    "df_bystations_scaled$groupe <- kmeans_stations$cluster\n",
    "df_bystations_geo <- dplyr::left_join(df_bystations_scaled, coord_stations, by = \"id\")\n",
    "\n",
    "# Import des couleurs\n",
    "library(RColorBrewer)\n",
    "couleurs <- brewer.pal(5, \"Set1\")\n",
    "\n",
    "# Affichage sur la carte du monde \n",
    "ggplot() +\n",
    "  geom_polygon(data = world, aes(x = long, y = lat, group = group),\n",
    "               fill = \"lightgray\", color = \"white\") +\n",
    "  geom_point(data = df_bystations_geo, aes(x = lon, y = lat, color = factor(groupe)), size = 3) +\n",
    "  scale_color_manual(values = couleurs) +\n",
    "  theme_minimal() +\n",
    "  coord_fixed(ratio = 1.2) +\n",
    "  ggtitle(\"Carte des stations météo de France selon le clustering\")"
   ]
  },
  {
   "cell_type": "code",
   "execution_count": null,
   "id": "96315731",
   "metadata": {
    "vscode": {
     "languageId": "r"
    }
   },
   "outputs": [],
   "source": [
    "#Zoom sur la métropole\n",
    "\n",
    "df_stations_metropole <- df_bystations_geo[(df_bystations_geo$lat<=52)&(df_bystations_geo$lat>=42)&(df_bystations_geo$lon<=10)&(df_bystations_geo$lon>=-10),]\n",
    "\n",
    "ggplot() +\n",
    "  geom_polygon(data = france, aes(x = long, y = lat, group = group),\n",
    "               fill = \"lightgray\", color = \"white\") +\n",
    "  geom_point(data = df_stations_metropole, aes(x = lon, y = lat, color = factor(groupe)), size = 3) +\n",
    "  scale_color_manual(values = couleurs) +\n",
    "  theme_minimal() +\n",
    "  coord_fixed(ratio = 1.2) +\n",
    "  ggtitle(\"Carte des stations météo de France selon le clustering\")"
   ]
  },
  {
   "cell_type": "markdown",
   "id": "63a54eff",
   "metadata": {},
   "source": [
    "Le résultat du clustering a regroupé les stations situées plus proche de l'équateur entre elles (Guyane, Antilles, Réunion), les stations situées à une latitude de -50 ou 50 et en bord de mer entre elles(côtes bretonnes et normandes, St Pierre et Miquelon, îles kerguelen), et enfin il reste deux groupes situés en quasi-totalité en métropole: un groupe plutôt à l'intérieur des terres, et un plutôt méditerranéen. Ce clustering fait sense, les réions regroupées entre elles présentant au global des climats similaires. "
   ]
  }
 ],
 "metadata": {
  "kernelspec": {
   "display_name": "R",
   "language": "R",
   "name": "ir"
  },
  "language_info": {
   "codemirror_mode": "r",
   "file_extension": ".r",
   "mimetype": "text/x-r-source",
   "name": "R",
   "pygments_lexer": "r",
   "version": "4.3.3"
  }
 },
 "nbformat": 4,
 "nbformat_minor": 5
}
