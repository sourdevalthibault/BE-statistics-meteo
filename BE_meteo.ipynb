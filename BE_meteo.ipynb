{
 "cells": [
  {
   "cell_type": "code",
   "execution_count": null,
   "id": "8c96d803",
   "metadata": {
    "vscode": {
     "languageId": "r"
    }
   },
   "outputs": [],
   "source": [
    "BE METEO"
   ]
  },
  {
   "cell_type": "code",
   "execution_count": null,
   "id": "b2bddc28",
   "metadata": {
    "vscode": {
     "languageId": "r"
    }
   },
   "outputs": [],
   "source": [
    "#première ligne de code\n",
    "print(\"je suis content de faire le BE\")"
   ]
  },
  {
   "cell_type": "code",
   "execution_count": null,
   "id": "f6100401",
   "metadata": {
    "vscode": {
     "languageId": "r"
    }
   },
   "outputs": [],
   "source": [
    "#import du fichier csv pour Colin\n",
    "data_body <- read.table(\"a_completer/donnees-synop-essentielles-omm.csv\", # Nom du fichier à importer\n",
    "                        header=TRUE,     # Utiliser la première ligne du fichier pour les noms des colonnes\n",
    "                        sep=\";\",         # Séparateur de champs\n",
    "                        dec=\",\",         # Séparateur décimal\n",
    "                        row.names=1)"
   ]
  },
  {
   "cell_type": "code",
   "execution_count": null,
   "id": "aba2f3e4",
   "metadata": {
    "vscode": {
     "languageId": "r"
    }
   },
   "outputs": [],
   "source": [
    "#import du fichier csv pour Lise\n",
    "data_body <- read.table(\"a_completer/donnees-synop-essentielles-omm.csv\", # Nom du fichier à importer\n",
    "                        header=TRUE,     # Utiliser la première ligne du fichier pour les noms des colonnes\n",
    "                        sep=\";\",         # Séparateur de champs\n",
    "                        dec=\",\",         # Séparateur décimal\n",
    "                        row.names=1)"
   ]
  },
  {
   "cell_type": "code",
   "execution_count": null,
   "id": "513da4db",
   "metadata": {
    "vscode": {
     "languageId": "r"
    }
   },
   "outputs": [],
   "source": [
    "#import du fichier csv pour Anais\n",
    "data_body <- read.table(\"a_completer/donnees-synop-essentielles-omm.csv\", # Nom du fichier à importer\n",
    "                        header=TRUE,     # Utiliser la première ligne du fichier pour les noms des colonnes\n",
    "                        sep=\";\",         # Séparateur de champs\n",
    "                        dec=\",\",         # Séparateur décimal\n",
    "                        row.names=1)"
   ]
  },
  {
   "cell_type": "code",
   "execution_count": null,
   "id": "a9531908",
   "metadata": {
    "vscode": {
     "languageId": "r"
    }
   },
   "outputs": [],
   "source": [
    "#import du fichier csv pour Adrien\n",
    "data_body <- read.table(\"a_completer/donnees-synop-essentielles-omm.csv\", # Nom du fichier à importer\n",
    "                        header=TRUE,     # Utiliser la première ligne du fichier pour les noms des colonnes\n",
    "                        sep=\";\",         # Séparateur de champs\n",
    "                        dec=\",\",         # Séparateur décimal\n",
    "                        row.names=1)"
   ]
  },
  {
   "cell_type": "code",
   "execution_count": 4,
   "id": "9db6d76c",
   "metadata": {
    "vscode": {
     "languageId": "r"
    }
   },
   "outputs": [
    {
     "ename": "ERROR",
     "evalue": "Error in read.table(file = file, header = header, sep = sep, quote = quote, : duplicate 'row.names' are not allowed\n",
     "output_type": "error",
     "traceback": [
      "Error in read.table(file = file, header = header, sep = sep, quote = quote, : duplicate 'row.names' are not allowed\nTraceback:\n",
      "1. read.table(file = file, header = header, sep = sep, quote = quote, \n .     dec = dec, fill = fill, comment.char = comment.char, ...)",
      "2. stop(\"duplicate 'row.names' are not allowed\")",
      "3. .handleSimpleError(function (cnd) \n . {\n .     watcher$capture_plot_and_output()\n .     cnd <- sanitize_call(cnd)\n .     watcher$push(cnd)\n .     switch(on_error, continue = invokeRestart(\"eval_continue\"), \n .         stop = invokeRestart(\"eval_stop\"), error = NULL)\n . }, \"duplicate 'row.names' are not allowed\", base::quote(read.table(file = file, \n .     header = header, sep = sep, quote = quote, dec = dec, fill = fill, \n .     comment.char = comment.char, ...)))"
     ]
    }
   ],
   "source": [
    "#import du fichier csv pour Thibault\n",
    "data_body <- read.csv(\"/mnt/c/Users/Thibault/Downloads/donnees-synop-essentielles-omm.csv\", # Nom du fichier à importer\n",
    "                        header=TRUE,     # Utiliser la première ligne du fichier pour les noms des colonnes\n",
    "                        sep=\";\",         # Séparateur de champs\n",
    "                        dec=\",\",         # Séparateur décimal\n",
    "                        row.names=1)"
   ]
  }
 ],
 "metadata": {
  "kernelspec": {
   "display_name": "R",
   "language": "R",
   "name": "ir"
  },
  "language_info": {
   "codemirror_mode": "r",
   "file_extension": ".r",
   "mimetype": "text/x-r-source",
   "name": "R",
   "pygments_lexer": "r",
   "version": "4.5.1"
  }
 },
 "nbformat": 4,
 "nbformat_minor": 5
}
